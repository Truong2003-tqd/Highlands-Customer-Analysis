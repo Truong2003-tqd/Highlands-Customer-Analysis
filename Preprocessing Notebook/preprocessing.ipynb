{
 "cells": [
  {
   "cell_type": "markdown",
   "id": "a62e8f47",
   "metadata": {},
   "source": [
    "## **Fetch Data from PostgreSQL (for me)**\n",
    "\n",
    "Please delete this section and the code block below before running this notebook to avoid errors."
   ]
  },
  {
   "cell_type": "code",
   "execution_count": 1,
   "id": "84b034fa",
   "metadata": {},
   "outputs": [],
   "source": [
    "# Import PostgreSQL adapter and libraries\n",
    "import psycopg2\n",
    "import pandas as pd\n",
    "# Write connection parameters\n",
    "hostname = 'localhost'\n",
    "database = 'highlands'\n",
    "username = 'postgres'\n",
    "pwd = 'trust'\n",
    "port_id = 5432 \n",
    "# Initialize connection and cursor\n",
    "# Assign to None to avoid UnboundLocalError in finally block\n",
    "conn = None\n",
    "cur = None\n",
    "# Connect to the PostgreSQL server\n",
    "# Use try-except-finally to ensure proper cleanup\n",
    "try:\n",
    "    # Create connection with PostgreSQL database\n",
    "    conn = psycopg2.connect( \n",
    "        host=hostname,\n",
    "        dbname=database,\n",
    "        user=username,\n",
    "        password=pwd,\n",
    "        port=port_id\n",
    "    )\n",
    "\n",
    "    # Create a cursor object\n",
    "    cur = conn.cursor()\n",
    "\n",
    "    # Table name list\n",
    "    table_names = [\n",
    "        'brand_health',\n",
    "        'brand_image',\n",
    "        'companion',\n",
    "        'competitor_data_for_filter',\n",
    "        'day_of_week',\n",
    "        'day_part',\n",
    "        'need_state',\n",
    "        'segmentation_2017',\n",
    "        'survey_respondents_info'\n",
    "    ]\n",
    "\n",
    "    # Load all tables into DataFrames, assign to variables, and print first 5 rows\n",
    "    for table in table_names:\n",
    "        cur.execute(f'SELECT * FROM public.{table}')\n",
    "        rows = cur.fetchall()\n",
    "        colnames = [desc[0] for desc in cur.description]\n",
    "        df = pd.DataFrame(rows, columns=colnames)\n",
    "        globals()[table + '_df'] = df\n",
    "\n",
    "    # Commit any changes (not strictly needed for SELECT, but kept for completeness)\n",
    "    conn.commit()\n",
    "\n",
    "# Return error if any occurs\n",
    "except Exception as error:\n",
    "    print(error)\n",
    "\n",
    "# Close cursor and connection to free resources\n",
    "finally:\n",
    "    if cur is not None:\n",
    "        cur.close()\n",
    "    if conn is not None:\n",
    "        conn.close()"
   ]
  },
  {
   "cell_type": "markdown",
   "id": "554410f5",
   "metadata": {},
   "source": [
    "## **Import CSVs file (for visitors)**\n",
    "\n",
    "Detailed instruction:\n",
    "\n",
    "1. Download all tables in the data/raw folder.\n",
    "\n",
    "2. Remove '#' from the start of lines to run the code\n",
    "\n",
    "3. Replace current file patch with the downloaded dataset file path following this format:\n",
    "\n",
    "    - file_path = r'your current file path'\n",
    "\n",
    "4. Import pandas, skip if you installed this package\n",
    "\n",
    "5. Run the notebook"
   ]
  },
  {
   "cell_type": "code",
   "execution_count": 2,
   "id": "72247d04",
   "metadata": {},
   "outputs": [],
   "source": [
    "# Import csv files into DataFrames\n",
    "# Remove '#' from the start of lines to run the code\n",
    "\n",
    "#import pandas as pd # pip install pandas\n",
    "#from pandas import read_csv\n",
    "\n",
    "#file_path = r'C:\\Users\\TRUONG\\Highlands\\simple-pipeline\\data\\raw'\n",
    "\n",
    "#brand_health_df = pd.read_csv(f\"{file_path}\\\\brand_health.csv\", sep=';', engine='python')\n",
    "#brand_image_df = pd.read_csv(f\"{file_path}\\\\brand_image.csv\", sep=';', engine='python')\n",
    "#companion_df = pd.read_csv(f\"{file_path}\\\\companion.csv\", sep=';', engine='python')\n",
    "#competitor_data_for_filter_df = pd.read_csv(f\"{file_path}\\\\competitor_data_for_filter.csv\", sep=';', engine='python')\n",
    "#day_of_week_df = pd.read_csv(f\"{file_path}\\\\day_of_week.csv\", sep=';', engine='python')\n",
    "#day_part_df = pd.read_csv(f\"{file_path}\\\\day_part.csv\", sep=';', engine='python')\n",
    "#need_state_df = pd.read_csv(f\"{file_path}\\\\need_state.csv\", sep=';', engine='python')\n",
    "#segmentation_2017_df = pd.read_csv(f\"{file_path}\\\\segmentation_2017.csv\", sep=';', engine='python')\n",
    "#survey_respondents_info_df = pd.read_csv(f\"{file_path}\\\\survey_respondents_info.csv\", sep=';', engine='python')\n"
   ]
  },
  {
   "cell_type": "code",
   "execution_count": 3,
   "id": "3eee86f4",
   "metadata": {},
   "outputs": [
    {
     "name": "stdout",
     "output_type": "stream",
     "text": [
      "Brand Health:\n",
      "       ID  Year         City      Brand Spontaneous  Awareness Trial   P3M  \\\n",
      "0  345853  2018  Hồ Chí Minh  Phúc Long        None  Phúc Long  None  None   \n",
      "1  348403  2018  Hồ Chí Minh  Phúc Long        None  Phúc Long  None  None   \n",
      "2  349552  2018  Hồ Chí Minh  Phúc Long        None  Phúc Long  None  None   \n",
      "3  349764  2018  Hồ Chí Minh  Phúc Long        None  Phúc Long  None  None   \n",
      "4  350072  2018  Hồ Chí Minh  Phúc Long        None  Phúc Long  None  None   \n",
      "\n",
      "    P1M Comprehension Brand_Likability Weekly Daily  Fre#visit  PPA  Spending  \\\n",
      "0  None          None             None   None  None        NaN  NaN       NaN   \n",
      "1  None          None             None   None  None        NaN  NaN       NaN   \n",
      "2  None          None             None   None  None        NaN  NaN       NaN   \n",
      "3  None          None             None   None  None        NaN  NaN       NaN   \n",
      "4  None          None             None   None  None        NaN  NaN       NaN   \n",
      "\n",
      "  Segmentation  NPS#P3M NPS#P3M#Group  Spending_use  \n",
      "0         None      NaN          None           NaN  \n",
      "1         None      NaN          None           NaN  \n",
      "2         None      NaN          None           NaN  \n",
      "3         None      NaN          None           NaN  \n",
      "4         None      NaN          None           NaN   \n",
      "\n",
      "Brand Image:\n",
      "       ID  Year    City         Awareness      Attribute        BrandImage\n",
      "0  725118  2019  Hà Nội  Highlands Coffee  Popular brand  Highlands Coffee\n",
      "1  725466  2019  Hà Nội  Highlands Coffee  Popular brand  Highlands Coffee\n",
      "2  726561  2019  Hà Nội  Highlands Coffee  Popular brand  Highlands Coffee\n",
      "3  726862  2019  Hà Nội  Highlands Coffee  Popular brand  Highlands Coffee\n",
      "4  727219  2019  Hà Nội  Highlands Coffee  Popular brand  Highlands Coffee \n",
      "\n",
      "Companion:\n",
      "       ID    City Companion#group  Year\n",
      "0  725466  Hà Nội         Friends  2019\n",
      "1  726862  Hà Nội         Friends  2019\n",
      "2  727015  Hà Nội         Friends  2019\n",
      "3  727219  Hà Nội         Friends  2019\n",
      "4  727611  Hà Nội         Friends  2019 \n",
      "\n",
      "Competitor Data for Filter:\n",
      "   No#        Brand        City  Year  StoreCount\n",
      "0    6  Cộng Cà Phê   Hải Phòng  2017           1\n",
      "1    9  Cộng Cà Phê     Lào Cai  2017           1\n",
      "2   10  Cộng Cà Phê   Nha Trang  2017           1\n",
      "3   11  Cộng Cà Phê   Quảng Nam  2017           1\n",
      "4   12  Cộng Cà Phê  Quảng Ninh  2017           1 \n",
      "\n",
      "Day of Week:\n",
      "       ID     City Dayofweek  Visit#Dayofweek  Year Weekday#end\n",
      "0  344625  Cần Thơ    Monday              4.0  2018    Weekdays\n",
      "1  345343  Cần Thơ    Monday              4.0  2018    Weekdays\n",
      "2  346249  Cần Thơ    Monday              4.0  2018    Weekdays\n",
      "3  346725  Cần Thơ    Monday              4.0  2018    Weekdays\n",
      "4  346833  Cần Thơ    Monday              4.0  2018    Weekdays \n",
      "\n",
      "Day Part:\n",
      "       ID    City             Daypart  Visit#Daypart  Year\n",
      "0  729674  Hà Nội  5 PM - before 9 PM            2.0  2019\n",
      "1  730472  Hà Nội  5 PM - before 9 PM            2.0  2019\n",
      "2  732361  Hà Nội  5 PM - before 9 PM            2.0  2019\n",
      "3  732732  Hà Nội  5 PM - before 9 PM            2.0  2019\n",
      "4  733574  Hà Nội  5 PM - before 9 PM            2.0  2019 \n",
      "\n",
      "Need State:\n",
      "       ID    City  Year       Needstates Day#Daypart      NeedstateGroup\n",
      "0  725118  Hà Nội  2019  Drinking coffee     Overall  Drinking beverages\n",
      "1  725466  Hà Nội  2019  Drinking coffee     Overall  Drinking beverages\n",
      "2  726561  Hà Nội  2019  Drinking coffee     Overall  Drinking beverages\n",
      "3  726862  Hà Nội  2019  Drinking coffee     Overall  Drinking beverages\n",
      "4  727015  Hà Nội  2019  Drinking coffee     Overall  Drinking beverages \n",
      "\n",
      "Segmentation 2017:\n",
      "       ID                           Segmentation  Visit  Spending  \\\n",
      "0   92316  Seg.02 - Mass Asp (VND 25K - VND 59K)      4       120   \n",
      "1   96307  Seg.02 - Mass Asp (VND 25K - VND 59K)      4       120   \n",
      "2  105678  Seg.02 - Mass Asp (VND 25K - VND 59K)      4       120   \n",
      "3  106554  Seg.02 - Mass Asp (VND 25K - VND 59K)      4       120   \n",
      "4  106555  Seg.02 - Mass Asp (VND 25K - VND 59K)      4       120   \n",
      "\n",
      "          Brand  PPA  \n",
      "0  Indepentdent   30  \n",
      "1  Indepentdent   30  \n",
      "2  Indepentdent   30  \n",
      "3  Indepentdent   30  \n",
      "4  Indepentdent   30   \n",
      "\n",
      "Survey Respondents Info:\n",
      "       ID     City  Group_size   Age  MPI#Mean      TOM     BUMO  \\\n",
      "0  348226  Cần Thơ         3.0  29.0    5499.0  Other 1  Other 1   \n",
      "1  358485   Hà Nội         3.0  25.0    5499.0  Other 1  Other 1   \n",
      "2  360729  Cần Thơ         3.0  25.0    5499.0  Other 1  Other 1   \n",
      "3  360737  Cần Thơ         3.0  24.0    5499.0  Other 1  Other 1   \n",
      "4  361753  Cần Thơ         3.0  26.0    5499.0  Other 1  Other 1   \n",
      "\n",
      "  BUMO_Previous MostFavourite  Gender                              MPI#detail  \\\n",
      "0          None       Other 1  Female  From 4.5 millions to 6.49 millions VND   \n",
      "1          None       Other 1    Male  From 4.5 millions to 6.49 millions VND   \n",
      "2          None       Other 1  Female  From 4.5 millions to 6.49 millions VND   \n",
      "3          None       Other 1    Male  From 4.5 millions to 6.49 millions VND   \n",
      "4          None       Other 1    Male  From 4.5 millions to 6.49 millions VND   \n",
      "\n",
      "  Age#group   Age#Group#2                  MPI                  MPI#2  \\\n",
      "0   20 - 29  25 - 29 y.o.  VND 4.5m - VND 8.9m  2.VND 4.5m - VND 8.9m   \n",
      "1   20 - 29  25 - 29 y.o.  VND 4.5m - VND 8.9m  2.VND 4.5m - VND 8.9m   \n",
      "2   20 - 29  25 - 29 y.o.  VND 4.5m - VND 8.9m  2.VND 4.5m - VND 8.9m   \n",
      "3   20 - 29  20 - 24 y.o.  VND 4.5m - VND 8.9m  2.VND 4.5m - VND 8.9m   \n",
      "4   20 - 29  25 - 29 y.o.  VND 4.5m - VND 8.9m  2.VND 4.5m - VND 8.9m   \n",
      "\n",
      "                                          Occupation Occupation#group  Year  \\\n",
      "0  Unskilled Labor (worker, landry person, driver...      Blue Collar  2018   \n",
      "1  Unskilled Labor (worker, landry person, driver...      Blue Collar  2018   \n",
      "2  Unskilled Labor (worker, landry person, driver...      Blue Collar  2018   \n",
      "3  Skilled Labor (tailor, machinist, carpenter, e...      Blue Collar  2018   \n",
      "4  Semi-skilled labor (salesperson, waiter, photo...      Blue Collar  2018   \n",
      "\n",
      "   Col  MPI_Mean_Use  \n",
      "0    3        5499.0  \n",
      "1    3        5499.0  \n",
      "2    3        5499.0  \n",
      "3    3        5499.0  \n",
      "4    3        5499.0  \n"
     ]
    }
   ],
   "source": [
    "# Print 5 first rows of each DataFrame\n",
    "print(\"Brand Health:\")\n",
    "print(brand_health_df.head(), \"\\n\")\n",
    "\n",
    "print(\"Brand Image:\")\n",
    "print(brand_image_df.head(), \"\\n\")\n",
    "\n",
    "print(\"Companion:\")\n",
    "print(companion_df.head(), \"\\n\")\n",
    "\n",
    "print(\"Competitor Data for Filter:\")\n",
    "print(competitor_data_for_filter_df.head(), \"\\n\")\n",
    "\n",
    "print(\"Day of Week:\")\n",
    "print(day_of_week_df.head(), \"\\n\")\n",
    "\n",
    "print(\"Day Part:\")\n",
    "print(day_part_df.head(), \"\\n\")\n",
    "\n",
    "print(\"Need State:\")\n",
    "print(need_state_df.head(), \"\\n\")\n",
    "\n",
    "print(\"Segmentation 2017:\")\n",
    "print(segmentation_2017_df.head(), \"\\n\")\n",
    "\n",
    "print(\"Survey Respondents Info:\")\n",
    "print(survey_respondents_info_df.head())"
   ]
  },
  {
   "cell_type": "markdown",
   "id": "58453991",
   "metadata": {},
   "source": [
    "## Import Data Preprocessing Libraries\n",
    "\n",
    "Please pip install \"library name\" if you did not install any of them."
   ]
  },
  {
   "cell_type": "code",
   "execution_count": 4,
   "id": "85f87497",
   "metadata": {},
   "outputs": [],
   "source": [
    "# Import data preprocessing libraries\n",
    "import numpy as np\n",
    "import matplotlib.pyplot as plt\n",
    "import seaborn as sns\n",
    "from sklearn import preprocessing\n",
    "import re"
   ]
  },
  {
   "cell_type": "markdown",
   "id": "62f4b7b5",
   "metadata": {},
   "source": [
    "# **Data Preprocessing**"
   ]
  },
  {
   "cell_type": "markdown",
   "id": "ad82b1fc",
   "metadata": {},
   "source": [
    "## **Data Screening**\n",
    "\n",
    "**Goal:** Screen all rows of all table to standadize columns' names and format.\n",
    "\n",
    "    - Convert CamelCase to snake_case\".\n",
    "    - Replace '#' by '_' for readability with regex\n",
    "    - Convert all to lowercase\"\n",
    "\n",
    "**Process:** Handle the tables one by one with these key steps:\n",
    "\n",
    "    - Check unique observations of each column.\n",
    "    - Check missingness of data and fill NA with suitable methods.\n",
    "\n",
    "**Note:** Because each distinct table has different data errors, the detailed data errors and handling methods will be documented in each table section."
   ]
  },
  {
   "cell_type": "code",
   "execution_count": 5,
   "id": "85ab6587",
   "metadata": {},
   "outputs": [
    {
     "name": "stdout",
     "output_type": "stream",
     "text": [
      "['ID', 'Year', 'City', 'Brand', 'Spontaneous', 'Awareness', 'Trial', 'P3M', 'P1M', 'Comprehension', 'Brand_Likability', 'Weekly', 'Daily', 'Fre#visit', 'PPA', 'Spending', 'Segmentation', 'NPS#P3M', 'NPS#P3M#Group', 'Spending_use']\n",
      "['ID', 'Year', 'City', 'Awareness', 'Attribute', 'BrandImage']\n",
      "['ID', 'City', 'Companion#group', 'Year']\n",
      "['No#', 'Brand', 'City', 'Year', 'StoreCount']\n",
      "['ID', 'City', 'Dayofweek', 'Visit#Dayofweek', 'Year', 'Weekday#end']\n",
      "['ID', 'City', 'Daypart', 'Visit#Daypart', 'Year']\n",
      "['ID', 'City', 'Year', 'Needstates', 'Day#Daypart', 'NeedstateGroup']\n",
      "['ID', 'Segmentation', 'Visit', 'Spending', 'Brand', 'PPA']\n",
      "['ID', 'City', 'Group_size', 'Age', 'MPI#Mean', 'TOM', 'BUMO', 'BUMO_Previous', 'MostFavourite', 'Gender', 'MPI#detail', 'Age#group', 'Age#Group#2', 'MPI', 'MPI#2', 'Occupation', 'Occupation#group', 'Year', 'Col', 'MPI_Mean_Use']\n"
     ]
    }
   ],
   "source": [
    "# Check column names\n",
    "dfs = [\n",
    "    brand_health_df,\n",
    "    brand_image_df,\n",
    "    companion_df,\n",
    "    competitor_data_for_filter_df,\n",
    "    day_of_week_df,\n",
    "    day_part_df,\n",
    "    need_state_df,\n",
    "    segmentation_2017_df,\n",
    "    survey_respondents_info_df\n",
    "]\n",
    "\n",
    "for df in dfs:\n",
    "    print(list(df.columns))"
   ]
  },
  {
   "cell_type": "code",
   "execution_count": 6,
   "id": "fb73ed9d",
   "metadata": {},
   "outputs": [
    {
     "name": "stdout",
     "output_type": "stream",
     "text": [
      "['ID', 'Year', 'City', 'Brand', 'Spontaneous', 'Awareness', 'Trial', 'P3M', 'P1M', 'Comprehension', 'Brand_Likability', 'Weekly', 'Daily', 'Fre_visit', 'PPA', 'Spending', 'Segmentation', 'NPS_P3M', 'NPS_P3M_Group', 'Spending_use']\n",
      "['ID', 'Year', 'City', 'Awareness', 'Attribute', 'BrandImage']\n",
      "['ID', 'City', 'Companion_group', 'Year']\n",
      "['No_', 'Brand', 'City', 'Year', 'StoreCount']\n",
      "['ID', 'City', 'Dayofweek', 'Visit_Dayofweek', 'Year', 'Weekday_end']\n",
      "['ID', 'City', 'Daypart', 'Visit_Daypart', 'Year']\n",
      "['ID', 'City', 'Year', 'Needstates', 'Day_Daypart', 'NeedstateGroup']\n",
      "['ID', 'Segmentation', 'Visit', 'Spending', 'Brand', 'PPA']\n",
      "['ID', 'City', 'Group_size', 'Age', 'MPI_Mean', 'TOM', 'BUMO', 'BUMO_Previous', 'MostFavourite', 'Gender', 'MPI_detail', 'Age_group', 'Age_Group_2', 'MPI', 'MPI_2', 'Occupation', 'Occupation_group', 'Year', 'Col', 'MPI_Mean_Use']\n"
     ]
    }
   ],
   "source": [
    "# Apply to all columns\n",
    "for df in dfs:\n",
    "    df.columns = df.columns.str.replace('#', '_', regex=False)\n",
    "    print(list(df.columns))"
   ]
  },
  {
   "cell_type": "code",
   "execution_count": 7,
   "id": "b152c4d3",
   "metadata": {},
   "outputs": [],
   "source": [
    "# Function to split CamelCase while keeping acronyms intact\n",
    "def split_camel_case_keep_acronyms(name):\n",
    "    \"\"\"\n",
    "    Convert CamelCase to Snake_Case while keeping acronyms intact.\n",
    "    \n",
    "    Examples:\n",
    "    - 'MostFavourite' -> 'Most_Favourite'\n",
    "    - 'CustomerMPIValue' -> 'Customer_MPI_Value'\n",
    "    - 'NPSScore' -> 'NPS_Score'\n",
    "    \"\"\"\n",
    "    # Insert underscore between:\n",
    "    #   1. a lowercase letter and uppercase letter (e.g., tM -> t_M)\n",
    "    #   2. but NOT between consecutive uppercase letters (e.g., MPI stays MPI)\n",
    "    return re.sub(r'(?<=[a-z])(?=[A-Z])', '_', name)\n"
   ]
  },
  {
   "cell_type": "code",
   "execution_count": 8,
   "id": "131e38fa",
   "metadata": {},
   "outputs": [
    {
     "name": "stdout",
     "output_type": "stream",
     "text": [
      "['ID', 'Year', 'City', 'Brand', 'Spontaneous', 'Awareness', 'Trial', 'P3M', 'P1M', 'Comprehension', 'Brand_Likability', 'Weekly', 'Daily', 'Fre_visit', 'PPA', 'Spending', 'Segmentation', 'NPS_P3M', 'NPS_P3M_Group', 'Spending_use']\n",
      "['ID', 'Year', 'City', 'Awareness', 'Attribute', 'Brand_Image']\n",
      "['ID', 'City', 'Companion_group', 'Year']\n",
      "['No_', 'Brand', 'City', 'Year', 'Store_Count']\n",
      "['ID', 'City', 'Dayofweek', 'Visit_Dayofweek', 'Year', 'Weekday_end']\n",
      "['ID', 'City', 'Daypart', 'Visit_Daypart', 'Year']\n",
      "['ID', 'City', 'Year', 'Needstates', 'Day_Daypart', 'Needstate_Group']\n",
      "['ID', 'Segmentation', 'Visit', 'Spending', 'Brand', 'PPA']\n",
      "['ID', 'City', 'Group_size', 'Age', 'MPI_Mean', 'TOM', 'BUMO', 'BUMO_Previous', 'Most_Favourite', 'Gender', 'MPI_detail', 'Age_group', 'Age_Group_2', 'MPI', 'MPI_2', 'Occupation', 'Occupation_group', 'Year', 'Col', 'MPI_Mean_Use']\n"
     ]
    }
   ],
   "source": [
    "# Apply the function to all DataFrames\n",
    "for df in dfs:\n",
    "    df.columns = [split_camel_case_keep_acronyms(col) for col in df.columns]\n",
    "    print(list(df.columns))"
   ]
  },
  {
   "cell_type": "code",
   "execution_count": 9,
   "id": "0a791e99",
   "metadata": {},
   "outputs": [
    {
     "name": "stdout",
     "output_type": "stream",
     "text": [
      "['id', 'year', 'city', 'brand', 'spontaneous', 'awareness', 'trial', 'p3m', 'p1m', 'comprehension', 'brand_likability', 'weekly', 'daily', 'fre_visit', 'ppa', 'spending', 'segmentation', 'nps_p3m', 'nps_p3m_group', 'spending_use']\n",
      "['id', 'year', 'city', 'awareness', 'attribute', 'brand_image']\n",
      "['id', 'city', 'companion_group', 'year']\n",
      "['no_', 'brand', 'city', 'year', 'store_count']\n",
      "['id', 'city', 'dayofweek', 'visit_dayofweek', 'year', 'weekday_end']\n",
      "['id', 'city', 'daypart', 'visit_daypart', 'year']\n",
      "['id', 'city', 'year', 'needstates', 'day_daypart', 'needstate_group']\n",
      "['id', 'segmentation', 'visit', 'spending', 'brand', 'ppa']\n",
      "['id', 'city', 'group_size', 'age', 'mpi_mean', 'tom', 'bumo', 'bumo_previous', 'most_favourite', 'gender', 'mpi_detail', 'age_group', 'age_group_2', 'mpi', 'mpi_2', 'occupation', 'occupation_group', 'year', 'col', 'mpi_mean_use']\n"
     ]
    }
   ],
   "source": [
    "# Convert all column names to lowercase\n",
    "for df in dfs:\n",
    "    df.columns = df.columns.str.lower()\n",
    "    print(list(df.columns))"
   ]
  },
  {
   "cell_type": "code",
   "execution_count": 10,
   "id": "3190ff56",
   "metadata": {},
   "outputs": [],
   "source": [
    "# Sort all tables by ID columns\n",
    "for df in dfs:\n",
    "    id_columns = [col for col in df.columns if 'id' in col]\n",
    "    if id_columns:\n",
    "        df.sort_values(by=id_columns, inplace=True)\n",
    "        df.reset_index(drop=True, inplace=True)\n"
   ]
  },
  {
   "cell_type": "markdown",
   "id": "f397b5b1",
   "metadata": {},
   "source": [
    "## Survey Respondent Info Table\n",
    "**Description:** Table contains the infomation of each respondent including demographics info.\n",
    "\n",
    "**Key summary:**\n",
    "\n",
    "1. Given this table contains survey respondents' information, no ID should be duplicated. No duplicate is founded.\n",
    "\n",
    "2. Although the data categorized occupations into different groups, it appears to be not suitable enough. Therefore, I categorized these occupations with new group labels based on my own rationales. \n",
    "\n",
    "3. The data has a lot of missing values in mpi-related column. The missing type should be MCAR because there is no distinctive missing pattern in specific categories.\n",
    "    \n",
    "    - Missing values are filled by \"Refuse\".\n",
    "\n",
    "4. The mpi_mean column is a numeric column containing midppint value of the range in mpi_detail. For example, mpi_detail (in million VND) is  \"4.5  - 6.49\", then mean is 5499. Having checked if data follows this pattern, no error was found.\n",
    "\n",
    "5. Regarding age, its % of missingness is very small. Therefore, missing cells are filled with median of respective demographic traits (city, year, mpi).\n",
    "\n",
    "6. Missing values in bumo_previous are also filled with \"Refuse\".\n",
    "\n"
   ]
  },
  {
   "cell_type": "code",
   "execution_count": 11,
   "id": "4e4abd4a",
   "metadata": {},
   "outputs": [
    {
     "name": "stdout",
     "output_type": "stream",
     "text": [
      "      id         city  group_size   age  mpi_mean               tom  \\\n",
      "0  89100  Hồ Chí Minh         4.0  39.0       NaN   Indepedent Cafe   \n",
      "1  89101  Hồ Chí Minh         4.0  33.0       NaN   Indepedent Cafe   \n",
      "2  89102  Hồ Chí Minh         4.0  17.0       NaN  Highlands Coffee   \n",
      "3  89613  Hồ Chí Minh         3.0  55.0       NaN      Trung Nguyên   \n",
      "4  89616  Hồ Chí Minh         2.0  60.0       NaN      Trung Nguyên   \n",
      "\n",
      "                                            bumo          bumo_previous  \\\n",
      "0  Street / Half street coffee (including carts)        Indepedent Cafe   \n",
      "1                                    Saigon Café                  Effoc   \n",
      "2                               Highlands Coffee       The Coffee House   \n",
      "3                                   Trung Nguyên  Don't have any brands   \n",
      "4                                   Trung Nguyên  Don't have any brands   \n",
      "\n",
      "     most_favourite  gender mpi_detail age_group   age_group_2   mpi mpi_2  \\\n",
      "0   Indepedent Cafe  Female       None   30 - 39  35 - 39 y.o.  None  None   \n",
      "1       Saigon Café  Female       None   30 - 39  30 - 34 y.o.  None  None   \n",
      "2  Highlands Coffee    Male       None   16 - 19  16 - 19 y.o.  None  None   \n",
      "3      Trung Nguyên    Male       None   40 - 60      45+ y.o.  None  None   \n",
      "4      Trung Nguyên    Male       None   40 - 60      45+ y.o.  None  None   \n",
      "\n",
      "                                          occupation  \\\n",
      "0  Small Business (small shop owner, grocery stor...   \n",
      "1                                          Housewife   \n",
      "2                                    Pupil / Student   \n",
      "3                                 Lecturer / Teacher   \n",
      "4  Small Business (small shop owner, grocery stor...   \n",
      "\n",
      "                               occupation_group  year  col  mpi_mean_use  \n",
      "0  Self Employed - Small Business and Freelance  2017    4           NaN  \n",
      "1                                  None Working  2017    4           NaN  \n",
      "2                                  None Working  2017    4           NaN  \n",
      "3                                  White Collar  2017    3           NaN  \n",
      "4  Self Employed - Small Business and Freelance  2017    2           NaN  \n",
      "--------------------------------------------------\n",
      "                  id    group_size           age       mpi_mean          year  \\\n",
      "count   11761.000000  11746.000000  11752.000000    8044.000000  11761.000000   \n",
      "mean   443662.766006      3.287843     35.233237    7335.741671   2017.988436   \n",
      "std    267593.520685      1.332049     10.829025    4667.292681      0.784221   \n",
      "min     89100.000000      1.000000     16.000000    1499.000000   2017.000000   \n",
      "25%    138421.000000      2.000000     27.000000    5499.000000   2017.000000   \n",
      "50%    434078.000000      3.000000     34.000000    6999.000000   2018.000000   \n",
      "75%    767775.000000      4.000000     43.000000    8249.000000   2019.000000   \n",
      "max    863754.000000     35.000000     60.000000  112499.000000   2019.000000   \n",
      "\n",
      "                col   mpi_mean_use  \n",
      "count  11761.000000    8044.000000  \n",
      "mean       3.220900    7335.741671  \n",
      "std        1.105033    4667.292681  \n",
      "min        0.000000    1499.000000  \n",
      "25%        2.000000    5499.000000  \n",
      "50%        3.000000    6999.000000  \n",
      "75%        4.000000    8249.000000  \n",
      "max        5.000000  112499.000000  \n",
      "--------------------------------------------------\n",
      "<class 'pandas.core.frame.DataFrame'>\n",
      "RangeIndex: 11761 entries, 0 to 11760\n",
      "Data columns (total 20 columns):\n",
      " #   Column            Non-Null Count  Dtype  \n",
      "---  ------            --------------  -----  \n",
      " 0   id                11761 non-null  int64  \n",
      " 1   city              11761 non-null  object \n",
      " 2   group_size        11746 non-null  float64\n",
      " 3   age               11752 non-null  float64\n",
      " 4   mpi_mean          8044 non-null   float64\n",
      " 5   tom               11761 non-null  object \n",
      " 6   bumo              11761 non-null  object \n",
      " 7   bumo_previous     6096 non-null   object \n",
      " 8   most_favourite    11761 non-null  object \n",
      " 9   gender            11761 non-null  object \n",
      " 10  mpi_detail        8076 non-null   object \n",
      " 11  age_group         11752 non-null  object \n",
      " 12  age_group_2       11752 non-null  object \n",
      " 13  mpi               8044 non-null   object \n",
      " 14  mpi_2             8044 non-null   object \n",
      " 15  occupation        11761 non-null  object \n",
      " 16  occupation_group  11761 non-null  object \n",
      " 17  year              11761 non-null  int64  \n",
      " 18  col               11761 non-null  int64  \n",
      " 19  mpi_mean_use      8044 non-null   float64\n",
      "dtypes: float64(4), int64(3), object(13)\n",
      "memory usage: 1.8+ MB\n",
      "None\n"
     ]
    }
   ],
   "source": [
    "#Describe data distribution and data type\n",
    "print(survey_respondents_info_df.head())\n",
    "print(\"-\" * 50)\n",
    "print(survey_respondents_info_df.describe())\n",
    "print(\"-\" * 50)\n",
    "print(survey_respondents_info_df.info())"
   ]
  },
  {
   "cell_type": "code",
   "execution_count": 12,
   "id": "f5b3459d",
   "metadata": {},
   "outputs": [
    {
     "name": "stdout",
     "output_type": "stream",
     "text": [
      "Unique values in column 'id':\n",
      "[ 89100  89101  89102 ... 862137 862458 863754]\n",
      "\n",
      "\n",
      "Unique values in column 'city':\n",
      "['Hồ Chí Minh' 'Cần Thơ' 'Hà Nội' 'Hải Phòng' 'Đà Nẵng' 'Nha Trang']\n",
      "\n",
      "\n",
      "Unique values in column 'group_size':\n",
      "[ 4.  3.  2.  5.  1.  6.  7.  8. 10. 24.  9. 30. 35. 28. 12. 20. nan]\n",
      "\n",
      "\n",
      "Unique values in column 'age':\n",
      "[39. 33. 17. 55. 60. 19. 49. 53. 50. 36. 27. 44. 47. 40. 18. 57. 35. 38.\n",
      " 51. 31. 20. 30. 32. 52. 34. 46. 48. 37. 24. 41. 26. 43. 59. 23. 45. 56.\n",
      " 58. 25. 22. 42. 21. 29. 28. 54. 16. nan]\n",
      "\n",
      "\n",
      "Unique values in column 'mpi_mean':\n",
      "[    nan   6999.   1499.  10499.   3749.   5499.  17499.   8249.  22499.\n",
      "  13499. 112499.  27499.  37499.  59999.]\n",
      "\n",
      "\n",
      "Unique values in column 'tom':\n",
      "['Indepedent Cafe' 'Highlands Coffee' 'Trung Nguyên'\n",
      " 'Street / Half street coffee (including carts)' 'Phúc Long' 'Milano'\n",
      " 'Other Branded Cafe Chain' 'Gong Cha' 'The Coffee House' 'Passio'\n",
      " 'KOI cafe' 'Effoc' 'Starbucks' 'Maxx Coffee' 'Cộng Cà Phê'\n",
      " 'Urban Station' 'Thức Coffee' 'The Coffee Factory'\n",
      " 'Coffee Bean & Tea Leaf' 'Other 1' 'Viva Star' 'Other 2' 'Aha Cafe'\n",
      " 'Long Cafe' 'Nia cafe' 'Runam cafe' 'Other 3' 'Mộc Miên' 'BonPas'\n",
      " 'Mê Trang' 'Cheese Coffee' 'The Cups Coffee']\n",
      "\n",
      "\n",
      "Unique values in column 'bumo':\n",
      "['Street / Half street coffee (including carts)' 'Saigon Café'\n",
      " 'Highlands Coffee' 'Trung Nguyên' 'Indepedent Cafe' 'Milano'\n",
      " 'The Coffee House' 'Phúc Long' 'Gong Cha' 'Coffee Bean & Tea Leaf'\n",
      " 'Thức Coffee' 'Other Branded Cafe Chain' 'Passio' 'Effoc' 'Starbucks'\n",
      " 'Urban Station' 'Maxx Coffee' 'Cộng Cà Phê' 'KOI cafe' 'Other 1'\n",
      " 'Other 2' 'Viva Star' 'Aha Cafe' 'Long Cafe' 'Đen Đá' 'Other 3'\n",
      " 'Nia cafe' 'Runam cafe' 'BonPas' 'Mộc Miên' 'Mê Trang' 'Cheese Coffee'\n",
      " 'The Cups Coffee']\n",
      "\n",
      "\n",
      "Unique values in column 'bumo_previous':\n",
      "['Indepedent Cafe' 'Effoc' 'The Coffee House' \"Don't have any brands\"\n",
      " 'Trung Nguyên' 'Street / Half street coffee (including carts)' 'Milano'\n",
      " 'Highlands Coffee' 'Phúc Long' 'Coffee Bean & Tea Leaf' 'Thức Coffee'\n",
      " 'Passio' 'Other Branded Cafe Chain' 'Urban Station' 'Cộng Cà Phê'\n",
      " 'Maxx Coffee' 'Saigon Café' 'KOI cafe' 'Starbucks' 'Gong Cha' 'Other 3'\n",
      " None 'Other 2' 'Other 1' 'Aha Cafe' 'BonPas' 'Long Cafe' 'Viva Star'\n",
      " 'Mộc Miên' 'Runam cafe' 'Mê Trang' 'Đen Đá' 'Nia cafe']\n",
      "\n",
      "\n",
      "Unique values in column 'most_favourite':\n",
      "['Indepedent Cafe' 'Saigon Café' 'Highlands Coffee' 'Trung Nguyên'\n",
      " 'Street / Half street coffee (including carts)' 'Phúc Long'\n",
      " 'Urban Station' 'The Coffee House' 'Milano' 'Other Branded Cafe Chain'\n",
      " 'Gong Cha' 'Coffee Bean & Tea Leaf' 'Thức Coffee' 'Starbucks' 'Passio'\n",
      " 'The Coffee Factory' 'KOI cafe' 'Maxx Coffee' 'Cộng Cà Phê' 'Effoc'\n",
      " 'Other 1' 'Other 2' 'Other 3' 'Mộc Miên' 'Viva Star' 'Aha Cafe'\n",
      " 'Long Cafe' 'Đen Đá' 'Nia cafe' 'BonPas' 'Runam cafe' 'Mê Trang'\n",
      " 'Cheese Coffee' 'The Cups Coffee']\n",
      "\n",
      "\n",
      "Unique values in column 'gender':\n",
      "['Female' 'Male']\n",
      "\n",
      "\n",
      "Unique values in column 'mpi_detail':\n",
      "[None 'From 6.5 millions to 7.49 millions VND' 'Under 3 millions VND'\n",
      " 'From 9 millions to 11.99 millions VND'\n",
      " 'From 3 millions to 4.49 millions VND'\n",
      " 'From 4.5 millions to 6.49 millions VND'\n",
      " 'From 15 millions to 19.99 millions VND'\n",
      " 'From 7.5 millions to 8.99 millions VND'\n",
      " 'From 20 millions to 24.99 millions VND'\n",
      " 'From 12 millions to 14.99 millions VND'\n",
      " 'From 75 million to VND 149.99 million VND'\n",
      " 'From 25 millions to 29.99 millions VND'\n",
      " 'From 30 millions to 44.99 millions VND' 'Refuse'\n",
      " 'From 45 millions to 74.99 millions VND']\n",
      "\n",
      "\n",
      "Unique values in column 'age_group':\n",
      "['30 - 39' '16 - 19' '40 - 60' '20 - 29' None]\n",
      "\n",
      "\n",
      "Unique values in column 'age_group_2':\n",
      "['35 - 39 y.o.' '30 - 34 y.o.' '16 - 19 y.o.' '45+ y.o.' '25 - 29 y.o.'\n",
      " '40 - 44 y.o.' '20 - 24 y.o.' None]\n",
      "\n",
      "\n",
      "Unique values in column 'mpi':\n",
      "[None 'VND 4.5m - VND 8.9m' 'Under VND 4.5m' 'VND 9m - VND 14.9m'\n",
      " 'VND 15m - VND 24.9m' 'VND 25m+']\n",
      "\n",
      "\n",
      "Unique values in column 'mpi_2':\n",
      "[None '2.VND 4.5m - VND 8.9m' '1.Under VND 4.5m' '3.VND 9m - VND 14.9m'\n",
      " '4.VND 15m - VND 24.9m' '5.VND 25m+']\n",
      "\n",
      "\n",
      "Unique values in column 'occupation':\n",
      "['Small Business (small shop owner, grocery store, etc.)' 'Housewife'\n",
      " 'Pupil / Student' 'Lecturer / Teacher'\n",
      " 'Unskilled Labor (worker, landry person, driver, security guard, cleaner)'\n",
      " 'Officer - Staff level' 'Freelance'\n",
      " 'Self Employed \\xa0- Company owner (under 10 employees)'\n",
      " 'Skilled Labor (tailor, machinist, carpenter, electrician)'\n",
      " 'Semi-skilled labor (salesperson, waiter, photographer)' 'Retirement'\n",
      " 'Professional (doctor, engineer, architect, nursing staff, lawyer, researcher, etc.)'\n",
      " 'Refuse' 'Civil servant - Staff level'\n",
      " 'Agriculture / Forestry (Fishing, planting, farming)'\n",
      " 'Officer - Senior Management' 'Military / Police' 'Other'\n",
      " 'Officer - Middle Management'\n",
      " 'Artist (actor/actress, singer, painter, model)'\n",
      " 'Civil servant \\xa0- Senior Management' 'Job hunting'\n",
      " 'Broker/ Service provider with no employee' 'Unemployed'\n",
      " 'Junior Manager / Executive' 'Business Owner with less than 10 employees'\n",
      " 'Self Employed - Company owner (10 - 20 employees)'\n",
      " 'Civil servant \\xa0- Middle Management']\n",
      "\n",
      "\n",
      "Unique values in column 'occupation_group':\n",
      "['Self Employed - Small Business and Freelance' 'None Working'\n",
      " 'White Collar' 'Blue Collar' 'Self Employed - Company Owner' 'Refuse'\n",
      " 'Other Occupations']\n",
      "\n",
      "\n",
      "Unique values in column 'year':\n",
      "[2017 2018 2019]\n",
      "\n",
      "\n",
      "Unique values in column 'col':\n",
      "[4 3 2 5 1 0]\n",
      "\n",
      "\n",
      "Unique values in column 'mpi_mean_use':\n",
      "[    nan   6999.   1499.  10499.   3749.   5499.  17499.   8249.  22499.\n",
      "  13499. 112499.  27499.  37499.  59999.]\n",
      "\n",
      "\n"
     ]
    }
   ],
   "source": [
    "# Check unique values in columns\n",
    "for column_name in survey_respondents_info_df.columns:\n",
    "    print(f\"Unique values in column '{column_name}':\")\n",
    "    print(survey_respondents_info_df[column_name].unique())\n",
    "    print(\"\\n\")"
   ]
  },
  {
   "cell_type": "markdown",
   "id": "3ab78776",
   "metadata": {},
   "source": [
    "### **Check ID uniqueness**"
   ]
  },
  {
   "cell_type": "code",
   "execution_count": 13,
   "id": "3b6bbc69",
   "metadata": {},
   "outputs": [],
   "source": [
    "# Create a function to check ID uniqueness\n",
    "def check_id_uniqueness(df, id_column='id'):\n",
    "    \"\"\"\n",
    "    Check if the specified ID column in a DataFrame contains unique values.\n",
    "    Prints duplicate IDs and their counts if any are found.\n",
    "    \"\"\"\n",
    "\n",
    "    \"\"\"\n",
    "    Steps:\n",
    "    1. Count frequency of each ID.\n",
    "    2. If all frequencies are 1, IDs are unique.\n",
    "    3. If any frequency > 1, there are duplicate IDs.\n",
    "    4. Print duplicate IDs with their counts.\n",
    "    \"\"\"\n",
    "    # Step 1: Count frequency of each ID\n",
    "    id_counts = df[id_column].value_counts()\n",
    "\n",
    "    # Step 2: Check if all IDs are unique\n",
    "    if (id_counts == 1).all():\n",
    "        print(\"All IDs are unique.\")\n",
    "    else:\n",
    "        print(\"Duplicate IDs found!\")\n",
    "\n",
    "        # Step 3: Filter IDs where frequency > 1\n",
    "        duplicates = id_counts[id_counts > 1]\n",
    "\n",
    "        # Step 4: Print duplicate IDs and their counts\n",
    "        print(\"\\nDuplicated IDs and their counts:\")\n",
    "        print(duplicates)"
   ]
  },
  {
   "cell_type": "code",
   "execution_count": 14,
   "id": "13b939d1",
   "metadata": {},
   "outputs": [
    {
     "name": "stdout",
     "output_type": "stream",
     "text": [
      "All IDs are unique.\n"
     ]
    }
   ],
   "source": [
    "# Check uniqueness of 'id' column in survey_respondents_info_df\n",
    "check_id_uniqueness(survey_respondents_info_df, id_column='id')"
   ]
  },
  {
   "cell_type": "markdown",
   "id": "cdf0b26a",
   "metadata": {},
   "source": [
    "### **Create New Categories for Occupations**"
   ]
  },
  {
   "cell_type": "code",
   "execution_count": 15,
   "id": "f982b327",
   "metadata": {},
   "outputs": [],
   "source": [
    "# Create a job mapping dictionary \n",
    "job_mapping = {\n",
    "        'Unskilled Labor (worker, landry person, driver, security guard, cleaner)': 'Unskilled Labor',\n",
    "        'Skilled Labor (tailor, machinist, carpenter, electrician)': 'Skilled Labor',\n",
    "        'Semi-skilled labor (salesperson, waiter, photographer)': 'Semi-skilled Labor',\n",
    "        'Agriculture / Forestry (Fishing, planting, farming)': 'Semi-skilled Labor',\n",
    "        'Officer - Staff level': 'Office Worker',\n",
    "        'Junior Manager / Executive': 'Office Worker',\n",
    "        'Officer - Middle Management': 'Office Worker',\n",
    "        'Officer - Senior Management': 'Office Worker',\n",
    "        'Civil servant - Staff level': 'Office Worker',\n",
    "        'Civil servant  - Middle Management': 'Office Worker',\n",
    "        'Civil servant  - Senior Management': 'Office Worker',\n",
    "        'Military / Police': 'Office Worker',\n",
    "        'Lecturer / Teacher': 'Professional Roles',\n",
    "        'Professional (doctor, engineer, architect, nursing staff, lawyer, researcher, etc.)': 'Professional Roles',\n",
    "        'Small Business (small shop owner, grocery store, etc.)': 'SME Business Owner',\n",
    "        'Business Owner with less than 10 employees': 'SME Business Owner',\n",
    "        'Self Employed  - Company owner (under 10 employees)': 'SME Business Owner',\n",
    "        'Self Employed - Company owner (10 - 20 employees)': 'SME Business Owner',\n",
    "        'Broker/ Service provider with no employee': 'Artist, Broker & Freelancer',\n",
    "        'Artist (actor/actress, singer, painter, model)': 'Artist, Broker & Freelancer',\n",
    "        'Freelance': 'Artist, Broker & Freelancer',\n",
    "        'Housewife': 'Non-working',\n",
    "        'Retirement': 'Non-working',\n",
    "        'Pupil / Student': 'Student',\n",
    "        'Unemployed': 'Non-working',\n",
    "        'Job hunting': 'Non-working',\n",
    "        'Refuse': 'Refuse',\n",
    "        'Other': 'Refuse'\n",
    "    }"
   ]
  },
  {
   "cell_type": "code",
   "execution_count": 16,
   "id": "3d010276",
   "metadata": {},
   "outputs": [
    {
     "name": "stdout",
     "output_type": "stream",
     "text": [
      "Count Frequencies of Each Occupation:\n",
      "standardized_occupation\n",
      "Office Worker                  2238\n",
      "Unskilled Labor                1994\n",
      "Non-working                    1765\n",
      "SME Business Owner             1299\n",
      "Student                        1235\n",
      "Skilled Labor                  1103\n",
      "Artist, Broker & Freelancer     950\n",
      "Professional Roles              601\n",
      "Semi-skilled Labor              555\n",
      "Refuse                           21\n",
      "Name: count, dtype: int64\n"
     ]
    }
   ],
   "source": [
    "# Create new occupation group\n",
    "survey_respondents_info_df['standardized_occupation'] = survey_respondents_info_df['occupation'].map(job_mapping)\n",
    "\n",
    "# Count frequency of each group\n",
    "count_standardized_occupation = survey_respondents_info_df['standardized_occupation'].value_counts()\n",
    "print(f\"Count Frequencies of Each Occupation:\\n{count_standardized_occupation}\")"
   ]
  },
  {
   "cell_type": "markdown",
   "id": "df06c28d",
   "metadata": {},
   "source": [
    "### **Handle Missing Values**"
   ]
  },
  {
   "cell_type": "code",
   "execution_count": 17,
   "id": "b1ed0511",
   "metadata": {},
   "outputs": [
    {
     "name": "stdout",
     "output_type": "stream",
     "text": [
      "Summary Table of Missing Values:\n",
      "                         Number of Missing  Percentage of Missing\n",
      "Column                                                           \n",
      "bumo_previous                         5665                  48.17\n",
      "mpi                                   3717                  31.60\n",
      "mpi_2                                 3717                  31.60\n",
      "mpi_mean_use                          3717                  31.60\n",
      "mpi_mean                              3717                  31.60\n",
      "mpi_detail                            3685                  31.33\n",
      "group_size                              15                   0.13\n",
      "age                                      9                   0.08\n",
      "age_group                                9                   0.08\n",
      "age_group_2                              9                   0.08\n",
      "id                                       0                   0.00\n",
      "city                                     0                   0.00\n",
      "most_favourite                           0                   0.00\n",
      "gender                                   0                   0.00\n",
      "tom                                      0                   0.00\n",
      "bumo                                     0                   0.00\n",
      "occupation                               0                   0.00\n",
      "occupation_group                         0                   0.00\n",
      "year                                     0                   0.00\n",
      "col                                      0                   0.00\n",
      "standardized_occupation                  0                   0.00\n"
     ]
    }
   ],
   "source": [
    "# Missingness summary,\n",
    "miss_summary = (\n",
    "    survey_respondents_info_df.isna()\n",
    "    .sum()\n",
    "    .rename(\"Number of Missing\")\n",
    "    .to_frame()\n",
    ")\n",
    "miss_summary[\"Percentage of Missing\"] = (miss_summary[\"Number of Missing\"] / len(survey_respondents_info_df) * 100).round(2)\n",
    "miss_summary = miss_summary.rename_axis(\"Column\")\n",
    "print(\"Summary Table of Missing Values:\")\n",
    "print(miss_summary.sort_values(\"Number of Missing\", ascending=False))"
   ]
  },
  {
   "cell_type": "markdown",
   "id": "2cb60444",
   "metadata": {},
   "source": [
    "#### **Standardize data labels**"
   ]
  },
  {
   "cell_type": "code",
   "execution_count": 18,
   "id": "b9e3eaa8",
   "metadata": {},
   "outputs": [
    {
     "name": "stdout",
     "output_type": "stream",
     "text": [
      "Unique values after standardization:\n",
      "[None ' 6.5  - 7.49  ' '0 - 2.99  ' ' 9  - 11.99  ' ' 3  - 4.49  '\n",
      " ' 4.5  - 6.49  ' ' 15  - 19.99  ' ' 7.5  - 8.99  ' ' 20  - 24.99  '\n",
      " ' 12  - 14.99  ' ' 75  -  149.99  ' ' 25  - 29.99  ' ' 30  - 44.99  '\n",
      " 'Refuse' ' 45  - 74.99  ']\n"
     ]
    }
   ],
   "source": [
    "# Standardize MPI detail,\n",
    "replacement = {\"From\" : \"\",  \"to\" :  \"-\" ,  \"millions\": \"\", \"million\": \"\",  \"VND\": \"\", \"Under\" : \"<\", \"< 3\": \"0 - 2.99\"}\n",
    "for old_words, new_words in replacement.items():\n",
    "    survey_respondents_info_df['mpi_detail'] = survey_respondents_info_df['mpi_detail'].str.replace(old_words, new_words)\n",
    "\n",
    "print(\"Unique values after standardization:\"),\n",
    "print(survey_respondents_info_df['mpi_detail'].unique())"
   ]
  },
  {
   "cell_type": "code",
   "execution_count": 19,
   "id": "b69b48a6",
   "metadata": {},
   "outputs": [
    {
     "name": "stdout",
     "output_type": "stream",
     "text": [
      "Unique values after standardization:\n",
      "[None ' 4.5 -  8.9' '<  4.5' ' 9 -  14.9' ' 15 -  24.9' ' 25+']\n"
     ]
    }
   ],
   "source": [
    "# Standardize MP\n",
    "replacement = {\"From\" : \"\",  \"to\" :  \"-\" ,  \"m\": \"\",  \"VND\": \"\", \"Under\" : \"<\", \"< 4.5\": \"0 - 4.49\"}\n",
    "for old_words, new_words in replacement.items():\n",
    "    survey_respondents_info_df['mpi'] = survey_respondents_info_df['mpi'].str.replace(old_words, new_words)\n",
    "    \n",
    "print(\"Unique values after standardization:\")\n",
    "print(survey_respondents_info_df['mpi'].unique())"
   ]
  },
  {
   "cell_type": "markdown",
   "id": "52c294bf",
   "metadata": {},
   "source": [
    "#### **Check mpi_mean Values vs mpi_detail Midpoint**"
   ]
  },
  {
   "cell_type": "code",
   "execution_count": 20,
   "id": "290c0ebc",
   "metadata": {},
   "outputs": [
    {
     "name": "stdout",
     "output_type": "stream",
     "text": [
      "MPI mean matches MPI detail midpoint for all records.\n"
     ]
    }
   ],
   "source": [
    "# Check if MPI means the same as MPI detail\n",
    "\n",
    "# Step 1: Split MPI detail into 2 columns, delimited by \" - \"\n",
    "mpi_split = survey_respondents_info_df['mpi_detail'].str.split(' - ', expand=True)\n",
    "mpi_split.columns = ['mpi_detail_min', 'mpi_detail_max']\n",
    "\n",
    "# Step 2: Calculate the midpoint of MPI detail ranges with 2 new columns\n",
    "mpi_split['mpi_detail_min'] = (\n",
    "    mpi_split['mpi_detail_min']\n",
    "    .replace('Refuse', np.nan)   # Replace text \"Refuse\" with NaN\n",
    "    .astype(float)                # Convert to float\n",
    ")\n",
    "\n",
    "mpi_split['mpi_detail_max'] = (\n",
    "    mpi_split['mpi_detail_max']\n",
    "    .replace('Refuse', np.nan)   # Replace text \"Refuse\" with NaN\n",
    "    .astype(float)                # Convert to float\n",
    ")\n",
    "\n",
    "mpi_split['mpi_detail_mid'] = (mpi_split['mpi_detail_min'] + mpi_split['mpi_detail_max']) / 2 # Calculate midpoint\n",
    "\n",
    "# Step 3: Add MPI mean column to mpi_split for comparison\n",
    "mpi_split['mpi_mean'] = survey_respondents_info_df['mpi_mean'].round(3).astype(float)\n",
    "mpi_split['mpi_detail_mid'] = mpi_split['mpi_detail_mid'].round(3) * 1000\n",
    "\n",
    "# Step 4: Compare the midpoint with MPI mean\n",
    "mpi_split['mpi_diff'] = survey_respondents_info_df['mpi_mean'] - mpi_split['mpi_detail_mid']\n",
    "\n",
    "# Step 5: Check differences\n",
    "if mpi_split['mpi_diff'].abs().max() <= 4:\n",
    "    print(\"MPI mean matches MPI detail midpoint for all records.\")  \n",
    "else:\n",
    "    print(\"Discrepancies found between MPI mean and MPI detail midpoint.\")\n",
    "    print(mpi_split[mpi_split['mpi_diff'].abs() > 4])"
   ]
  },
  {
   "cell_type": "markdown",
   "id": "aee02cef",
   "metadata": {},
   "source": [
    "#### **Impute MPI-related Columns**"
   ]
  },
  {
   "cell_type": "code",
   "execution_count": 21,
   "id": "8b11922d",
   "metadata": {},
   "outputs": [
    {
     "name": "stdout",
     "output_type": "stream",
     "text": [
      "Missing Values Summary After Imputation:\n",
      "mpi_detail    0\n",
      "mpi           0\n",
      "mpi_mean      0\n",
      "dtype: int64\n"
     ]
    }
   ],
   "source": [
    "# Replace missing values in mpi_detail and mpi with \"Refuse\"\n",
    "survey_respondents_info_df['mpi_detail'] = survey_respondents_info_df['mpi_detail'].fillna('Refuse')\n",
    "survey_respondents_info_df['mpi'] = survey_respondents_info_df['mpi'].fillna('Refuse')\n",
    "\n",
    "# Replace missing values in mpi_mean with \"0\"\n",
    "survey_respondents_info_df['mpi_mean'] = survey_respondents_info_df['mpi_mean'].fillna(0)\n",
    "\n",
    "# Missing values summary\n",
    "print(\"Missing Values Summary After Imputation:\")\n",
    "print(survey_respondents_info_df[['mpi_detail','mpi','mpi_mean']].isna().sum())"
   ]
  },
  {
   "cell_type": "markdown",
   "id": "69abaeec",
   "metadata": {},
   "source": [
    "#### **Impute Age-related Columns**"
   ]
  },
  {
   "cell_type": "code",
   "execution_count": 22,
   "id": "7733eabf",
   "metadata": {},
   "outputs": [
    {
     "name": "stdout",
     "output_type": "stream",
     "text": [
      "Missing before: 9\n",
      "Missing after : 0\n"
     ]
    }
   ],
   "source": [
    "# Step 1: Impute missing age values using median age of groups defined by demographics\n",
    "\n",
    "# Select demographics for grouping\n",
    "demographics = ['mpi_detail', 'occupation', 'city']\n",
    "\n",
    "# Calculate median age by group\n",
    "median_by_group = survey_respondents_info_df.groupby(demographics, dropna=True)['age'].transform('median')\n",
    "\n",
    "# Impute missing age values with group median\n",
    "survey_respondents_info_df['age_imputed'] = survey_respondents_info_df['age'].fillna(median_by_group)\n",
    "\n",
    "#check number of missing values before and after imputation\n",
    "print(\"Missing before:\", survey_respondents_info_df['age'].isna().sum())\n",
    "print(\"Missing after :\", survey_respondents_info_df['age_imputed'].isna().sum())"
   ]
  },
  {
   "cell_type": "code",
   "execution_count": 23,
   "id": "d06e4377",
   "metadata": {},
   "outputs": [],
   "source": [
    "# Step 2: Categorize the age to age_sub_group and age_group\n",
    "\n",
    "# Create bins and labels for age_group and age_sub_group\n",
    "age_group_bins = [15, 19, 29, 39, np.inf]\n",
    "age_group_labels = ['16 - 19', '20 - 29', '30 - 39', '40 - 60']\n",
    "age_sub_group_bins = [15, 19, 24, 29, 34, 39, 44, np.inf] \n",
    "age_sub_group_labels = ['16 - 19', '20 - 24', '25 - 29', '30 - 34', '35 - 39', '40 - 44', '45+']\n",
    "\n",
    "# Categorize age_imputed into age_sub_group and age_group\n",
    "survey_respondents_info_df['age_group_new'] = pd.cut(survey_respondents_info_df['age_imputed'], bins=age_group_bins, labels=age_group_labels, right=True, include_lowest=False)\n",
    "survey_respondents_info_df['age_sub_group'] = pd.cut(survey_respondents_info_df['age_imputed'], bins=age_sub_group_bins, labels=age_sub_group_labels, right=True, include_lowest=False)\n"
   ]
  },
  {
   "cell_type": "code",
   "execution_count": 24,
   "id": "d6c26268",
   "metadata": {},
   "outputs": [],
   "source": [
    "# Replace missing values in \"bumo_previous\" \n",
    "survey_respondents_info_df['bumo_previous'] = survey_respondents_info_df['bumo_previous'].fillna('Refuse')\n",
    "\n"
   ]
  },
  {
   "cell_type": "markdown",
   "id": "84fe4771",
   "metadata": {},
   "source": [
    "#### **Impute Missing 'group_size' with Its Mode**"
   ]
  },
  {
   "cell_type": "code",
   "execution_count": 25,
   "id": "515c4226",
   "metadata": {},
   "outputs": [
    {
     "name": "stdout",
     "output_type": "stream",
     "text": [
      "Missing before: 15\n",
      "Missing after : 0\n"
     ]
    }
   ],
   "source": [
    "# Calculate mode group_size\n",
    "mode_by_group = survey_respondents_info_df['group_size'].mode()[0]\n",
    "# Impute missing group_size values its mode\n",
    "survey_respondents_info_df['group_size_imputed'] = survey_respondents_info_df['group_size'].fillna(mode_by_group)\n",
    "\n",
    "#check number of missing values before and after imputation\n",
    "print(\"Missing before:\", survey_respondents_info_df['group_size'].isna().sum())\n",
    "print(\"Missing after :\", survey_respondents_info_df['group_size_imputed'].isna().sum())"
   ]
  },
  {
   "cell_type": "markdown",
   "id": "07778949",
   "metadata": {},
   "source": [
    "#### **Check Missingness After Imputation**"
   ]
  },
  {
   "cell_type": "code",
   "execution_count": 26,
   "id": "1b09c0ef",
   "metadata": {},
   "outputs": [
    {
     "name": "stdout",
     "output_type": "stream",
     "text": [
      "Summary Table of Missing Values:\n",
      "                         Number of Missing  Percentage of Missing\n",
      "Column                                                           \n",
      "mpi_2                                 3717                  31.60\n",
      "mpi_mean_use                          3717                  31.60\n",
      "group_size                              15                   0.13\n",
      "age                                      9                   0.08\n",
      "age_group                                9                   0.08\n",
      "age_group_2                              9                   0.08\n",
      "id                                       0                   0.00\n",
      "city                                     0                   0.00\n",
      "mpi_mean                                 0                   0.00\n",
      "most_favourite                           0                   0.00\n",
      "bumo_previous                            0                   0.00\n",
      "bumo                                     0                   0.00\n",
      "tom                                      0                   0.00\n",
      "gender                                   0                   0.00\n",
      "mpi                                      0                   0.00\n",
      "occupation                               0                   0.00\n",
      "mpi_detail                               0                   0.00\n",
      "occupation_group                         0                   0.00\n",
      "year                                     0                   0.00\n",
      "col                                      0                   0.00\n",
      "standardized_occupation                  0                   0.00\n",
      "age_imputed                              0                   0.00\n",
      "age_group_new                            0                   0.00\n",
      "age_sub_group                            0                   0.00\n",
      "group_size_imputed                       0                   0.00\n"
     ]
    }
   ],
   "source": [
    "# Missingness summary\n",
    "miss_summary = (\n",
    "    survey_respondents_info_df.isna()\n",
    "    .sum()\n",
    "    .rename(\"Number of Missing\")\n",
    "    .to_frame()\n",
    ")\n",
    "miss_summary[\"Percentage of Missing\"] = (miss_summary[\"Number of Missing\"] / len(survey_respondents_info_df) * 100).round(2)\n",
    "miss_summary = miss_summary.rename_axis(\"Column\")\n",
    "print(\"Summary Table of Missing Values:\")\n",
    "print(miss_summary.sort_values(\"Number of Missing\", ascending=False))"
   ]
  },
  {
   "cell_type": "markdown",
   "id": "d57dd94e",
   "metadata": {},
   "source": [
    "#### **Table Formatting**"
   ]
  },
  {
   "cell_type": "code",
   "execution_count": 27,
   "id": "2e495448",
   "metadata": {},
   "outputs": [
    {
     "name": "stdout",
     "output_type": "stream",
     "text": [
      "      id  gender         city  year  group_size               tom  \\\n",
      "0  89100  Female  Hồ Chí Minh  2017         4.0   Indepedent Cafe   \n",
      "1  89101  Female  Hồ Chí Minh  2017         4.0   Indepedent Cafe   \n",
      "2  89102    Male  Hồ Chí Minh  2017         4.0  Highlands Coffee   \n",
      "3  89613    Male  Hồ Chí Minh  2017         3.0      Trung Nguyên   \n",
      "4  89616    Male  Hồ Chí Minh  2017         2.0      Trung Nguyên   \n",
      "\n",
      "                                            bumo          bumo_previous  \\\n",
      "0  Street / Half street coffee (including carts)        Indepedent Cafe   \n",
      "1                                    Saigon Café                  Effoc   \n",
      "2                               Highlands Coffee       The Coffee House   \n",
      "3                                   Trung Nguyên  Don't have any brands   \n",
      "4                                   Trung Nguyên  Don't have any brands   \n",
      "\n",
      "     most_favourite   age age_group age_sub_group     mpi mpi_detail  \\\n",
      "0   Indepedent Cafe  39.0   30 - 39       35 - 39  Refuse     Refuse   \n",
      "1       Saigon Café  33.0   30 - 39       30 - 34  Refuse     Refuse   \n",
      "2  Highlands Coffee  17.0   16 - 19       16 - 19  Refuse     Refuse   \n",
      "3      Trung Nguyên  55.0   40 - 60           45+  Refuse     Refuse   \n",
      "4      Trung Nguyên  60.0   40 - 60           45+  Refuse     Refuse   \n",
      "\n",
      "   mpi_mean                                         occupation  \\\n",
      "0       0.0  Small Business (small shop owner, grocery stor...   \n",
      "1       0.0                                          Housewife   \n",
      "2       0.0                                    Pupil / Student   \n",
      "3       0.0                                 Lecturer / Teacher   \n",
      "4       0.0  Small Business (small shop owner, grocery stor...   \n",
      "\n",
      "     occupation_group  \n",
      "0  SME Business Owner  \n",
      "1         Non-working  \n",
      "2             Student  \n",
      "3  Professional Roles  \n",
      "4  SME Business Owner  \n"
     ]
    }
   ],
   "source": [
    "# Drop redundant columns, rename columns, and reorder columns\n",
    "# Reorder columns\n",
    "# Remove redundant columns\n",
    "redundant_columns = ['age_group', 'age_group_2', 'age', 'mpi_2', 'mpi_mean_use', 'occupation_group', 'group_size','col']\n",
    "survey_respondents_info_df = survey_respondents_info_df.drop(columns=redundant_columns, errors='ignore')\n",
    "\n",
    "# Change column names\n",
    "survey_respondents_info_df = survey_respondents_info_df.rename(columns={'age_group_new': 'age_group', 'age_imputed': 'age', 'standardized_occupation': 'occupation_group', 'group_size_imputed': 'group_size'})\n",
    "\n",
    "# Define the desired order of columns\n",
    "first_columns = ['id', 'gender', 'city', 'year', 'group_size', 'tom','bumo','bumo_previous', 'most_favourite']\n",
    "\n",
    "other_columns = [column for column in survey_respondents_info_df.columns if column not in first_columns]\n",
    "\n",
    "\n",
    "# Sort other columns alphabetically\n",
    "sorted_other_columns = sorted(other_columns)\n",
    "\n",
    "# Combine the lists to get the new column order\n",
    "new_column_order = first_columns + sorted_other_columns\n",
    "\n",
    "# Reorder the DataFrame columns\n",
    "survey_respondents_info_df = survey_respondents_info_df[new_column_order]\n",
    "\n",
    "print(survey_respondents_info_df.head())"
   ]
  },
  {
   "cell_type": "markdown",
   "id": "8fc05dd9",
   "metadata": {},
   "source": [
    "#### **Check Abnormal IDs in Other Tables**"
   ]
  },
  {
   "cell_type": "code",
   "execution_count": 28,
   "id": "a96600cb",
   "metadata": {},
   "outputs": [
    {
     "name": "stdout",
     "output_type": "stream",
     "text": [
      "All IDs in dataframes exist in survey_respondents_info_df.\n",
      "All IDs in dataframes exist in survey_respondents_info_df.\n",
      "All IDs in dataframes exist in survey_respondents_info_df.\n",
      "All IDs in dataframes exist in survey_respondents_info_df.\n",
      "All IDs in dataframes exist in survey_respondents_info_df.\n",
      "All IDs in dataframes exist in survey_respondents_info_df.\n",
      "All IDs in dataframes exist in survey_respondents_info_df.\n",
      "All IDs in dataframes exist in survey_respondents_info_df.\n"
     ]
    }
   ],
   "source": [
    "# As survey_respondents_info_df is the reference, check if ids in all tables exist in survey_respondents_info_df\n",
    "for df in dfs:\n",
    "    if 'id' in df.columns:\n",
    "        missing_ids = df[~df['id'].isin(survey_respondents_info_df['id'])]\n",
    "        if not missing_ids.empty:\n",
    "            print(f\"IDs in {df} that do not exist in survey_respondents_info_df:\")\n",
    "            print(missing_ids['id'].unique())\n",
    "        else:\n",
    "            print(\"All IDs in dataframes exist in survey_respondents_info_df.\")\n",
    "            "
   ]
  },
  {
   "cell_type": "markdown",
   "id": "10b48a49",
   "metadata": {},
   "source": [
    "## **Brand Image Table**\n",
    "**Description:** Table contains the images associated with specific brands.\n",
    "\n",
    "**Key summary:**\n",
    "\n",
    "1. Because all data in 'awareness' is similar with 'brand_image', this column was dropped.\n",
    "\n"
   ]
  },
  {
   "cell_type": "code",
   "execution_count": 29,
   "id": "a426f090",
   "metadata": {},
   "outputs": [
    {
     "name": "stdout",
     "output_type": "stream",
     "text": [
      "      id  year         city                                      awareness  \\\n",
      "0  89100  2017  Hồ Chí Minh  Street / Half street coffee (including carts)   \n",
      "1  89100  2017  Hồ Chí Minh                                   Trung Nguyên   \n",
      "2  89100  2017  Hồ Chí Minh  Street / Half street coffee (including carts)   \n",
      "3  89100  2017  Hồ Chí Minh                                Indepedent Cafe   \n",
      "4  89100  2017  Hồ Chí Minh                                   Trung Nguyên   \n",
      "\n",
      "                              attribute  \\\n",
      "0  Comfortable and relaxing environment   \n",
      "1                   Convenient location   \n",
      "2                        Friendly staff   \n",
      "3                         Trusted brand   \n",
      "4                        Friendly staff   \n",
      "\n",
      "                                     brand_image  \n",
      "0  Street / Half street coffee (including carts)  \n",
      "1                                   Trung Nguyên  \n",
      "2  Street / Half street coffee (including carts)  \n",
      "3                                Indepedent Cafe  \n",
      "4                                   Trung Nguyên  \n",
      "--------------------------------------------------\n",
      "                  id           year\n",
      "count  643072.000000  643072.000000\n",
      "mean   486938.048413    2018.112589\n",
      "std    272601.961288       0.792818\n",
      "min     89100.000000    2017.000000\n",
      "25%    140350.000000    2017.000000\n",
      "50%    444693.000000    2018.000000\n",
      "75%    795589.000000    2019.000000\n",
      "max    863754.000000    2019.000000\n",
      "--------------------------------------------------\n",
      "<class 'pandas.core.frame.DataFrame'>\n",
      "RangeIndex: 643072 entries, 0 to 643071\n",
      "Data columns (total 6 columns):\n",
      " #   Column       Non-Null Count   Dtype \n",
      "---  ------       --------------   ----- \n",
      " 0   id           643072 non-null  int64 \n",
      " 1   year         643072 non-null  int64 \n",
      " 2   city         643072 non-null  object\n",
      " 3   awareness    642675 non-null  object\n",
      " 4   attribute    643072 non-null  object\n",
      " 5   brand_image  643072 non-null  object\n",
      "dtypes: int64(2), object(4)\n",
      "memory usage: 29.4+ MB\n",
      "None\n"
     ]
    }
   ],
   "source": [
    "#Describe data distribution and data type\n",
    "print(brand_image_df.head())\n",
    "print(\"-\" * 50)\n",
    "print(brand_image_df.describe())\n",
    "print(\"-\" * 50)\n",
    "print(brand_image_df.info())"
   ]
  },
  {
   "cell_type": "code",
   "execution_count": 30,
   "id": "521db365",
   "metadata": {},
   "outputs": [
    {
     "name": "stdout",
     "output_type": "stream",
     "text": [
      "Unique values in column 'id':\n",
      "[ 89100  89101  89102 ... 862137 862458 863754]\n",
      "\n",
      "\n",
      "Unique values in column 'year':\n",
      "[2017 2018 2019]\n",
      "\n",
      "\n",
      "Unique values in column 'city':\n",
      "['Hồ Chí Minh' 'Cần Thơ' 'Hà Nội' 'Hải Phòng' 'Đà Nẵng' 'Nha Trang']\n",
      "\n",
      "\n",
      "Unique values in column 'awareness':\n",
      "['Street / Half street coffee (including carts)' 'Trung Nguyên'\n",
      " 'Indepedent Cafe' 'The Coffee Factory' 'Gong Cha' 'Milano' 'Saigon Café'\n",
      " 'Effoc' 'Coffee Bean & Tea Leaf' 'Highlands Coffee' 'Phúc Long'\n",
      " 'Starbucks' 'Thức Coffee' 'The Coffee House' 'KOI cafe' 'Urban Station'\n",
      " 'Passio' None 'Maxx Coffee' 'Cộng Cà Phê' 'Other Branded Cafe Chain'\n",
      " 'Other 3' 'Other 1' 'Other 2' 'Đen Đá' 'Viva Star' 'Mộc Miên'\n",
      " 'Runam cafe' 'Aha Cafe' 'Long Cafe' 'BonPas' 'Nia cafe' 'Other'\n",
      " 'The Cups Coffee' 'Mê Trang' 'Street' 'Laha Coffee' 'Cheese Coffee']\n",
      "\n",
      "\n",
      "Unique values in column 'attribute':\n",
      "['Comfortable and relaxing environment' 'Convenient location'\n",
      " 'Friendly staff' 'Trusted brand' 'Good value for money'\n",
      " 'Good other beverages (other than coffee, tea & ice-blended)'\n",
      " 'Good place for socializing' 'Nice environment design'\n",
      " 'Feel I belong here' 'Diversified menu' 'Good place for relaxing'\n",
      " 'Good place for working / studying' 'Quick speed of service'\n",
      " 'Good tea taste' 'Popular brand' 'Good coffee taste' 'Clean'\n",
      " 'Recommended by others' 'High speed of internet' 'Good music'\n",
      " 'Delicious food' 'Good place for socializing with family'\n",
      " 'Good place for socializing with friends'\n",
      " 'Good place for socializing with colleagues'\n",
      " 'Good place for working / business meeting' 'Have new product regularly'\n",
      " 'Good place for studying' 'Good ice-blended taste']\n",
      "\n",
      "\n",
      "Unique values in column 'brand_image':\n",
      "['Street / Half street coffee (including carts)' 'Trung Nguyên'\n",
      " 'Indepedent Cafe' 'The Coffee Factory' 'Gong Cha' 'Milano' 'Saigon Café'\n",
      " 'Effoc' 'Coffee Bean & Tea Leaf' 'Highlands Coffee' 'Phúc Long'\n",
      " 'Starbucks' 'Thức Coffee' 'The Coffee House' 'KOI cafe' 'Urban Station'\n",
      " 'Passio' 'Maxx Coffee' 'Cộng Cà Phê' 'Other Branded Cafe Chain' 'Other 3'\n",
      " 'Other 1' 'Other 2' 'Đen Đá' 'Viva Star' 'Mộc Miên' 'Runam cafe'\n",
      " 'Aha Cafe' 'Long Cafe' 'BonPas' 'Nia cafe' 'Other' 'The Cups Coffee'\n",
      " 'Mê Trang' 'Street' 'Laha Coffee' 'Cheese Coffee']\n",
      "\n",
      "\n"
     ]
    }
   ],
   "source": [
    "# Check unique values in columns\n",
    "for column_name in brand_image_df.columns:\n",
    "    print(f\"Unique values in column '{column_name}':\")\n",
    "    print(brand_image_df[column_name].unique())\n",
    "    print(\"\\n\")"
   ]
  },
  {
   "cell_type": "code",
   "execution_count": 31,
   "id": "41fdfc0b",
   "metadata": {},
   "outputs": [],
   "source": [
    "# Fix grammar error 'Indepedent' to 'Independent'\n",
    "brand_image_df['brand_image'] = brand_image_df['brand_image'].replace('Indepedent Cafe', 'Independent Cafe')"
   ]
  },
  {
   "cell_type": "markdown",
   "id": "74087b65",
   "metadata": {},
   "source": [
    "### **Relabel and Categorize Attributes**"
   ]
  },
  {
   "cell_type": "code",
   "execution_count": 32,
   "id": "2aa9b666",
   "metadata": {},
   "outputs": [],
   "source": [
    "# Create a dictionary to relabel values in 'attribute'\n",
    "replacement = {\n",
    "    'Comfortable and relaxing environment': 'Comfortable environment',\n",
    "    'Convenient location': 'Convenient location',\n",
    "    'Friendly staff': 'Friendly staff',\n",
    "    'Trusted brand': 'Trusted brand',\n",
    "    'Good value for money': 'Value for money',\n",
    "    'Good other beverages (other than coffee, tea & ice-blended)': 'Good other beverages',\n",
    "    'Good place for socializing': 'Socializing place',\n",
    "    'Nice environment design': 'Attractive design',\n",
    "    'Feel I belong here': 'Sense of belonging',\n",
    "    'Diversified menu': 'Varied menu',\n",
    "    'Good place for relaxing': 'Relaxing place',\n",
    "    'Good place for working / studying': 'Work/study friendly',\n",
    "    'Quick speed of service': 'Fast service',\n",
    "    'Good tea taste': 'Good tea',\n",
    "    'Popular brand': 'Popular brand',\n",
    "    'Good coffee taste': 'Good coffee',\n",
    "    'Clean': 'Cleanliness',\n",
    "    'Recommended by others': 'Peer recommended',\n",
    "    'High speed of internet': 'Fast internet',\n",
    "    'Good music': 'Good music',\n",
    "    'Delicious food': 'Good food',\n",
    "    'Good place for socializing with family': 'Family-friendly place',\n",
    "    'Good place for socializing with friends': 'Friends hangout place',\n",
    "    'Good place for socializing with colleagues': 'Colleague meeting place',\n",
    "    'Good place for working / business meeting': 'Business meeting place',\n",
    "    'Have new product regularly': 'Regular new products',\n",
    "    'Good place for studying': 'Study-friendly place',\n",
    "    'Good ice-blended taste': 'Good ice-blended drinks'\n",
    "}\n"
   ]
  },
  {
   "cell_type": "code",
   "execution_count": 33,
   "id": "3ef6e8ac",
   "metadata": {},
   "outputs": [
    {
     "name": "stdout",
     "output_type": "stream",
     "text": [
      "Unique values after relabeling:\n",
      "['Comfortable environment' 'Convenient location' 'Friendly staff'\n",
      " 'Trusted brand' 'Value for money' 'Good other beverages'\n",
      " 'Socializing place' 'Attractive design' 'Sense of belonging'\n",
      " 'Varied menu' 'Relaxing place' 'Work/study friendly' 'Fast service'\n",
      " 'Good tea' 'Popular brand' 'Good coffee' 'Cleanliness' 'Peer recommended'\n",
      " 'Fast internet' 'Good music' 'Good food' 'Family-friendly place'\n",
      " 'Friends hangout place' 'Colleague meeting place'\n",
      " 'Business meeting place' 'Regular new products' 'Study-friendly place'\n",
      " 'Good ice-blended drinks']\n"
     ]
    }
   ],
   "source": [
    "# Relabel values in 'attribute' column\n",
    "for old_value, new_value in replacement.items():\n",
    "    brand_image_df['attribute'] = brand_image_df['attribute'].replace(old_value, new_value)\n",
    "\n",
    "# Print unique values after relabeling\n",
    "print(\"Unique values after relabeling:\")\n",
    "print(brand_image_df['attribute'].unique())"
   ]
  },
  {
   "cell_type": "code",
   "execution_count": 34,
   "id": "40ac1ad2",
   "metadata": {},
   "outputs": [],
   "source": [
    "# Create a dictionary to categorize 'attribute' into 'attribute_group'\n",
    "group = {\n",
    "    # --- Product Quality ---\n",
    "    'Good coffee': 'Product Quality',\n",
    "    'Good tea': 'Product Quality',\n",
    "    'Good other beverages': 'Product Quality',\n",
    "    'Good ice-blended drinks': 'Product Quality',\n",
    "    'Good food': 'Product Quality',\n",
    "    'Varied menu': 'Product Quality',\n",
    "    'Value for money': 'Product Quality',\n",
    "    'Regular new products': 'Product Quality',\n",
    "\n",
    "    # --- Environment ---\n",
    "    'Comfortable environment': 'Environment',\n",
    "    'Relaxing place': 'Environment',\n",
    "    'Attractive design': 'Environment',\n",
    "    'Cleanliness': 'Environment',\n",
    "    'Good music': 'Environment',\n",
    "    'Fast internet': 'Environment',\n",
    "    'Sense of belonging': 'Environment',\n",
    "\n",
    "    # --- Popularity & Service ---\n",
    "    'Trusted brand': 'Popularity & Service',\n",
    "    'Popular brand': 'Popularity & Service',\n",
    "    'Peer recommended': 'Popularity & Service',\n",
    "    \n",
    "    'Convenient location': 'Popularity & Service',\n",
    "    'Friendly staff': 'Popularity & Service',\n",
    "    'Fast service': 'Popularity & Service',\n",
    "\n",
    "    # --- Multi-purpose ---\n",
    "    'Socializing place': 'Multi-purpose',\n",
    "    'Family-friendly place': 'Multi-purpose',\n",
    "    'Friends hangout place': 'Multi-purpose',\n",
    "    'Colleague meeting place': 'Multi-purpose',\n",
    "    'Business meeting place': 'Multi-purpose',\n",
    "    'Work/study friendly': 'Multi-purpose',\n",
    "    'Study-friendly place': 'Multi-purpose'\n",
    "}\n"
   ]
  },
  {
   "cell_type": "code",
   "execution_count": 35,
   "id": "7d5aeffe",
   "metadata": {},
   "outputs": [
    {
     "name": "stdout",
     "output_type": "stream",
     "text": [
      "Unique values in 'attribute_group':\n",
      "['Environment' 'Popularity & Service' 'Product Quality' 'Multi-purpose']\n"
     ]
    }
   ],
   "source": [
    "# Create 'attribute_group' column\n",
    "brand_image_df['attribute_group'] = brand_image_df['attribute'].map(group)\n",
    "\n",
    "# Print unique values in 'attribute_group'\n",
    "print(\"Unique values in 'attribute_group':\")\n",
    "print(brand_image_df['attribute_group'].unique())"
   ]
  },
  {
   "cell_type": "markdown",
   "id": "baad7052",
   "metadata": {},
   "source": [
    "### **Handle Missing Values**"
   ]
  },
  {
   "cell_type": "code",
   "execution_count": 36,
   "id": "ba3a5d43",
   "metadata": {},
   "outputs": [
    {
     "name": "stdout",
     "output_type": "stream",
     "text": [
      "Summary Table of Missing Values:\n",
      "                 Number of Missing  Percentage of Missing\n",
      "Column                                                   \n",
      "awareness                      397                   0.06\n",
      "year                             0                   0.00\n",
      "id                               0                   0.00\n",
      "city                             0                   0.00\n",
      "attribute                        0                   0.00\n",
      "brand_image                      0                   0.00\n",
      "attribute_group                  0                   0.00\n"
     ]
    }
   ],
   "source": [
    "# Missingness summary,\n",
    "miss_summary = (\n",
    "    brand_image_df.isna()\n",
    "    .sum()\n",
    "    .rename(\"Number of Missing\")\n",
    "    .to_frame()\n",
    ")\n",
    "miss_summary[\"Percentage of Missing\"] = (miss_summary[\"Number of Missing\"] / len(brand_image_df) * 100).round(2)\n",
    "miss_summary = miss_summary.rename_axis(\"Column\")\n",
    "print(\"Summary Table of Missing Values:\")\n",
    "print(miss_summary.sort_values(\"Number of Missing\", ascending=False))"
   ]
  },
  {
   "cell_type": "markdown",
   "id": "01f93fdb",
   "metadata": {},
   "source": [
    "#### **Check if 'awareness' is a Duplicated Version of 'brand_image'**"
   ]
  },
  {
   "cell_type": "code",
   "execution_count": 37,
   "id": "cc708544",
   "metadata": {},
   "outputs": [
    {
     "name": "stdout",
     "output_type": "stream",
     "text": [
      "Total number of rows: 643072\n",
      "Total number of non-missing rows: 642675\n",
      "Total number of missing rows: 397\n",
      "Total number of similar rows: 609121\n"
     ]
    }
   ],
   "source": [
    "# Count how many rows having 'awareness' is similar with 'brand_image'\n",
    "missing_rows = brand_image_df[brand_image_df['awareness'].isna()]\n",
    "not_missing_rows = brand_image_df[brand_image_df['awareness'].notna()]\n",
    "\n",
    "print(f\"Total number of rows: {len(brand_image_df)}\")\n",
    "print(f\"Total number of non-missing rows: {len(not_missing_rows)}\")\n",
    "print(f\"Total number of missing rows: {len(missing_rows)}\")\n",
    "\n",
    "# Check if values in 'awareness' are similar to 'brand_image'\n",
    "similar_awareness = brand_image_df[brand_image_df['awareness'] == brand_image_df['brand_image']]\n",
    "print(f\"Total number of similar rows: {len(similar_awareness)}\")\n"
   ]
  },
  {
   "cell_type": "code",
   "execution_count": 38,
   "id": "4a7359d9",
   "metadata": {},
   "outputs": [],
   "source": [
    "# Drop 'awareness' column since it is similar to 'brand_image'\n",
    "brand_image_df = brand_image_df.drop(columns=['awareness'], errors='ignore')"
   ]
  },
  {
   "cell_type": "markdown",
   "id": "ec03c2f5",
   "metadata": {},
   "source": [
    "#### **Check Missingness After Imputation**"
   ]
  },
  {
   "cell_type": "code",
   "execution_count": 39,
   "id": "cccf7330",
   "metadata": {},
   "outputs": [
    {
     "name": "stdout",
     "output_type": "stream",
     "text": [
      "Summary Table of Missing Values:\n",
      "                 Number of Missing  Percentage of Missing\n",
      "Column                                                   \n",
      "id                               0                    0.0\n",
      "year                             0                    0.0\n",
      "city                             0                    0.0\n",
      "attribute                        0                    0.0\n",
      "brand_image                      0                    0.0\n",
      "attribute_group                  0                    0.0\n"
     ]
    }
   ],
   "source": [
    "# Missingness summary,\n",
    "miss_summary = (\n",
    "    brand_image_df.isna()\n",
    "    .sum()\n",
    "    .rename(\"Number of Missing\")\n",
    "    .to_frame()\n",
    ")\n",
    "miss_summary[\"Percentage of Missing\"] = (miss_summary[\"Number of Missing\"] / len(brand_image_df) * 100).round(2)\n",
    "miss_summary = miss_summary.rename_axis(\"Column\")\n",
    "print(\"Summary Table of Missing Values:\")\n",
    "print(miss_summary.sort_values(\"Number of Missing\", ascending=False))"
   ]
  },
  {
   "cell_type": "markdown",
   "id": "491be937",
   "metadata": {},
   "source": [
    "## **Segmentation2017 Table**\n",
    "\n",
    "**Description:** Table contains respondents information of the year 2017.\n",
    "\n",
    "**Key summary:**\n",
    "\n",
    "1. Fix grammar error \"Indepentdent\" to \"Independent\" in 'brand_type'."
   ]
  },
  {
   "cell_type": "code",
   "execution_count": 40,
   "id": "b4ba3910",
   "metadata": {},
   "outputs": [
    {
     "name": "stdout",
     "output_type": "stream",
     "text": [
      "      id                           segmentation  visit  spending  \\\n",
      "0  89100               Seg.01 - Mass (<VND 25K)      6        90   \n",
      "1  89100   Seg.03 - Premium (VND 60K - VND 99K)      2       120   \n",
      "2  89100     Seg.04 - Super Premium (VND 100K+)      4       400   \n",
      "3  89101               Seg.01 - Mass (<VND 25K)      1        10   \n",
      "4  89101  Seg.02 - Mass Asp (VND 25K - VND 59K)      2        60   \n",
      "\n",
      "          brand  ppa  \n",
      "0        Street   15  \n",
      "1         Chain   60  \n",
      "2  Indepentdent  100  \n",
      "3        Street   10  \n",
      "4         Chain   30  \n",
      "--------------------------------------------------\n",
      "                  id        visit     spending          ppa\n",
      "count    4944.000000  4944.000000  4944.000000  4944.000000\n",
      "mean   124746.726739     9.286003   185.212783    26.125607\n",
      "std     14200.003243    11.251593   208.383542    17.454006\n",
      "min     89100.000000     1.000000     6.000000     5.000000\n",
      "25%    113279.500000     3.000000    60.000000    12.000000\n",
      "50%    127602.500000     4.000000   120.000000    20.000000\n",
      "75%    136523.250000    10.000000   240.000000    35.000000\n",
      "max    142479.000000   120.000000  2500.000000   100.000000\n",
      "--------------------------------------------------\n",
      "<class 'pandas.core.frame.DataFrame'>\n",
      "RangeIndex: 4944 entries, 0 to 4943\n",
      "Data columns (total 6 columns):\n",
      " #   Column        Non-Null Count  Dtype \n",
      "---  ------        --------------  ----- \n",
      " 0   id            4944 non-null   int64 \n",
      " 1   segmentation  4944 non-null   object\n",
      " 2   visit         4944 non-null   int64 \n",
      " 3   spending      4944 non-null   int64 \n",
      " 4   brand         4944 non-null   object\n",
      " 5   ppa           4944 non-null   int64 \n",
      "dtypes: int64(4), object(2)\n",
      "memory usage: 231.9+ KB\n",
      "None\n"
     ]
    }
   ],
   "source": [
    "#Describe data distribution and data type\n",
    "print(segmentation_2017_df.head())\n",
    "print(\"-\" * 50)\n",
    "print(segmentation_2017_df.describe())\n",
    "print(\"-\" * 50)\n",
    "print(segmentation_2017_df.info())"
   ]
  },
  {
   "cell_type": "code",
   "execution_count": 41,
   "id": "24f39e27",
   "metadata": {},
   "outputs": [
    {
     "name": "stdout",
     "output_type": "stream",
     "text": [
      "Unique values in column 'id':\n",
      "[ 89100  89101  89102 ... 141597 141679 142479]\n",
      "\n",
      "\n",
      "Unique values in column 'segmentation':\n",
      "['Seg.01 - Mass (<VND 25K)' 'Seg.03 - Premium (VND 60K - VND 99K)'\n",
      " 'Seg.04 - Super Premium (VND 100K+)'\n",
      " 'Seg.02 - Mass Asp (VND 25K - VND 59K)']\n",
      "\n",
      "\n",
      "Unique values in column 'visit':\n",
      "[  6   2   4   1  10   3  30   8   7  17  11  12  18   5  14  24  20  26\n",
      "  16   9  15  23  29  28  75  22  60  40  25  13  27  50 120 100  80  90\n",
      "  38 111  45  19  55  32  56  35  33  21  88  31  89]\n",
      "\n",
      "\n",
      "Unique values in column 'spending':\n",
      "[  90  120  400   10   60  300   96  140   84   50   39  360  240  200\n",
      "  440   45  320  210  221  150   40   30   35  110  270  180   48  100\n",
      "  315   20   80  500   25  376  144   15  480  250   75   42   44  112\n",
      "   78 1120  220  450   36  780  230  800  540  330  288   24  600  280\n",
      " 2100  260   68   16  160 1080   72  192   17  275   55   12  345  156\n",
      "  108  225   21  130  700 1500  290   70   28  105  125   64   32  750\n",
      "   98  224   14  660  420  960   18  216 1200  900    7  490  264   54\n",
      "  207    8  476  850  195  196  135  385  390  640   29  154  312  405\n",
      "  560  520   56  170  340  117    6  350 1000  208  625  168  252    9\n",
      "  245   65  145  352   87 1350  165 1050  236   58  132  375   63   26\n",
      "  162  630  175  532 1443  720   52  177  128   46  228   88  935  980\n",
      "   76  116   59  760  325  650  348  176  182  525  147  342   49  104\n",
      "  204   66  172  189  880  336   69  504  255  161  875 1250  184 2500\n",
      "  550  118  448  495   27  338  126  276  190   57  198   33   13  324\n",
      "  294  297  286 2400  392  217 1800  380  456  136 1770  234  372 1280\n",
      "  770  384  435 1160  623  590  159  680  990   99  295  950  840 1600\n",
      " 1540]\n",
      "\n",
      "\n",
      "Unique values in column 'brand':\n",
      "['Street' 'Chain' 'Indepentdent']\n",
      "\n",
      "\n",
      "Unique values in column 'ppa':\n",
      "[ 15  60 100  10  30  24  35  28  20  25  39  12  50  55  80  13  40  90\n",
      "  45  47  36  75  14  22  56  18  26  23  70  17   8  16   7  65   9   5\n",
      "   6  27  11  29  85  49  59  44  32  48  19  38  42  43  33  69  95  58\n",
      "  21  53]\n",
      "\n",
      "\n"
     ]
    }
   ],
   "source": [
    "# Check unique values in columns\n",
    "for column_name in segmentation_2017_df.columns:\n",
    "    print(f\"Unique values in column '{column_name}':\")\n",
    "    print(segmentation_2017_df[column_name].unique())\n",
    "    print(\"\\n\")"
   ]
  },
  {
   "cell_type": "code",
   "execution_count": 42,
   "id": "b0d3aa0a",
   "metadata": {},
   "outputs": [
    {
     "name": "stdout",
     "output_type": "stream",
     "text": [
      "['Street' 'Chain' 'Indepentdent']\n",
      "['Street' 'Chain' 'Independent']\n"
     ]
    }
   ],
   "source": [
    "# View unique values of brand\n",
    "print(segmentation_2017_df['brand'].unique())\n",
    "\n",
    "# Fix grammar error in brand\n",
    "segmentation_2017_df['brand'] = segmentation_2017_df['brand'].replace('Indepentdent', 'Independent')\n",
    "\n",
    "# After correction\n",
    "print(segmentation_2017_df['brand'].unique())"
   ]
  },
  {
   "cell_type": "code",
   "execution_count": 43,
   "id": "4d2d7d37",
   "metadata": {},
   "outputs": [],
   "source": [
    "# Rename 'brand' to 'brand_type'\n",
    "segmentation_2017_df = segmentation_2017_df.rename(columns={'brand': 'brand_type'})"
   ]
  },
  {
   "cell_type": "markdown",
   "id": "d1b062b8",
   "metadata": {},
   "source": [
    "## **Brand Health Table**\n",
    "\n",
    "**Description:** Table contains detailed survey responses measuring brand awareness, usage, perception, and customer segmentation across coffee brands.\n",
    "\n",
    "**Key summary:**\n",
    "\n",
    "1. 'spontaneous', 'trial', 'p3m', 'p1m', 'brand_likability', 'weekly', 'daily' have a huge % of missing data. The non-misisng data in these columns are similar to data in 'brand'. Further, based on the data dictionary, questions collecting the info appear to be Yes/No questions. Therefore, NA were filled with \"No\" and other values were repalced by \"Yes\".\n",
    "\n",
    "2. 'comprehension' is completely missing in year 2017, while 'brand likability' is completely missing in year 2017 and 2018. The severe missingness can root from error in data entry or these question were not asked in year 2017 and 2018. I select the later assumption during analyze the data in the later section.\n",
    "\n",
    "3. 'segmentation', 'spending', 'ppa' are completly missing in year 2017. Given segmentation_2017_df contains respondents info in 2017, this table is used to fill NA in 'segmentation', 'spending', 'ppa'. Only rows of data in 2017 with 'visit' is not NA are filled by the segmentation_2017_df."
   ]
  },
  {
   "cell_type": "code",
   "execution_count": 44,
   "id": "e0b4c9d1",
   "metadata": {},
   "outputs": [
    {
     "name": "stdout",
     "output_type": "stream",
     "text": [
      "      id  year         city                                          brand  \\\n",
      "0  89100  2017  Hồ Chí Minh                                   Trung Nguyên   \n",
      "1  89100  2017  Hồ Chí Minh                                       Gong Cha   \n",
      "2  89100  2017  Hồ Chí Minh  Street / Half street coffee (including carts)   \n",
      "3  89100  2017  Hồ Chí Minh                             The Coffee Factory   \n",
      "4  89100  2017  Hồ Chí Minh                                Indepedent Cafe   \n",
      "\n",
      "       spontaneous                                      awareness  \\\n",
      "0             None                                   Trung Nguyên   \n",
      "1             None                                       Gong Cha   \n",
      "2             None  Street / Half street coffee (including carts)   \n",
      "3             None                             The Coffee Factory   \n",
      "4  Indepedent Cafe                                Indepedent Cafe   \n",
      "\n",
      "                                           trial  \\\n",
      "0                                   Trung Nguyên   \n",
      "1                                           None   \n",
      "2  Street / Half street coffee (including carts)   \n",
      "3                                           None   \n",
      "4                                Indepedent Cafe   \n",
      "\n",
      "                                             p3m  \\\n",
      "0                                   Trung Nguyên   \n",
      "1                                           None   \n",
      "2  Street / Half street coffee (including carts)   \n",
      "3                                           None   \n",
      "4                                Indepedent Cafe   \n",
      "\n",
      "                                             p1m comprehension  \\\n",
      "0                                   Trung Nguyên          None   \n",
      "1                                           None          None   \n",
      "2  Street / Half street coffee (including carts)          None   \n",
      "3                                           None          None   \n",
      "4                                Indepedent Cafe          None   \n",
      "\n",
      "  brand_likability                                         weekly daily  \\\n",
      "0             None                                           None  None   \n",
      "1             None                                           None  None   \n",
      "2             None  Street / Half street coffee (including carts)  None   \n",
      "3             None                                           None  None   \n",
      "4             None                                Indepedent Cafe  None   \n",
      "\n",
      "   fre_visit  ppa  spending segmentation  nps_p3m nps_p3m_group  spending_use  \n",
      "0        2.0  NaN       NaN         None      8.0       Passive           NaN  \n",
      "1        NaN  NaN       NaN         None      NaN          None           NaN  \n",
      "2        6.0  NaN       NaN         None      NaN          None           NaN  \n",
      "3        NaN  NaN       NaN         None      NaN          None           NaN  \n",
      "4        4.0  NaN       NaN         None      NaN          None           NaN  \n",
      "--------------------------------------------------\n",
      "                  id          year     fre_visit           ppa      spending  \\\n",
      "count   74419.000000  74419.000000  19332.000000  14073.000000  14073.000000   \n",
      "mean   478277.867856   2018.091160      7.289468     29.824835    155.014709   \n",
      "std    268141.831294      0.781323      9.222700     19.074486    173.986365   \n",
      "min     89100.000000   2017.000000      1.000000      5.000000      7.000000   \n",
      "25%    140354.000000   2017.000000      2.000000     15.000000     50.000000   \n",
      "50%    443720.000000   2018.000000      4.000000     25.000000    100.000000   \n",
      "75%    791013.000000   2019.000000      8.000000     40.000000    200.000000   \n",
      "max    863754.000000   2019.000000    120.000000    500.000000   3750.000000   \n",
      "\n",
      "           nps_p3m  spending_use  \n",
      "count  21605.00000  14073.000000  \n",
      "mean       7.96723    155.014709  \n",
      "std        1.35239    173.986365  \n",
      "min        0.00000      7.000000  \n",
      "25%        7.00000     50.000000  \n",
      "50%        8.00000    100.000000  \n",
      "75%        9.00000    200.000000  \n",
      "max       10.00000   3750.000000  \n",
      "--------------------------------------------------\n",
      "<class 'pandas.core.frame.DataFrame'>\n",
      "RangeIndex: 74419 entries, 0 to 74418\n",
      "Data columns (total 20 columns):\n",
      " #   Column            Non-Null Count  Dtype  \n",
      "---  ------            --------------  -----  \n",
      " 0   id                74419 non-null  int64  \n",
      " 1   year              74419 non-null  int64  \n",
      " 2   city              74419 non-null  object \n",
      " 3   brand             74419 non-null  object \n",
      " 4   spontaneous       30993 non-null  object \n",
      " 5   awareness         74305 non-null  object \n",
      " 6   trial             47330 non-null  object \n",
      " 7   p3m               28849 non-null  object \n",
      " 8   p1m               19399 non-null  object \n",
      " 9   comprehension     26346 non-null  object \n",
      " 10  brand_likability  10331 non-null  object \n",
      " 11  weekly            13382 non-null  object \n",
      " 12  daily             7621 non-null   object \n",
      " 13  fre_visit         19332 non-null  float64\n",
      " 14  ppa               14073 non-null  float64\n",
      " 15  spending          14073 non-null  float64\n",
      " 16  segmentation      14073 non-null  object \n",
      " 17  nps_p3m           21605 non-null  float64\n",
      " 18  nps_p3m_group     21605 non-null  object \n",
      " 19  spending_use      14073 non-null  float64\n",
      "dtypes: float64(5), int64(2), object(13)\n",
      "memory usage: 11.4+ MB\n",
      "None\n"
     ]
    }
   ],
   "source": [
    "#Describe data distribution and data type\n",
    "print(brand_health_df.head())\n",
    "print(\"-\" * 50)\n",
    "print(brand_health_df.describe())\n",
    "print(\"-\" * 50)\n",
    "print(brand_health_df.info())"
   ]
  },
  {
   "cell_type": "code",
   "execution_count": 45,
   "id": "bdf84bbe",
   "metadata": {},
   "outputs": [
    {
     "name": "stdout",
     "output_type": "stream",
     "text": [
      "Unique values in column 'id':\n",
      "[ 89100  89101  89102 ... 862137 862458 863754]\n",
      "\n",
      "\n",
      "Unique values in column 'year':\n",
      "[2017 2018 2019]\n",
      "\n",
      "\n",
      "Unique values in column 'city':\n",
      "['Hồ Chí Minh' 'Cần Thơ' 'Hà Nội' 'Hải Phòng' 'Đà Nẵng' 'Nha Trang']\n",
      "\n",
      "\n",
      "Unique values in column 'brand':\n",
      "['Trung Nguyên' 'Gong Cha' 'Street / Half street coffee (including carts)'\n",
      " 'The Coffee Factory' 'Indepedent Cafe' 'Coffee Bean & Tea Leaf' 'Effoc'\n",
      " 'Saigon Café' 'Milano' 'Phúc Long' 'The Coffee House' 'Highlands Coffee'\n",
      " 'Starbucks' 'KOI cafe' 'Thức Coffee' 'Passio' 'Urban Station'\n",
      " 'Maxx Coffee' 'Cộng Cà Phê' 'Other Branded Cafe Chain' 'Other 3'\n",
      " 'Other 1' 'Other 2' 'Đen Đá' 'Viva Star' 'Mộc Miên' 'Runam cafe'\n",
      " 'Nia cafe' 'Aha Cafe' 'Long Cafe' 'BonPas' 'Mê Trang' 'Street'\n",
      " 'The Cups Coffee' 'Laha Coffee' 'Cheese Coffee']\n",
      "\n",
      "\n",
      "Unique values in column 'spontaneous':\n",
      "[None 'Indepedent Cafe' 'The Coffee House' 'Highlands Coffee' 'Starbucks'\n",
      " 'Trung Nguyên' 'Saigon Café'\n",
      " 'Street / Half street coffee (including carts)' 'Phúc Long' 'KOI cafe'\n",
      " 'Urban Station' 'Gong Cha' 'Milano' 'Coffee Bean & Tea Leaf'\n",
      " 'Maxx Coffee' 'Passio' 'Other Branded Cafe Chain' 'Thức Coffee'\n",
      " 'Cộng Cà Phê' 'Effoc' 'The Coffee Factory' 'Other 3' 'Other 1' 'Other 2'\n",
      " 'Mộc Miên' 'Viva Star' 'Aha Cafe' 'Đen Đá' 'Runam cafe' 'Nia cafe'\n",
      " 'Long Cafe' 'BonPas' 'Mê Trang' 'Other' 'Street' 'The Cups Coffee'\n",
      " 'Laha Coffee' 'Cheese Coffee']\n",
      "\n",
      "\n",
      "Unique values in column 'awareness':\n",
      "['Trung Nguyên' 'Gong Cha' 'Street / Half street coffee (including carts)'\n",
      " 'The Coffee Factory' 'Indepedent Cafe' 'Coffee Bean & Tea Leaf' 'Effoc'\n",
      " 'Saigon Café' 'Milano' 'Phúc Long' 'The Coffee House' 'Highlands Coffee'\n",
      " 'Starbucks' 'KOI cafe' 'Thức Coffee' 'Passio' 'Urban Station' None\n",
      " 'Maxx Coffee' 'Cộng Cà Phê' 'Other Branded Cafe Chain' 'Other 3'\n",
      " 'Other 1' 'Other 2' 'Đen Đá' 'Viva Star' 'Mộc Miên' 'Runam cafe'\n",
      " 'Nia cafe' 'Aha Cafe' 'Long Cafe' 'BonPas' 'Mê Trang' 'Other' 'Street'\n",
      " 'The Cups Coffee' 'Laha Coffee' 'Cheese Coffee']\n",
      "\n",
      "\n",
      "Unique values in column 'trial':\n",
      "['Trung Nguyên' None 'Street / Half street coffee (including carts)'\n",
      " 'Indepedent Cafe' 'Coffee Bean & Tea Leaf' 'Effoc' 'Saigon Café' 'Milano'\n",
      " 'Phúc Long' 'The Coffee House' 'Highlands Coffee' 'Starbucks' 'Gong Cha'\n",
      " 'KOI cafe' 'Thức Coffee' 'The Coffee Factory' 'Urban Station' 'Passio'\n",
      " 'Cộng Cà Phê' 'Other Branded Cafe Chain' 'Maxx Coffee' 'Other 3'\n",
      " 'Other 1' 'Other 2' 'Viva Star' 'Đen Đá' 'Mộc Miên' 'Aha Cafe'\n",
      " 'Runam cafe' 'Long Cafe' 'BonPas' 'Nia cafe' 'Mê Trang' 'Other' 'Street'\n",
      " 'The Cups Coffee' 'Laha Coffee' 'Cheese Coffee']\n",
      "\n",
      "\n",
      "Unique values in column 'p3m':\n",
      "['Trung Nguyên' None 'Street / Half street coffee (including carts)'\n",
      " 'Indepedent Cafe' 'Saigon Café' 'Milano' 'Highlands Coffee' 'Gong Cha'\n",
      " 'KOI cafe' 'Phúc Long' 'Starbucks' 'Urban Station' 'The Coffee House'\n",
      " 'Other Branded Cafe Chain' 'Coffee Bean & Tea Leaf' 'Thức Coffee'\n",
      " 'Passio' 'Effoc' 'Maxx Coffee' 'Cộng Cà Phê' 'Other 3' 'Other 1'\n",
      " 'Other 2' 'Mộc Miên' 'Viva Star' 'Đen Đá' 'The Coffee Factory' 'Aha Cafe'\n",
      " 'Runam cafe' 'Long Cafe' 'BonPas' 'Nia cafe' 'Other' 'The Cups Coffee'\n",
      " 'Mê Trang' 'Street' 'Cheese Coffee' 'Laha Coffee']\n",
      "\n",
      "\n",
      "Unique values in column 'p1m':\n",
      "['Trung Nguyên' None 'Street / Half street coffee (including carts)'\n",
      " 'Indepedent Cafe' 'Saigon Café' 'Highlands Coffee' 'Milano' 'Phúc Long'\n",
      " 'Gong Cha' 'Urban Station' 'The Coffee House' 'Coffee Bean & Tea Leaf'\n",
      " 'Thức Coffee' 'Other Branded Cafe Chain' 'Passio' 'KOI cafe' 'Effoc'\n",
      " 'Starbucks' 'Maxx Coffee' 'Cộng Cà Phê' 'Other 3' 'Other 1' 'Other 2'\n",
      " 'Viva Star' 'Đen Đá' 'Aha Cafe' 'Mộc Miên' 'Runam cafe' 'Long Cafe'\n",
      " 'BonPas' 'Nia cafe' 'The Coffee Factory' 'Other' 'Mê Trang' 'Street'\n",
      " 'Cheese Coffee' 'The Cups Coffee']\n",
      "\n",
      "\n",
      "Unique values in column 'comprehension':\n",
      "[None 'Maybe do not know it' 'Know it very well' 'Know it well'\n",
      " 'Do not know it at all' 'Know a little']\n",
      "\n",
      "\n",
      "Unique values in column 'brand_likability':\n",
      "[None 'Highlands Coffee' 'Cộng Cà Phê' 'Phúc Long' 'Mộc Miên'\n",
      " 'The Coffee House' 'BonPas' 'Milano' 'Trung Nguyên' 'Other' 'Đen Đá'\n",
      " 'Street' 'Aha Cafe' 'Starbucks' 'Urban Station' 'Viva Star' 'Passio'\n",
      " 'Long Cafe' 'Nia cafe' 'Mê Trang' 'Thức Coffee' 'Coffee Bean & Tea Leaf'\n",
      " 'Laha Coffee' 'Cheese Coffee' 'The Cups Coffee' 'Effoc'\n",
      " 'The Coffee Factory' 'Runam cafe']\n",
      "\n",
      "\n",
      "Unique values in column 'weekly':\n",
      "[None 'Street / Half street coffee (including carts)' 'Indepedent Cafe'\n",
      " 'Highlands Coffee' 'Trung Nguyên' 'Milano' 'Phúc Long' 'Gong Cha'\n",
      " 'Coffee Bean & Tea Leaf' 'Other Branded Cafe Chain' 'Passio' 'KOI cafe'\n",
      " 'Effoc' 'Starbucks' 'Urban Station' 'The Coffee House' 'Maxx Coffee'\n",
      " 'Cộng Cà Phê' 'Thức Coffee' 'Saigon Café' 'Other 3' 'Other 1' 'Other 2'\n",
      " 'Viva Star' 'Đen Đá' 'Aha Cafe' 'Long Cafe' 'Nia cafe' 'BonPas'\n",
      " 'Runam cafe' 'Mộc Miên' 'Not Applicable' 'Other' 'Street' 'Mê Trang'\n",
      " 'Cheese Coffee' 'The Cups Coffee']\n",
      "\n",
      "\n",
      "Unique values in column 'daily':\n",
      "[None 'Street / Half street coffee (including carts)' 'Trung Nguyên'\n",
      " 'Indepedent Cafe' 'Highlands Coffee' 'Coffee Bean & Tea Leaf'\n",
      " 'Other Branded Cafe Chain' 'Starbucks' 'Cộng Cà Phê' 'Milano' 'KOI cafe'\n",
      " 'Other 1' 'Other 2' 'The Coffee House' 'Long Cafe' 'Other 3' 'Phúc Long'\n",
      " 'Mộc Miên' 'Not Applicable' 'Street' 'Other' 'Passio' 'Viva Star'\n",
      " 'Mê Trang']\n",
      "\n",
      "\n",
      "Unique values in column 'fre_visit':\n",
      "[  2.  nan   6.   4.   1.  10.   3.  30.   8.  17.  11.  12.   7.  18.\n",
      "   5.  24.  20.  26.  16.   9.  15.  23.  29.  28.  75.  14.  22.  60.\n",
      "  40.  25.  13.  27.  50. 120. 100.  80.  90.  38. 111.  45.  19.  55.\n",
      "  32.  56.  35.  33.  21.  88.  31.  89.  48.  39.  46.  43.  36.  37.\n",
      "  58.  42.  70.  67.]\n",
      "\n",
      "\n",
      "Unique values in column 'ppa':\n",
      "[  nan  15.   13.   25.   12.   40.   30.   20.    8.   10.    9.   16.\n",
      "  50.  122.   14.    7.   18.   60.   35.   45.   55.   29.   59.   28.\n",
      "  11.   42.   80.   49.   65.   19.   22.   39.  110.   70.  100.   17.\n",
      "  78.   75.   26.   27.  150.   58.   23.   69.   90.   56.   24.   38.\n",
      "   6.   37.   36.   85.  120.   32.  500.   34.   47.   48.   72.   21.\n",
      "  63.   68.   33.   52.   54.   95.   76.   53.  140.   79.  130.   64.\n",
      " 200.   46.  160.   16.7  44.   12.5   5.   17.5  18.8  43.   86.  125.\n",
      "  21.4 170.   51. ]\n",
      "\n",
      "\n",
      "Unique values in column 'spending':\n",
      "[  nan  225.  260.   65.  175.   36.   80.   30.   60.   50.  224.   52.\n",
      "  300.  180.   20.  100.   64.   72.   12.   16.   10.   56.  288.  120.\n",
      "  240.  336.  325.  200.  150.   48.   40. 1220.   75.  104.  130.   13.\n",
      "   90.   28.  140.  160.  210.  324.   24.    8.  250.  280.  108.  252.\n",
      "   15.  135.  144. 1680.  680.  312.   96.  900.  360.  350.   70.  500.\n",
      "  275.  125.  145.  220.  354.  600.  504.  420.  784.   25.  105.  400.\n",
      "  182.   32.   44.  110.   35.   42.   88.  450.  320.  480.  640.  385.\n",
      "  315.  588.  464.  245.  330.  364.  152.   55.  147.   45.   26.   11.\n",
      "   21.   49.   84.  190.  208.    9.  216.  165.  351. 1400.   78.  270.\n",
      "   98.  117.  195.  170.   27.  308. 1092.   68.   14.  196.  375.  490.\n",
      "   39.   54.  468.   87.  390.  264.  156.   18.  198.   59.  625.   66.\n",
      "  800.  126.  273.  290.   23.  700.  276.   17. 1200.   22.  236.  885.\n",
      "  660.  204.  392.  234.  870.  520.  192.  750.  169.  343.   58.  540.\n",
      "  132. 1800. 1000.  294.   74.  228.  112.  221.  295.  780. 1170.  340.\n",
      "  495.  560.  128.  531.  168.  686.  630.  960.  203.  118. 1500.   69.\n",
      "   29.   51.  136.  580.  525.  408.  357.  345. 1180.  119. 3480.  230.\n",
      "  116.  455.  720.    7.  232.  550.  980.  441.  176.  840.  675.  735.\n",
      "  338.  299.   85.  405.  162.  472. 1120.  728.  875.  440.  255.   34.\n",
      "   81.  352.  590.  177.  148.  154.  306.  476.  812. 1050. 1250. 3750.\n",
      " 2000.   94. 1080.   37.  396. 1260.  483.  810.  256.  187.  510.  138.\n",
      "   63.  242.  272.  493.  174.  975.  207.  231. 2100.   33.  432.  304.\n",
      "   95.  406.   91. 2025. 1600.  102.  460.  184.   46.  650.  759.  189.\n",
      "  708.  106.  621.  114.  316. 1300. 1350.  248.  435. 1035.   38. 1020.\n",
      " 1075. 1380. 1040. 1740.  368.  805.  585. 1100.  516.  384.  950.  646.\n",
      " 1110. 1372.  494.  760.  370.  576.  532.  448.  387.  115. 1150.  425.\n",
      "  672.  430. 1650.  598.  413.  414.  279. 1675.  825. 1750.  153. 1280.\n",
      "  456.  285.  243.   76. 1152.]\n",
      "\n",
      "\n",
      "Unique values in column 'segmentation':\n",
      "[None 'Seg.01 - Mass (<VND 25K)' 'Seg.02 - Mass Asp (VND 25K - VND 59K)'\n",
      " 'Seg.04 - Super Premium (VND 100K+)'\n",
      " 'Seg.03 - Premium (VND 60K - VND 99K)']\n",
      "\n",
      "\n",
      "Unique values in column 'nps_p3m':\n",
      "[ 8. nan  9.  5. 10.  7.  6.  3.  1.  4.  2.  0.]\n",
      "\n",
      "\n",
      "Unique values in column 'nps_p3m_group':\n",
      "['Passive' None 'Promoter' 'Detractor']\n",
      "\n",
      "\n",
      "Unique values in column 'spending_use':\n",
      "[  nan  225.  260.   65.  175.   36.   80.   30.   60.   50.  224.   52.\n",
      "  300.  180.   20.  100.   64.   72.   12.   16.   10.   56.  288.  120.\n",
      "  240.  336.  325.  200.  150.   48.   40. 1220.   75.  104.  130.   13.\n",
      "   90.   28.  140.  160.  210.  324.   24.    8.  250.  280.  108.  252.\n",
      "   15.  135.  144. 1680.  680.  312.   96.  900.  360.  350.   70.  500.\n",
      "  275.  125.  145.  220.  354.  600.  504.  420.  784.   25.  105.  400.\n",
      "  182.   32.   44.  110.   35.   42.   88.  450.  320.  480.  640.  385.\n",
      "  315.  588.  464.  245.  330.  364.  152.   55.  147.   45.   26.   11.\n",
      "   21.   49.   84.  190.  208.    9.  216.  165.  351. 1400.   78.  270.\n",
      "   98.  117.  195.  170.   27.  308. 1092.   68.   14.  196.  375.  490.\n",
      "   39.   54.  468.   87.  390.  264.  156.   18.  198.   59.  625.   66.\n",
      "  800.  126.  273.  290.   23.  700.  276.   17. 1200.   22.  236.  885.\n",
      "  660.  204.  392.  234.  870.  520.  192.  750.  169.  343.   58.  540.\n",
      "  132. 1800. 1000.  294.   74.  228.  112.  221.  295.  780. 1170.  340.\n",
      "  495.  560.  128.  531.  168.  686.  630.  960.  203.  118. 1500.   69.\n",
      "   29.   51.  136.  580.  525.  408.  357.  345. 1180.  119. 3480.  230.\n",
      "  116.  455.  720.    7.  232.  550.  980.  441.  176.  840.  675.  735.\n",
      "  338.  299.   85.  405.  162.  472. 1120.  728.  875.  440.  255.   34.\n",
      "   81.  352.  590.  177.  148.  154.  306.  476.  812. 1050. 1250. 3750.\n",
      " 2000.   94. 1080.   37.  396. 1260.  483.  810.  256.  187.  510.  138.\n",
      "   63.  242.  272.  493.  174.  975.  207.  231. 2100.   33.  432.  304.\n",
      "   95.  406.   91. 2025. 1600.  102.  460.  184.   46.  650.  759.  189.\n",
      "  708.  106.  621.  114.  316. 1300. 1350.  248.  435. 1035.   38. 1020.\n",
      " 1075. 1380. 1040. 1740.  368.  805.  585. 1100.  516.  384.  950.  646.\n",
      " 1110. 1372.  494.  760.  370.  576.  532.  448.  387.  115. 1150.  425.\n",
      "  672.  430. 1650.  598.  413.  414.  279. 1675.  825. 1750.  153. 1280.\n",
      "  456.  285.  243.   76. 1152.]\n",
      "\n",
      "\n"
     ]
    }
   ],
   "source": [
    "# Check unique values in columns\n",
    "for column_name in brand_health_df.columns:\n",
    "    print(f\"Unique values in column '{column_name}':\")\n",
    "    print(brand_health_df[column_name].unique())\n",
    "    print(\"\\n\")"
   ]
  },
  {
   "cell_type": "code",
   "execution_count": 46,
   "id": "93217103",
   "metadata": {},
   "outputs": [],
   "source": [
    "# Fix grammar error in brand\n",
    "replacement = {\"Indepedent\" : \"Independent\"}\n",
    "for old_words, new_words in replacement.items():\n",
    "    brand_health_df['brand'] = brand_health_df['brand'].str.replace(old_words, new_words)"
   ]
  },
  {
   "cell_type": "markdown",
   "id": "93ff6150",
   "metadata": {},
   "source": [
    "### **Handle Missing Values**"
   ]
  },
  {
   "cell_type": "code",
   "execution_count": 47,
   "id": "6c94ec17",
   "metadata": {},
   "outputs": [
    {
     "name": "stdout",
     "output_type": "stream",
     "text": [
      "Summary Table of Missing Values:\n",
      "                  Number of Missing  Percentage of Missing\n",
      "Column                                                    \n",
      "daily                         66798                  89.76\n",
      "brand_likability              64088                  86.12\n",
      "weekly                        61037                  82.02\n",
      "ppa                           60346                  81.09\n",
      "segmentation                  60346                  81.09\n",
      "spending                      60346                  81.09\n",
      "spending_use                  60346                  81.09\n",
      "fre_visit                     55087                  74.02\n",
      "p1m                           55020                  73.93\n",
      "nps_p3m                       52814                  70.97\n",
      "nps_p3m_group                 52814                  70.97\n",
      "comprehension                 48073                  64.60\n",
      "p3m                           45570                  61.23\n",
      "spontaneous                   43426                  58.35\n",
      "trial                         27089                  36.40\n",
      "awareness                       114                   0.15\n",
      "brand                             0                   0.00\n",
      "city                              0                   0.00\n",
      "year                              0                   0.00\n",
      "id                                0                   0.00\n"
     ]
    }
   ],
   "source": [
    "# Missingness summary,\n",
    "miss_summary = (\n",
    "    brand_health_df.isna()\n",
    "    .sum()\n",
    "    .rename(\"Number of Missing\")\n",
    "    .to_frame()\n",
    ")\n",
    "miss_summary[\"Percentage of Missing\"] = (miss_summary[\"Number of Missing\"] / len(brand_health_df) * 100).round(2)\n",
    "miss_summary = miss_summary.rename_axis(\"Column\")\n",
    "print(\"Summary Table of Missing Values:\")\n",
    "print(miss_summary.sort_values(\"Number of Missing\", ascending=False))"
   ]
  },
  {
   "cell_type": "code",
   "execution_count": 48,
   "id": "b5d0d5c7",
   "metadata": {},
   "outputs": [],
   "source": [
    "# Drop 'awareness' column since it is similar to 'brand'\n",
    "brand_health_df = brand_health_df.drop(columns=['awareness'], errors='ignore')"
   ]
  },
  {
   "cell_type": "markdown",
   "id": "a49f7b4f",
   "metadata": {},
   "source": [
    "#### **Based on the Data Dictionary, Relabel Values to Yes and No**"
   ]
  },
  {
   "cell_type": "code",
   "execution_count": 49,
   "id": "7e67ac60",
   "metadata": {},
   "outputs": [
    {
     "name": "stdout",
     "output_type": "stream",
     "text": [
      "Unique values in column 'spontaneous':\n",
      "['No' 'Yes']\n",
      "\n",
      "\n",
      "Unique values in column 'trial':\n",
      "['Yes' 'No']\n",
      "\n",
      "\n",
      "Unique values in column 'p3m':\n",
      "['Yes' 'No']\n",
      "\n",
      "\n",
      "Unique values in column 'p1m':\n",
      "['Yes' 'No']\n",
      "\n",
      "\n",
      "Unique values in column 'brand_likability':\n",
      "['No' 'Yes']\n",
      "\n",
      "\n",
      "Unique values in column 'weekly':\n",
      "['No' 'Yes']\n",
      "\n",
      "\n",
      "Unique values in column 'daily':\n",
      "['No' 'Yes']\n",
      "\n",
      "\n"
     ]
    }
   ],
   "source": [
    "# Spontaneous, trial, p3m, p1m's questions are Yes/No type\n",
    "# Replace missing values in these columns with \"No\" and other with \"Yes\"\n",
    "yes_no_columns = ['spontaneous', 'trial', 'p3m', 'p1m', 'brand_likability', 'weekly', 'daily']\n",
    "\n",
    "# Vectorized replacement\n",
    "brand_health_df[yes_no_columns] = np.where(\n",
    "    brand_health_df[yes_no_columns].isna() | (brand_health_df[yes_no_columns] == \"Not Applicable\"), \"No\", \"Yes\"\n",
    ")\n",
    "\n",
    "# Check unique values after replacement\n",
    "for column_name in yes_no_columns:\n",
    "     print(f\"Unique values in column '{column_name}':\")\n",
    "     print(brand_health_df[column_name].unique())\n",
    "     print(\"\\n\")\n"
   ]
  },
  {
   "cell_type": "markdown",
   "id": "37976e63",
   "metadata": {},
   "source": [
    "### **Handle Missing Value**"
   ]
  },
  {
   "cell_type": "markdown",
   "id": "02cd898b",
   "metadata": {},
   "source": [
    "#### **Find the Pattern of Missingness in 'comprehension'**"
   ]
  },
  {
   "cell_type": "code",
   "execution_count": 50,
   "id": "1fbed975",
   "metadata": {},
   "outputs": [
    {
     "name": "stdout",
     "output_type": "stream",
     "text": [
      "comprehension\n",
      "None                     48073\n",
      "Know a little            10517\n",
      "Know it well              7096\n",
      "Maybe do not know it      4698\n",
      "Know it very well         3908\n",
      "Do not know it at all      127\n",
      "Name: count, dtype: int64\n"
     ]
    }
   ],
   "source": [
    "# Handle comprehension column\n",
    "print(brand_health_df['comprehension'].value_counts(dropna=False))"
   ]
  },
  {
   "cell_type": "code",
   "execution_count": 51,
   "id": "17f1689a",
   "metadata": {},
   "outputs": [
    {
     "name": "stdout",
     "output_type": "stream",
     "text": [
      "\n",
      "\n",
      "city\n",
      "Cần Thơ        0.701293\n",
      "Hà Nội         0.611752\n",
      "Hải Phòng      0.691932\n",
      "Hồ Chí Minh    0.626746\n",
      "Nha Trang      0.656386\n",
      "Đà Nẵng        0.692078\n",
      "Name: comprehension, dtype: float64\n",
      "\n",
      "\n",
      "year\n",
      "2017    1.00000\n",
      "2018    1.00000\n",
      "2019    0.00265\n",
      "Name: comprehension, dtype: float64\n",
      "\n",
      "\n",
      "brand\n",
      "Aha Cafe                                         0.440605\n",
      "BonPas                                           0.610759\n",
      "Cheese Coffee                                    0.000000\n",
      "Coffee Bean & Tea Leaf                           0.770631\n",
      "Cộng Cà Phê                                      0.629422\n",
      "Effoc                                            0.668076\n",
      "Gong Cha                                         1.000000\n",
      "Highlands Coffee                                 0.676056\n",
      "Independent Cafe                                 1.000000\n",
      "KOI cafe                                         1.000000\n",
      "Laha Coffee                                      0.040000\n",
      "Long Cafe                                        0.583099\n",
      "Maxx Coffee                                      1.000000\n",
      "Milano                                           0.641413\n",
      "Mê Trang                                         0.001196\n",
      "Mộc Miên                                         0.483761\n",
      "Nia cafe                                         0.676806\n",
      "Other 1                                          0.589053\n",
      "Other 2                                          0.614121\n",
      "Other 3                                          0.614286\n",
      "Other Branded Cafe Chain                         1.000000\n",
      "Passio                                           0.650891\n",
      "Phúc Long                                        0.522254\n",
      "Runam cafe                                       0.620253\n",
      "Saigon Café                                      1.000000\n",
      "Starbucks                                        0.647463\n",
      "Street                                           0.001525\n",
      "Street / Half street coffee (including carts)    1.000000\n",
      "The Coffee Factory                               0.667969\n",
      "The Coffee House                                 0.539164\n",
      "The Cups Coffee                                  0.015038\n",
      "Thức Coffee                                      0.609802\n",
      "Trung Nguyên                                     0.689170\n",
      "Urban Station                                    0.651470\n",
      "Viva Star                                        0.307094\n",
      "Đen Đá                                           0.438462\n",
      "Name: comprehension, dtype: float64\n",
      "\n",
      "\n",
      "daily\n",
      "No     0.643651\n",
      "Yes    0.714227\n",
      "Name: comprehension, dtype: float64\n",
      "\n",
      "\n",
      "weekly\n",
      "No     0.638368\n",
      "Yes    0.690406\n",
      "Name: comprehension, dtype: float64\n",
      "\n",
      "\n",
      "segmentation\n",
      "Seg.01 - Mass (<VND 25K)                 0.620679\n",
      "Seg.02 - Mass Asp (VND 25K - VND 59K)    0.550746\n",
      "Seg.03 - Premium (VND 60K - VND 99K)     0.541336\n",
      "Seg.04 - Super Premium (VND 100K+)       0.708333\n",
      "Name: comprehension, dtype: float64\n"
     ]
    }
   ],
   "source": [
    "# Check for missing values  \n",
    "groups = ['city', 'year', 'brand', 'daily', 'weekly','segmentation']\n",
    "for group in groups:\n",
    "    na_rate = brand_health_df.groupby(group)['comprehension'].apply(lambda x: x.isna().mean())\n",
    "    print(\"\\n\")\n",
    "    print(na_rate)\n"
   ]
  },
  {
   "cell_type": "markdown",
   "id": "d57c795e",
   "metadata": {},
   "source": [
    "##### Visualize Missingness of Brand Comprehension by Year"
   ]
  },
  {
   "cell_type": "code",
   "execution_count": 52,
   "id": "b5185345",
   "metadata": {},
   "outputs": [
    {
     "data": {
      "image/png": "[encoded data removed]",
      "text/plain": [
       "<Figure size 640x480 with 1 Axes>"
      ]
     },
     "metadata": {},
     "output_type": "display_data"
    }
   ],
   "source": [
    "# Visualize missingness in comprehension by year\n",
    "brand_health_df.groupby('year')['comprehension'].apply(lambda x: x.isna().mean()).plot(kind='bar')\n",
    "plt.title(\"Missingness of Brand Comprehension by Year\")\n",
    "plt.ylabel(\"Proportion Missing\")\n",
    "plt.xlabel(\"Year\")\n",
    "plt.ylim(0, 1)\n",
    "plt.show()"
   ]
  },
  {
   "cell_type": "markdown",
   "id": "a97ccd75",
   "metadata": {},
   "source": [
    "##### Relabel 'compehension' values"
   ]
  },
  {
   "cell_type": "code",
   "execution_count": 53,
   "id": "4704f800",
   "metadata": {},
   "outputs": [],
   "source": [
    "# Relabel comprehension levels\n",
    "brand_comprehension_mapping = {\n",
    "    \"None\": \"No Response\",\n",
    "    \"Know a little\": \"Aware\",\n",
    "    \"Maybe do not know it\": \"Unsure\",\n",
    "    \"Know it well\": \"Familiar\",\n",
    "    \"Know it very well\": \"Very Familiar\",\n",
    "    \"Do not know it at all\": \"Not Aware\"\n",
    "}"
   ]
  },
  {
   "cell_type": "code",
   "execution_count": 54,
   "id": "df2cdb40",
   "metadata": {},
   "outputs": [],
   "source": [
    "# Map the comprehension column using the defined mapping\n",
    "brand_health_df['comprehension'] = brand_health_df['comprehension'].map(brand_comprehension_mapping)\n"
   ]
  },
  {
   "cell_type": "markdown",
   "id": "149650ef",
   "metadata": {},
   "source": [
    "#### **Find Missing Pattern of 'brand likability'**"
   ]
  },
  {
   "cell_type": "code",
   "execution_count": 55,
   "id": "2c242a98",
   "metadata": {},
   "outputs": [
    {
     "name": "stdout",
     "output_type": "stream",
     "text": [
      "\n",
      "\n",
      "city\n",
      "Cần Thơ        0.258434\n",
      "Hà Nội         0.333378\n",
      "Hải Phòng      0.321724\n",
      "Hồ Chí Minh    0.480299\n",
      "Nha Trang      0.229366\n",
      "Đà Nẵng        0.328956\n",
      "Name: trial, dtype: float64\n",
      "\n",
      "\n",
      "year\n",
      "2017    0.387021\n",
      "2018    0.320856\n",
      "2019    0.393247\n",
      "Name: trial, dtype: float64\n",
      "\n",
      "\n",
      "brand\n",
      "Aha Cafe                                         0.178726\n",
      "BonPas                                           0.433544\n",
      "Cheese Coffee                                    0.739837\n",
      "Coffee Bean & Tea Leaf                           0.697816\n",
      "Cộng Cà Phê                                      0.426317\n",
      "Effoc                                            0.657505\n",
      "Gong Cha                                         0.626263\n",
      "Highlands Coffee                                 0.301526\n",
      "Independent Cafe                                 0.050423\n",
      "KOI cafe                                         0.632911\n",
      "Laha Coffee                                      0.900000\n",
      "Long Cafe                                        0.512676\n",
      "Maxx Coffee                                      0.523929\n",
      "Milano                                           0.413279\n",
      "Mê Trang                                         0.627990\n",
      "Mộc Miên                                         0.591453\n",
      "Nia cafe                                         0.498099\n",
      "Other 1                                          0.029805\n",
      "Other 2                                          0.060119\n",
      "Other 3                                          0.120238\n",
      "Other Branded Cafe Chain                         0.185484\n",
      "Passio                                           0.657652\n",
      "Phúc Long                                        0.624551\n",
      "Runam cafe                                       0.572785\n",
      "Saigon Café                                      0.732782\n",
      "Starbucks                                        0.629851\n",
      "Street                                           0.110738\n",
      "Street / Half street coffee (including carts)    0.137464\n",
      "The Coffee Factory                               0.867188\n",
      "The Coffee House                                 0.418016\n",
      "The Cups Coffee                                  0.827068\n",
      "Thức Coffee                                      0.773798\n",
      "Trung Nguyên                                     0.542495\n",
      "Urban Station                                    0.421116\n",
      "Viva Star                                        0.628766\n",
      "Đen Đá                                           0.771154\n",
      "Name: trial, dtype: float64\n",
      "\n",
      "\n",
      "segmentation\n",
      "Seg.01 - Mass (<VND 25K)                 0.000159\n",
      "Seg.02 - Mass Asp (VND 25K - VND 59K)    0.000000\n",
      "Seg.03 - Premium (VND 60K - VND 99K)     0.000000\n",
      "Seg.04 - Super Premium (VND 100K+)       0.000000\n",
      "Name: trial, dtype: float64\n"
     ]
    }
   ],
   "source": [
    "# Check for missing values  \n",
    "groups = ['city', 'year', 'brand','segmentation']\n",
    "for group in groups:\n",
    "    no_rate = brand_health_df.groupby(group)['trial'].apply(lambda x: (x == 'No').mean())\n",
    "    print(\"\\n\")\n",
    "    print(no_rate)\n"
   ]
  },
  {
   "cell_type": "markdown",
   "id": "ac30fc1e",
   "metadata": {},
   "source": [
    "##### Visualize Missingness of Brand Likability and Daily by Year"
   ]
  },
  {
   "cell_type": "code",
   "execution_count": 56,
   "id": "90a81b88",
   "metadata": {},
   "outputs": [
    {
     "name": "stdout",
     "output_type": "stream",
     "text": [
      "\n",
      "\n",
      "city\n",
      "Cần Thơ        0.890028\n",
      "Hà Nội         0.997436\n",
      "Hải Phòng      0.985968\n",
      "Hồ Chí Minh    0.973660\n",
      "Nha Trang      0.939835\n",
      "Đà Nẵng        0.929853\n",
      "Name: daily, dtype: float64\n",
      "\n",
      "\n",
      "year\n",
      "2017    0.953392\n",
      "2018    0.970498\n",
      "2019    0.973463\n",
      "Name: daily, dtype: float64\n",
      "\n",
      "\n",
      "brand\n",
      "Aha Cafe                                         1.000000\n",
      "BonPas                                           1.000000\n",
      "Cheese Coffee                                    1.000000\n",
      "Coffee Bean & Tea Leaf                           0.998786\n",
      "Cộng Cà Phê                                      0.999745\n",
      "Effoc                                            1.000000\n",
      "Gong Cha                                         1.000000\n",
      "Highlands Coffee                                 0.991080\n",
      "Independent Cafe                                 0.824807\n",
      "KOI cafe                                         0.995781\n",
      "Laha Coffee                                      1.000000\n",
      "Long Cafe                                        0.987324\n",
      "Maxx Coffee                                      1.000000\n",
      "Milano                                           0.979570\n",
      "Mê Trang                                         0.995215\n",
      "Mộc Miên                                         0.998291\n",
      "Nia cafe                                         1.000000\n",
      "Other 1                                          0.870303\n",
      "Other 2                                          0.970290\n",
      "Other 3                                          0.986905\n",
      "Other Branded Cafe Chain                         0.963710\n",
      "Passio                                           0.998771\n",
      "Phúc Long                                        0.998205\n",
      "Runam cafe                                       1.000000\n",
      "Saigon Café                                      1.000000\n",
      "Starbucks                                        0.999701\n",
      "Street                                           0.916718\n",
      "Street / Half street coffee (including carts)    0.913543\n",
      "The Coffee Factory                               1.000000\n",
      "The Coffee House                                 0.998172\n",
      "The Cups Coffee                                  1.000000\n",
      "Thức Coffee                                      1.000000\n",
      "Trung Nguyên                                     0.997589\n",
      "Urban Station                                    1.000000\n",
      "Viva Star                                        0.995141\n",
      "Đen Đá                                           1.000000\n",
      "Name: daily, dtype: float64\n",
      "\n",
      "\n",
      "segmentation\n",
      "Seg.01 - Mass (<VND 25K)                 0.790983\n",
      "Seg.02 - Mass Asp (VND 25K - VND 59K)    0.968976\n",
      "Seg.03 - Premium (VND 60K - VND 99K)     0.986410\n",
      "Seg.04 - Super Premium (VND 100K+)       0.972222\n",
      "Name: daily, dtype: float64\n"
     ]
    },
    {
     "data": {
      "image/png": "[encoded data removed]",
      "text/plain": [
       "<Figure size 1400x500 with 2 Axes>"
      ]
     },
     "metadata": {},
     "output_type": "display_data"
    }
   ],
   "source": [
    "# Check for missing values  \n",
    "groups = ['city', 'year', 'brand','segmentation']\n",
    "for group in groups:\n",
    "    no_rate = brand_health_df.groupby(group)['daily'].apply(lambda x: (x == 'No').mean())\n",
    "    print(\"\\n\")\n",
    "    print(no_rate)\n",
    "\n",
    "# Visualize the abnormally high \"No\" rate in brand_likability\n",
    "fig, axes = plt.subplots(1, 2, figsize=(14, 5))\n",
    "brand_health_df.groupby('year')['brand_likability'].apply(lambda x: (x == 'No').mean()).plot(kind='bar', ax=axes[0])\n",
    "axes[0].set_title(\"Missingness of Brand Likability by Year\")\n",
    "axes[0].set_ylabel(\"Proportion Missing\")\n",
    "axes[0].set_xlabel(\"Year\")\n",
    "axes[0].set_ylim(0, 1)\n",
    "\n",
    "brand_health_df.groupby('year')['daily'].apply(lambda x: (x == 'No').mean()).plot(kind='bar', ax=axes[1])\n",
    "axes[1].set_title(\"Missingness of Daily by Year\")\n",
    "axes[1].set_ylabel(\"Proportion Missing\")\n",
    "axes[1].set_xlabel(\"Year\")\n",
    "axes[1].set_ylim(0, 1)\n",
    "\n",
    "plt.tight_layout()\n",
    "plt.show()"
   ]
  },
  {
   "cell_type": "markdown",
   "id": "f59a5cb5",
   "metadata": {},
   "source": [
    "#### **Find Missing Patterns of 'segmentation', 'spending', 'ppa'**"
   ]
  },
  {
   "cell_type": "markdown",
   "id": "7d6f964a",
   "metadata": {},
   "source": [
    "##### Visualize Missingness of Brand Segmentation by Year"
   ]
  },
  {
   "cell_type": "code",
   "execution_count": 57,
   "id": "577b4941",
   "metadata": {},
   "outputs": [
    {
     "name": "stdout",
     "output_type": "stream",
     "text": [
      "\n",
      "\n",
      "city\n",
      "Cần Thơ        0.757022\n",
      "Hà Nội         0.832869\n",
      "Hải Phòng      0.780631\n",
      "Hồ Chí Minh    0.856494\n",
      "Nha Trang      0.609687\n",
      "Đà Nẵng        0.808670\n",
      "Name: segmentation, dtype: float64\n",
      "\n",
      "\n",
      "year\n",
      "2017    1.000000\n",
      "2018    0.710831\n",
      "2019    0.777824\n",
      "Name: segmentation, dtype: float64\n",
      "\n",
      "\n",
      "brand\n",
      "Aha Cafe                                         0.736501\n",
      "BonPas                                           0.876582\n",
      "Cheese Coffee                                    0.951220\n",
      "Coffee Bean & Tea Leaf                           0.990291\n",
      "Cộng Cà Phê                                      0.868923\n",
      "Effoc                                            0.964059\n",
      "Gong Cha                                         1.000000\n",
      "Highlands Coffee                                 0.768662\n",
      "Independent Cafe                                 1.000000\n",
      "KOI cafe                                         1.000000\n",
      "Laha Coffee                                      1.000000\n",
      "Long Cafe                                        0.925352\n",
      "Maxx Coffee                                      1.000000\n",
      "Milano                                           0.849968\n",
      "Mê Trang                                         0.958134\n",
      "Mộc Miên                                         0.943590\n",
      "Nia cafe                                         0.939163\n",
      "Other 1                                          0.210802\n",
      "Other 2                                          0.576372\n",
      "Other 3                                          0.696429\n",
      "Other Branded Cafe Chain                         1.000000\n",
      "Passio                                           0.979103\n",
      "Phúc Long                                        0.949749\n",
      "Runam cafe                                       0.958861\n",
      "Saigon Café                                      1.000000\n",
      "Starbucks                                        0.968358\n",
      "Street                                           0.604027\n",
      "Street / Half street coffee (including carts)    0.750643\n",
      "The Coffee Factory                               0.996094\n",
      "The Coffee House                                 0.892167\n",
      "The Cups Coffee                                  0.969925\n",
      "Thức Coffee                                      0.983035\n",
      "Trung Nguyên                                     0.970464\n",
      "Urban Station                                    0.938212\n",
      "Viva Star                                        0.931973\n",
      "Đen Đá                                           0.973077\n",
      "Name: segmentation, dtype: float64\n"
     ]
    },
    {
     "data": {
      "image/png": "[encoded data removed]",
      "text/plain": [
       "<Figure size 640x480 with 1 Axes>"
      ]
     },
     "metadata": {},
     "output_type": "display_data"
    }
   ],
   "source": [
    "# Check for missing values  \n",
    "groups = ['city', 'year', 'brand']\n",
    "for group in groups:\n",
    "    no_rate = brand_health_df.groupby(group)['segmentation'].apply(lambda x: x.isna().mean())\n",
    "    print(\"\\n\")\n",
    "    print(no_rate)\n",
    "# Visualize missingness in segmentation by year\n",
    "brand_health_df.groupby('year')['segmentation'].apply(lambda x: x.isna().mean()).plot(kind='bar')\n",
    "plt.title(\"Missingness of Brand Segmentation by Year\")\n",
    "plt.ylabel(\"Proportion Missing\")\n",
    "plt.xlabel(\"Year\")\n",
    "plt.ylim(0, 1)\n",
    "plt.show()"
   ]
  },
  {
   "cell_type": "markdown",
   "id": "76072190",
   "metadata": {},
   "source": [
    "#### **Fill NA in 'segmentation', 'spending', 'ppa' with Existed Data in 'segmentation_2017_df'**"
   ]
  },
  {
   "cell_type": "markdown",
   "id": "8e366f4d",
   "metadata": {},
   "source": [
    "##### Join Tables on 'id' and 'brand_type'"
   ]
  },
  {
   "cell_type": "code",
   "execution_count": 58,
   "id": "42143751",
   "metadata": {},
   "outputs": [
    {
     "name": "stdout",
     "output_type": "stream",
     "text": [
      "['Chain' 'Street' 'Independent']\n"
     ]
    }
   ],
   "source": [
    "# Create brand_type column\n",
    "street = brand_health_df['brand'].str.lower().str.contains('street')\n",
    "independent = brand_health_df['brand'].str.lower().str.contains('independent|other')\n",
    "chain = ~(street | independent)\n",
    "\n",
    "brand_health_df['brand_type'] = np.select(\n",
    "    [street, independent, chain],\n",
    "    ['Street', 'Independent', 'Chain'],\n",
    "    default='Other'\n",
    ")\n",
    "\n",
    "print(brand_health_df['brand_type'].unique())\n"
   ]
  },
  {
   "cell_type": "code",
   "execution_count": 59,
   "id": "8fc7bdd2",
   "metadata": {},
   "outputs": [],
   "source": [
    "# Rename column\n",
    "brand_health_df = brand_health_df.rename(columns={'fre_visit': 'visit'})"
   ]
  },
  {
   "cell_type": "code",
   "execution_count": 60,
   "id": "c46b5a9d",
   "metadata": {},
   "outputs": [],
   "source": [
    "# Since segmentation, spending and ppa are completely missing in 2017, we will use segmentation_2017_df to fill in the missing values\n",
    "# Merge brand_health_df with segmentation_2017_df to get segmentation, spending and ppa columns\n",
    "# Perform a left join to bring in segmentation data\n",
    "merged_df = brand_health_df.merge(\n",
    "    segmentation_2017_df[['id', 'brand_type', 'segmentation', 'spending', 'ppa', 'visit']],\n",
    "    on=['id', 'brand_type'],\n",
    "    how='left',\n",
    "    suffixes=('', '_from_2017')  # To differentiate columns\n",
    ")\n",
    "\n",
    "# 2) Fill only for year 2017, only where left is NaN, and only if the right has a value\n",
    "mask_2017 = merged_df['year'].eq(2017)\n",
    "\n",
    "for col in ['segmentation', 'spending', 'ppa', 'visit']:\n",
    "    src = f'{col}_from_2017'\n",
    "    to_fill = mask_2017 & merged_df['visit'].notna() & merged_df[col].isna() & merged_df[src].notna()\n",
    "    merged_df.loc[to_fill, col] = merged_df.loc[to_fill, src]\n",
    "\n",
    "# Drop the extra columns from segmentation_2017_df\n",
    "merged_df = merged_df.drop(columns=[f'{col}_from_2017' for col in ['segmentation', 'spending', 'ppa', 'visit']])"
   ]
  },
  {
   "cell_type": "code",
   "execution_count": 61,
   "id": "cca245b8",
   "metadata": {},
   "outputs": [],
   "source": [
    "# Overwrite brand_health_df with merged_df\n",
    "brand_health_df = merged_df"
   ]
  },
  {
   "cell_type": "markdown",
   "id": "6551c998",
   "metadata": {},
   "source": [
    "#### **Check Missingness After Imputation**"
   ]
  },
  {
   "cell_type": "code",
   "execution_count": 62,
   "id": "448660dc",
   "metadata": {},
   "outputs": [
    {
     "name": "stdout",
     "output_type": "stream",
     "text": [
      "Summary Table of Missing Values After Imputation:\n",
      "                  Number of Missing  Percentage of Missing\n",
      "Column                                                    \n",
      "spending_use                  60346                  81.09\n",
      "segmentation                  55188                  74.16\n",
      "spending                      55188                  74.16\n",
      "ppa                           55188                  74.16\n",
      "visit                         55087                  74.02\n",
      "nps_p3m                       52814                  70.97\n",
      "nps_p3m_group                 52814                  70.97\n",
      "comprehension                 48073                  64.60\n",
      "brand                             0                   0.00\n",
      "city                              0                   0.00\n",
      "year                              0                   0.00\n",
      "id                                0                   0.00\n",
      "daily                             0                   0.00\n",
      "weekly                            0                   0.00\n",
      "brand_likability                  0                   0.00\n",
      "p1m                               0                   0.00\n",
      "trial                             0                   0.00\n",
      "p3m                               0                   0.00\n",
      "spontaneous                       0                   0.00\n",
      "brand_type                        0                   0.00\n"
     ]
    }
   ],
   "source": [
    "# Missingness summary\n",
    "miss_summary = (\n",
    "    merged_df.isna()\n",
    "    .sum()\n",
    "    .rename(\"Number of Missing\")\n",
    "    .to_frame()\n",
    ")\n",
    "miss_summary[\"Percentage of Missing\"] = (miss_summary[\"Number of Missing\"] / len(merged_df) * 100).round(2)\n",
    "miss_summary = miss_summary.rename_axis(\"Column\")\n",
    "print(\"Summary Table of Missing Values After Imputation:\")\n",
    "print(miss_summary.sort_values(\"Number of Missing\", ascending=False))"
   ]
  },
  {
   "cell_type": "markdown",
   "id": "704096bf",
   "metadata": {},
   "source": [
    "#### **Table Formatting**"
   ]
  },
  {
   "cell_type": "code",
   "execution_count": 63,
   "id": "036de957",
   "metadata": {},
   "outputs": [],
   "source": [
    "# Drop redundant columns, rename columns, and reorder columns\n",
    "redundant_columns = ['brand_type', 'spending_use']\n",
    "brand_health_df = brand_health_df.drop(columns=redundant_columns, errors='ignore')"
   ]
  },
  {
   "cell_type": "markdown",
   "id": "2d62b019",
   "metadata": {},
   "source": [
    "## **Companion Table**\n",
    "\n",
    "**Description:** Table contains information on the typical companion type (e.g., friends, family, alone) customers have when visiting coffee shops.\n",
    "\n",
    "**Key Summary:** No error is found.\n"
   ]
  },
  {
   "cell_type": "code",
   "execution_count": 64,
   "id": "5fd588e0",
   "metadata": {},
   "outputs": [
    {
     "name": "stdout",
     "output_type": "stream",
     "text": [
      "      id         city         companion_group  year\n",
      "0  89100  Hồ Chí Minh  Boyfriend / Girlfriend  2017\n",
      "1  89100  Hồ Chí Minh                 Friends  2017\n",
      "2  89101  Hồ Chí Minh                  Family  2017\n",
      "3  89101  Hồ Chí Minh                 Friends  2017\n",
      "4  89102  Hồ Chí Minh                 Friends  2017\n",
      "--------------------------------------------------\n",
      "                  id          year\n",
      "count   20739.000000  20739.000000\n",
      "mean   465470.813540   2018.050822\n",
      "std    272266.066681      0.794681\n",
      "min     89100.000000   2017.000000\n",
      "25%    138826.000000   2017.000000\n",
      "50%    439750.000000   2018.000000\n",
      "75%    790252.000000   2019.000000\n",
      "max    863754.000000   2019.000000\n",
      "--------------------------------------------------\n",
      "<class 'pandas.core.frame.DataFrame'>\n",
      "RangeIndex: 20739 entries, 0 to 20738\n",
      "Data columns (total 4 columns):\n",
      " #   Column           Non-Null Count  Dtype \n",
      "---  ------           --------------  ----- \n",
      " 0   id               20739 non-null  int64 \n",
      " 1   city             20739 non-null  object\n",
      " 2   companion_group  20739 non-null  object\n",
      " 3   year             20739 non-null  int64 \n",
      "dtypes: int64(2), object(2)\n",
      "memory usage: 648.2+ KB\n",
      "None\n"
     ]
    }
   ],
   "source": [
    "#Describe data distribution and data type\n",
    "print(companion_df.head())\n",
    "print(\"-\" * 50)\n",
    "print(companion_df.describe())\n",
    "print(\"-\" * 50)\n",
    "print(companion_df.info())"
   ]
  },
  {
   "cell_type": "code",
   "execution_count": 65,
   "id": "73e3a951",
   "metadata": {},
   "outputs": [
    {
     "name": "stdout",
     "output_type": "stream",
     "text": [
      "Unique values in column 'id':\n",
      "[ 89100  89101  89102 ... 862137 862458 863754]\n",
      "\n",
      "\n",
      "Unique values in column 'city':\n",
      "['Hồ Chí Minh' 'Cần Thơ' 'Hà Nội' 'Hải Phòng' 'Đà Nẵng' 'Nha Trang']\n",
      "\n",
      "\n",
      "Unique values in column 'companion_group':\n",
      "['Boyfriend / Girlfriend' 'Friends' 'Family'\n",
      " 'Colleagues / Business partner' 'Alone' 'Others']\n",
      "\n",
      "\n",
      "Unique values in column 'year':\n",
      "[2017 2018 2019]\n",
      "\n",
      "\n"
     ]
    }
   ],
   "source": [
    "# Check unique values in columns\n",
    "for column_name in companion_df.columns:\n",
    "    print(f\"Unique values in column '{column_name}':\")\n",
    "    print(companion_df[column_name].unique())\n",
    "    print(\"\\n\")"
   ]
  },
  {
   "cell_type": "code",
   "execution_count": 66,
   "id": "b533a017",
   "metadata": {},
   "outputs": [
    {
     "name": "stdout",
     "output_type": "stream",
     "text": [
      "Summary Table of Missing Values:\n",
      "                 Number of Missing  Percentage of Missing\n",
      "Column                                                   \n",
      "id                               0                    0.0\n",
      "city                             0                    0.0\n",
      "companion_group                  0                    0.0\n",
      "year                             0                    0.0\n"
     ]
    }
   ],
   "source": [
    "# Missingness summary,\n",
    "miss_summary = (\n",
    "    companion_df.isna()\n",
    "    .sum()\n",
    "    .rename(\"Number of Missing\")\n",
    "    .to_frame()\n",
    ")\n",
    "miss_summary[\"Percentage of Missing\"] = (miss_summary[\"Number of Missing\"] / len(companion_df) * 100).round(2)\n",
    "miss_summary = miss_summary.rename_axis(\"Column\")\n",
    "print(\"Summary Table of Missing Values:\")\n",
    "print(miss_summary.sort_values(\"Number of Missing\", ascending=False))"
   ]
  },
  {
   "cell_type": "code",
   "execution_count": 67,
   "id": "960c9970",
   "metadata": {},
   "outputs": [
    {
     "data": {
      "application/vnd.microsoft.datawrangler.viewer.v0+json": {
       "columns": [
        {
         "name": "companion_group",
         "rawType": "object",
         "type": "string"
        },
        {
         "name": "count",
         "rawType": "int64",
         "type": "integer"
        }
       ],
       "ref": "6a6eaffc-afa3-4bce-b3f4-07d23b76d2ae",
       "rows": [
        [
         "Friends",
         "9663"
        ],
        [
         "Family",
         "5924"
        ],
        [
         "Colleagues / Business partner",
         "2934"
        ],
        [
         "Alone",
         "1473"
        ],
        [
         "Boyfriend / Girlfriend",
         "718"
        ],
        [
         "Others",
         "27"
        ]
       ],
       "shape": {
        "columns": 1,
        "rows": 6
       }
      },
      "text/plain": [
       "companion_group\n",
       "Friends                          9663\n",
       "Family                           5924\n",
       "Colleagues / Business partner    2934\n",
       "Alone                            1473\n",
       "Boyfriend / Girlfriend            718\n",
       "Others                             27\n",
       "Name: count, dtype: int64"
      ]
     },
     "execution_count": 67,
     "metadata": {},
     "output_type": "execute_result"
    }
   ],
   "source": [
    "# Count unique values in companion_group\n",
    "companion_df['companion_group'].value_counts()"
   ]
  },
  {
   "cell_type": "markdown",
   "id": "490167df",
   "metadata": {},
   "source": [
    "## **Competitor Data for Filter Table**\n",
    "\n",
    "**Description:** Table contains the number of physical store locations for each coffee brand by city and year, used to assess market presence and competitive density.\n",
    "\n",
    "**Key Summary:** No error is found."
   ]
  },
  {
   "cell_type": "code",
   "execution_count": 68,
   "id": "bd39d141",
   "metadata": {},
   "outputs": [
    {
     "name": "stdout",
     "output_type": "stream",
     "text": [
      "   no_        brand        city  year  store_count\n",
      "0    6  Cộng Cà Phê   Hải Phòng  2017            1\n",
      "1    9  Cộng Cà Phê     Lào Cai  2017            1\n",
      "2   10  Cộng Cà Phê   Nha Trang  2017            1\n",
      "3   11  Cộng Cà Phê   Quảng Nam  2017            1\n",
      "4   12  Cộng Cà Phê  Quảng Ninh  2017            1\n",
      "--------------------------------------------------\n",
      "              no_         year  store_count\n",
      "count  234.000000   234.000000   234.000000\n",
      "mean   117.500000  2018.000000     7.435897\n",
      "std     67.694165     0.818247    17.220800\n",
      "min      1.000000  2017.000000     0.000000\n",
      "25%     59.250000  2017.000000     1.000000\n",
      "50%    117.500000  2018.000000     1.000000\n",
      "75%    175.750000  2019.000000     4.000000\n",
      "max    234.000000  2019.000000   113.000000\n",
      "--------------------------------------------------\n",
      "<class 'pandas.core.frame.DataFrame'>\n",
      "RangeIndex: 234 entries, 0 to 233\n",
      "Data columns (total 5 columns):\n",
      " #   Column       Non-Null Count  Dtype \n",
      "---  ------       --------------  ----- \n",
      " 0   no_          234 non-null    int64 \n",
      " 1   brand        234 non-null    object\n",
      " 2   city         234 non-null    object\n",
      " 3   year         234 non-null    int64 \n",
      " 4   store_count  234 non-null    int64 \n",
      "dtypes: int64(3), object(2)\n",
      "memory usage: 9.3+ KB\n",
      "None\n"
     ]
    }
   ],
   "source": [
    "#Describe data distribution and data type\n",
    "print(competitor_data_for_filter_df.head())\n",
    "print(\"-\" * 50)\n",
    "print(competitor_data_for_filter_df.describe())\n",
    "print(\"-\" * 50)\n",
    "print(competitor_data_for_filter_df.info())"
   ]
  },
  {
   "cell_type": "code",
   "execution_count": 69,
   "id": "cc95bf9e",
   "metadata": {},
   "outputs": [
    {
     "name": "stdout",
     "output_type": "stream",
     "text": [
      "Unique values in column 'no_':\n",
      "[  6   9  10  11  12  13  26  28  32  34  41  50  58  68  71  72  77  82\n",
      "  84  86  87  88  89  90  92  94  96 104 105 106 109 112 115 124 126 128\n",
      " 132 133 140 143 144 145 149 150 151 155 157 160 164 165 166 167 168 170\n",
      " 171 172 182 183 184 187 190 193 196 198 202 210 218 220 221 223 227 228\n",
      " 229 233   1   2   3   4   5   7   8  14  15  16  17  18  19  20  21  22\n",
      "  23  24  25  27  29  30  31  33  35  36  37  38  39  40  42  43  44  45\n",
      "  46  47  48  49  51  52  53  54  55  56  57  59  60  61  62  63  64  65\n",
      "  66  67  69  70  73  74  75  76  78  79  80  81  83  85  91  93  95  97\n",
      "  98  99 100 101 102 103 107 108 110 111 113 114 116 117 118 119 120 121\n",
      " 122 123 125 127 129 130 131 134 135 136 137 138 139 141 142 146 147 148\n",
      " 152 153 154 156 158 159 161 162 163 169 173 174 175 176 177 178 179 180\n",
      " 181 185 186 188 189 191 192 194 195 197 199 200 201 203 204 205 206 207\n",
      " 208 209 211 212 213 214 215 216 217 219 222 224 225 226 230 231 232 234]\n",
      "\n",
      "\n",
      "Unique values in column 'brand':\n",
      "['Cộng Cà Phê' 'Highlands Coffee' 'Phúc Long' 'Starbucks'\n",
      " 'The Coffee House' 'Trung Nguyên']\n",
      "\n",
      "\n",
      "Unique values in column 'city':\n",
      "['Hải Phòng' 'Lào Cai' 'Nha Trang' 'Quảng Nam' 'Quảng Ninh' 'Seoul'\n",
      " 'Hưng Yên' 'Nam Định' 'Thái Bình' 'Đà Nẵng' 'Đồng Nai' 'Vũng Tàu'\n",
      " 'Đắk Lắk' 'Gyeonggi' 'Lạng Sơn' 'Thái Nguyên' 'Thừa Thiên Huế'\n",
      " 'Bình Định' 'Long An' 'Phú Thọ' 'Tiền Giang' 'Bình Dương' 'Cần Thơ'\n",
      " 'Thanh Hóa' 'Hà Nam' 'Bắc Ninh' 'Hà Nội' 'Hồ Chí Minh' 'Nghệ An']\n",
      "\n",
      "\n",
      "Unique values in column 'year':\n",
      "[2017 2018 2019]\n",
      "\n",
      "\n",
      "Unique values in column 'store_count':\n",
      "[  1   0   2  26   8   7   4  15   9  57  85   3   5  25  21  11  55   6\n",
      "  33  32  12  19  10  75  13 104  36  28  24  79  42  14  20  84 113  39\n",
      "  18  43]\n",
      "\n",
      "\n"
     ]
    }
   ],
   "source": [
    "# Check unique values in columns\n",
    "for column_name in competitor_data_for_filter_df.columns:\n",
    "    print(f\"Unique values in column '{column_name}':\")\n",
    "    print(competitor_data_for_filter_df[column_name].unique())\n",
    "    print(\"\\n\")"
   ]
  },
  {
   "cell_type": "code",
   "execution_count": 70,
   "id": "e5c9aede",
   "metadata": {},
   "outputs": [
    {
     "name": "stdout",
     "output_type": "stream",
     "text": [
      "Summary Table of Missing Values:\n",
      "             Number of Missing  Percentage of Missing\n",
      "Column                                               \n",
      "no_                          0                    0.0\n",
      "brand                        0                    0.0\n",
      "city                         0                    0.0\n",
      "year                         0                    0.0\n",
      "store_count                  0                    0.0\n"
     ]
    }
   ],
   "source": [
    "# Missingness summary,\n",
    "miss_summary = (\n",
    "    competitor_data_for_filter_df.isna()\n",
    "    .sum()\n",
    "    .rename(\"Number of Missing\")\n",
    "    .to_frame()\n",
    ")\n",
    "miss_summary[\"Percentage of Missing\"] = (miss_summary[\"Number of Missing\"] / len(competitor_data_for_filter_df) * 100).round(2)\n",
    "miss_summary = miss_summary.rename_axis(\"Column\")\n",
    "print(\"Summary Table of Missing Values:\")\n",
    "print(miss_summary.sort_values(\"Number of Missing\", ascending=False))"
   ]
  },
  {
   "cell_type": "markdown",
   "id": "60f553a2",
   "metadata": {},
   "source": [
    "## **Day of Week**\n",
    "\n",
    "**Description:** Table contains data on which days of the week consumers typically visit coffee shops, including visit frequency and weekday/weekend classification.\n",
    "\n",
    "**Key Summary:** \n",
    "\n",
    "1. Given missing rate of 'visit_dayofweek', 'dayofweek' < 5%, these columns are imputed by median to ensure data consistency.\n"
   ]
  },
  {
   "cell_type": "code",
   "execution_count": 71,
   "id": "bbdfac68",
   "metadata": {},
   "outputs": [
    {
     "name": "stdout",
     "output_type": "stream",
     "text": [
      "      id         city dayofweek  visit_dayofweek  year weekday_end\n",
      "0  89100  Hồ Chí Minh    Monday              2.0  2017    Weekdays\n",
      "1  89100  Hồ Chí Minh  Thursday              2.0  2017    Weekdays\n",
      "2  89100  Hồ Chí Minh  Saturday              2.0  2017    Weekends\n",
      "3  89100  Hồ Chí Minh    Friday              2.0  2017    Weekdays\n",
      "4  89100  Hồ Chí Minh    Sunday              4.0  2017    Weekends\n",
      "--------------------------------------------------\n",
      "                  id  visit_dayofweek          year\n",
      "count   39095.000000     39041.000000  39095.000000\n",
      "mean   449655.770994         3.552932   2018.006599\n",
      "std    270582.014165         1.940105      0.791710\n",
      "min     89100.000000         1.000000   2017.000000\n",
      "25%    138476.000000         2.000000   2017.000000\n",
      "50%    433724.000000         4.000000   2018.000000\n",
      "75%    781425.500000         4.000000   2019.000000\n",
      "max    863754.000000        36.000000   2019.000000\n",
      "--------------------------------------------------\n",
      "<class 'pandas.core.frame.DataFrame'>\n",
      "RangeIndex: 39095 entries, 0 to 39094\n",
      "Data columns (total 6 columns):\n",
      " #   Column           Non-Null Count  Dtype  \n",
      "---  ------           --------------  -----  \n",
      " 0   id               39095 non-null  int64  \n",
      " 1   city             39095 non-null  object \n",
      " 2   dayofweek        39009 non-null  object \n",
      " 3   visit_dayofweek  39041 non-null  float64\n",
      " 4   year             39095 non-null  int64  \n",
      " 5   weekday_end      39009 non-null  object \n",
      "dtypes: float64(1), int64(2), object(3)\n",
      "memory usage: 1.8+ MB\n",
      "None\n"
     ]
    }
   ],
   "source": [
    "#Describe data distribution and data type\n",
    "print(day_of_week_df.head())\n",
    "print(\"-\" * 50)\n",
    "print(day_of_week_df.describe())\n",
    "print(\"-\" * 50)\n",
    "print(day_of_week_df.info())"
   ]
  },
  {
   "cell_type": "code",
   "execution_count": 72,
   "id": "e63db9b2",
   "metadata": {},
   "outputs": [
    {
     "name": "stdout",
     "output_type": "stream",
     "text": [
      "Unique values in column 'id':\n",
      "[ 89100  89101  89102 ... 862137 862458 863754]\n",
      "\n",
      "\n",
      "Unique values in column 'city':\n",
      "['Hồ Chí Minh' 'Cần Thơ' 'Hà Nội' 'Hải Phòng' 'Đà Nẵng' 'Nha Trang']\n",
      "\n",
      "\n",
      "Unique values in column 'dayofweek':\n",
      "['Monday' 'Thursday' 'Saturday' 'Friday' 'Sunday' 'Tuesday' 'Wednesday'\n",
      " None]\n",
      "\n",
      "\n",
      "Unique values in column 'visit_dayofweek':\n",
      "[ 2.  4.  1.  3.  8.  5.  6. 10. 16. 14.  7. 12. 36.  9. nan 18. 15. 11.\n",
      " 20. 17. 30. 25. 13. 35. 21. 23. 22.]\n",
      "\n",
      "\n",
      "Unique values in column 'year':\n",
      "[2017 2018 2019]\n",
      "\n",
      "\n",
      "Unique values in column 'weekday_end':\n",
      "['Weekdays' 'Weekends' None]\n",
      "\n",
      "\n"
     ]
    }
   ],
   "source": [
    "# Check unique values in columns\n",
    "for column_name in day_of_week_df.columns:\n",
    "    print(f\"Unique values in column '{column_name}':\")\n",
    "    print(day_of_week_df[column_name].unique())\n",
    "    print(\"\\n\")"
   ]
  },
  {
   "cell_type": "markdown",
   "id": "e8432219",
   "metadata": {},
   "source": [
    "### **Handle Missing Value**"
   ]
  },
  {
   "cell_type": "code",
   "execution_count": 73,
   "id": "caefa1b7",
   "metadata": {},
   "outputs": [
    {
     "name": "stdout",
     "output_type": "stream",
     "text": [
      "Summary Table of Missing Values:\n",
      "                 Number of Missing  Percentage of Missing\n",
      "Column                                                   \n",
      "weekday_end                     86                   0.22\n",
      "dayofweek                       86                   0.22\n",
      "visit_dayofweek                 54                   0.14\n",
      "id                               0                   0.00\n",
      "city                             0                   0.00\n",
      "year                             0                   0.00\n"
     ]
    }
   ],
   "source": [
    "# Missingness summary\n",
    "miss_summary = (\n",
    "    day_of_week_df.isna()\n",
    "    .sum()\n",
    "    .rename(\"Number of Missing\")\n",
    "    .to_frame()\n",
    ")\n",
    "miss_summary[\"Percentage of Missing\"] = (miss_summary[\"Number of Missing\"] / len(day_of_week_df) * 100).round(2)\n",
    "miss_summary = miss_summary.rename_axis(\"Column\")\n",
    "print(\"Summary Table of Missing Values:\")\n",
    "print(miss_summary.sort_values(\"Number of Missing\", ascending=False))"
   ]
  },
  {
   "cell_type": "markdown",
   "id": "d41f4c00",
   "metadata": {},
   "source": [
    "#### **Impute 'visit_dayofweek' by Median**"
   ]
  },
  {
   "cell_type": "code",
   "execution_count": 74,
   "id": "9906504d",
   "metadata": {},
   "outputs": [
    {
     "name": "stdout",
     "output_type": "stream",
     "text": [
      "Missing before: 54\n",
      "Missing after : 0\n"
     ]
    }
   ],
   "source": [
    "# Impute visit_dayofweek column with median from day_of_week_df\n",
    "# Calculate median of visit_dayofweek for each group of city, year, and dayofweek\n",
    "\n",
    "median_by_group = day_of_week_df.groupby(['city', 'year', 'dayofweek'], dropna=True)['visit_dayofweek'].transform('median')\n",
    "\n",
    "day_of_week_df['visit_dayofweek_imputed'] = day_of_week_df['visit_dayofweek'].fillna(median_by_group)\n",
    "\n",
    "print(\"Missing before:\", day_of_week_df['visit_dayofweek'].isna().sum())\n",
    "print(\"Missing after :\", day_of_week_df['visit_dayofweek_imputed'].isna().sum())"
   ]
  },
  {
   "cell_type": "code",
   "execution_count": 75,
   "id": "9353d6de",
   "metadata": {},
   "outputs": [],
   "source": [
    "#Overwrite visit_dayofweek with visit_dayofweek_imputed\n",
    "day_of_week_df['visit_dayofweek'] = day_of_week_df['visit_dayofweek_imputed']"
   ]
  },
  {
   "cell_type": "markdown",
   "id": "3f503588",
   "metadata": {},
   "source": [
    "#### **Impute 'dayofweek' by Mode**"
   ]
  },
  {
   "cell_type": "code",
   "execution_count": 76,
   "id": "2e76f179",
   "metadata": {},
   "outputs": [
    {
     "name": "stdout",
     "output_type": "stream",
     "text": [
      "Missing values before imputation: 86\n",
      "Missing values after imputation: 0\n",
      "\n"
     ]
    }
   ],
   "source": [
    "# Impute dayofweek column with mode\n",
    "# Calculate mode of dayofweek for each group of city, year, and visit_dayofweek\n",
    "mode_by_group = day_of_week_df.groupby(['city','year','visit_dayofweek'], dropna=True)['dayofweek'].transform(\n",
    "    lambda s: s.mode().iloc[0] if not s.mode().empty else np.nan\n",
    ")\n",
    "day_of_week_df['dayofweek_imputed'] = day_of_week_df['dayofweek'].fillna(mode_by_group)\n",
    "\n",
    "print(f\"Missing values before imputation: {day_of_week_df['dayofweek'].isna().sum()}\")\n",
    "print(f\"Missing values after imputation: {day_of_week_df['dayofweek_imputed'].isna().sum()}\\n\")"
   ]
  },
  {
   "cell_type": "code",
   "execution_count": 77,
   "id": "e158939f",
   "metadata": {},
   "outputs": [],
   "source": [
    "# Overwrite dayofweek with dayofweek_imputed\n",
    "day_of_week_df['dayofweek'] = day_of_week_df['dayofweek_imputed']"
   ]
  },
  {
   "cell_type": "markdown",
   "id": "25308491",
   "metadata": {},
   "source": [
    "#### **Categorize 'weekday_end'**"
   ]
  },
  {
   "cell_type": "code",
   "execution_count": 78,
   "id": "23cb5b8c",
   "metadata": {},
   "outputs": [
    {
     "name": "stdout",
     "output_type": "stream",
     "text": [
      "Missing values before imputation: 86\n",
      "Missing values after imputation: 0\n",
      "\n"
     ]
    }
   ],
   "source": [
    "# If dayofweek is Saturday or Sunday, fill missing weekday_end with \"Weekends\", otherwise \"Weekdays\"\n",
    "day_of_week_df['imputed_weekday_end'] = np.where(\n",
    "    day_of_week_df['dayofweek'].isin(['Saturday', 'Sunday']),\n",
    "    'Weekends',\n",
    "    'Weekdays'\n",
    ")\n",
    "\n",
    "print(f\"Missing values before imputation: {day_of_week_df['weekday_end'].isna().sum()}\")\n",
    "print(f\"Missing values after imputation: {day_of_week_df['imputed_weekday_end'].isna().sum()}\\n\")"
   ]
  },
  {
   "cell_type": "code",
   "execution_count": 79,
   "id": "ed7c2ba1",
   "metadata": {},
   "outputs": [],
   "source": [
    "# Overwrite weekday_end with imputed_weekday_end\n",
    "day_of_week_df['weekday_end'] = day_of_week_df['imputed_weekday_end']"
   ]
  },
  {
   "cell_type": "markdown",
   "id": "70e719c3",
   "metadata": {},
   "source": [
    "#### **Check Missingness After Imputation**"
   ]
  },
  {
   "cell_type": "code",
   "execution_count": 80,
   "id": "9eab1dfc",
   "metadata": {},
   "outputs": [
    {
     "name": "stdout",
     "output_type": "stream",
     "text": [
      "Summary Table of Missing Values:\n",
      "                         Number of Missing  Percentage of Missing\n",
      "Column                                                           \n",
      "id                                       0                    0.0\n",
      "city                                     0                    0.0\n",
      "dayofweek                                0                    0.0\n",
      "visit_dayofweek                          0                    0.0\n",
      "year                                     0                    0.0\n",
      "weekday_end                              0                    0.0\n",
      "visit_dayofweek_imputed                  0                    0.0\n",
      "dayofweek_imputed                        0                    0.0\n",
      "imputed_weekday_end                      0                    0.0\n"
     ]
    }
   ],
   "source": [
    "# Missingness summary\n",
    "miss_summary = (\n",
    "    day_of_week_df.isna()\n",
    "    .sum()\n",
    "    .rename(\"Number of Missing\")\n",
    "    .to_frame()\n",
    ")\n",
    "miss_summary[\"Percentage of Missing\"] = (miss_summary[\"Number of Missing\"] / len(day_of_week_df) * 100).round(2)\n",
    "miss_summary = miss_summary.rename_axis(\"Column\")\n",
    "print(\"Summary Table of Missing Values:\")\n",
    "print(miss_summary.sort_values(\"Number of Missing\", ascending=False))"
   ]
  },
  {
   "cell_type": "markdown",
   "id": "2ab1339e",
   "metadata": {},
   "source": [
    "### **Table Formatting**"
   ]
  },
  {
   "cell_type": "code",
   "execution_count": 81,
   "id": "e0779eb5",
   "metadata": {},
   "outputs": [],
   "source": [
    "# Drop visit_daypart_imputed column\n",
    "day_of_week_df = day_of_week_df.drop(columns=['visit_dayofweek_imputed', 'dayofweek_imputed', 'imputed_weekday_end'], errors='ignore')"
   ]
  },
  {
   "cell_type": "markdown",
   "id": "03349920",
   "metadata": {},
   "source": [
    "## **Daypart**\n",
    "\n",
    "**Description:** Table contains data on customer visit frequency by time of day, helping to identify peak hours for coffee shop visits across different cities and years.\n",
    "\n",
    "**Key Summary:** \n",
    "\n",
    "1. Given missing rate of 'visit_daypart', 'daypart' < 5%, these columns are imputed by median to ensure data consistency."
   ]
  },
  {
   "cell_type": "code",
   "execution_count": 82,
   "id": "eedf020f",
   "metadata": {},
   "outputs": [
    {
     "name": "stdout",
     "output_type": "stream",
     "text": [
      "      id         city              daypart  visit_daypart  year\n",
      "0  89100  Hồ Chí Minh   5 PM - before 9 PM            4.0  2017\n",
      "1  89100  Hồ Chí Minh  11 AM - before 2 PM            2.0  2017\n",
      "2  89100  Hồ Chí Minh   2 PM - before 5 PM            2.0  2017\n",
      "3  89100  Hồ Chí Minh        9 PM or later            4.0  2017\n",
      "4  89101  Hồ Chí Minh   5 PM - before 9 PM            1.0  2017\n",
      "--------------------------------------------------\n",
      "                  id  visit_daypart          year\n",
      "count   19189.000000   18342.000000  19189.000000\n",
      "mean   454165.151128       6.947116   2018.017093\n",
      "std    275768.320860       7.717883      0.807782\n",
      "min     89100.000000       1.000000   2017.000000\n",
      "25%    138433.000000       2.000000   2017.000000\n",
      "50%    436161.000000       4.000000   2018.000000\n",
      "75%    786912.000000       8.000000   2019.000000\n",
      "max    863754.000000      60.000000   2019.000000\n",
      "--------------------------------------------------\n",
      "<class 'pandas.core.frame.DataFrame'>\n",
      "RangeIndex: 19189 entries, 0 to 19188\n",
      "Data columns (total 5 columns):\n",
      " #   Column         Non-Null Count  Dtype  \n",
      "---  ------         --------------  -----  \n",
      " 0   id             19189 non-null  int64  \n",
      " 1   city           19189 non-null  object \n",
      " 2   daypart        19176 non-null  object \n",
      " 3   visit_daypart  18342 non-null  float64\n",
      " 4   year           19189 non-null  int64  \n",
      "dtypes: float64(1), int64(2), object(2)\n",
      "memory usage: 749.7+ KB\n",
      "None\n"
     ]
    }
   ],
   "source": [
    "#Describe data distribution and data type\n",
    "print(day_part_df.head())\n",
    "print(\"-\" * 50)\n",
    "print(day_part_df.describe())\n",
    "print(\"-\" * 50)\n",
    "print(day_part_df.info())"
   ]
  },
  {
   "cell_type": "code",
   "execution_count": 83,
   "id": "36524bbf",
   "metadata": {},
   "outputs": [
    {
     "name": "stdout",
     "output_type": "stream",
     "text": [
      "Unique values in column 'id':\n",
      "[ 89100  89101  89102 ... 862137 862458 863754]\n",
      "\n",
      "\n",
      "Unique values in column 'city':\n",
      "['Hồ Chí Minh' 'Cần Thơ' 'Hà Nội' 'Hải Phòng' 'Đà Nẵng' 'Nha Trang']\n",
      "\n",
      "\n",
      "Unique values in column 'daypart':\n",
      "['5 PM - before 9 PM' '11 AM - before 2 PM' '2 PM - before 5 PM'\n",
      " '9 PM or later' 'Before 9 AM' '9 AM - before 11 AM' None]\n",
      "\n",
      "\n",
      "Unique values in column 'visit_daypart':\n",
      "[ 4.  2.  1.  3. 10. 20.  8.  5.  6.  7. 17. 13. 12. 30. 24. 15.  9. 16.\n",
      " 14. 25. 22. 11. 28. 27. nan 40. 26. 18. 60. 45. 29. 23. 19. 21. 35. 38.\n",
      " 31. 34. 48. 43.]\n",
      "\n",
      "\n",
      "Unique values in column 'year':\n",
      "[2017 2018 2019]\n",
      "\n",
      "\n"
     ]
    }
   ],
   "source": [
    "# Check unique values in columns\n",
    "for column_name in day_part_df.columns:\n",
    "    print(f\"Unique values in column '{column_name}':\")\n",
    "    print(day_part_df[column_name].unique())\n",
    "    print(\"\\n\")"
   ]
  },
  {
   "cell_type": "markdown",
   "id": "ad813108",
   "metadata": {},
   "source": [
    "### **Handle Missing Values**"
   ]
  },
  {
   "cell_type": "code",
   "execution_count": 84,
   "id": "91fbf14f",
   "metadata": {},
   "outputs": [
    {
     "name": "stdout",
     "output_type": "stream",
     "text": [
      "Summary Table of Missing Values:\n",
      "               Number of Missing  Percentage of Missing\n",
      "Column                                                 \n",
      "visit_daypart                847                   4.41\n",
      "daypart                       13                   0.07\n",
      "id                             0                   0.00\n",
      "city                           0                   0.00\n",
      "year                           0                   0.00\n"
     ]
    }
   ],
   "source": [
    "# Missingness summary\n",
    "miss_summary = (\n",
    "    day_part_df.isna()\n",
    "    .sum()\n",
    "    .rename(\"Number of Missing\")\n",
    "    .to_frame()\n",
    ")\n",
    "miss_summary[\"Percentage of Missing\"] = (miss_summary[\"Number of Missing\"] / len(day_part_df) * 100).round(2)\n",
    "miss_summary = miss_summary.rename_axis(\"Column\")\n",
    "print(\"Summary Table of Missing Values:\")\n",
    "print(miss_summary.sort_values(\"Number of Missing\", ascending=False))"
   ]
  },
  {
   "cell_type": "markdown",
   "id": "e5dd9fee",
   "metadata": {},
   "source": [
    "#### **Impute 'visit_daypart' by Median**"
   ]
  },
  {
   "cell_type": "code",
   "execution_count": 85,
   "id": "45de41b9",
   "metadata": {},
   "outputs": [
    {
     "name": "stdout",
     "output_type": "stream",
     "text": [
      "Missing before: 847\n",
      "Missing after : 0\n"
     ]
    }
   ],
   "source": [
    "# Impute visit_daypart column with median\n",
    "# Calculate median of visit_daypart for each group of city, year, and daypart\n",
    "\n",
    "median_by_group = day_part_df.groupby(['city', 'year', 'daypart'], dropna=True)['visit_daypart'].transform('median')\n",
    "\n",
    "day_part_df['visit_daypart_imputed'] = day_part_df['visit_daypart'].fillna(median_by_group)\n",
    "\n",
    "print(\"Missing before:\", day_part_df['visit_daypart'].isna().sum())\n",
    "print(\"Missing after :\", day_part_df['visit_daypart_imputed'].isna().sum())\n"
   ]
  },
  {
   "cell_type": "code",
   "execution_count": 86,
   "id": "57e6d149",
   "metadata": {},
   "outputs": [],
   "source": [
    "# Overwrite visit_daypart with visit_daypart_imputed\n",
    "day_part_df['visit_daypart'] = day_part_df['visit_daypart_imputed']"
   ]
  },
  {
   "cell_type": "markdown",
   "id": "a568739f",
   "metadata": {},
   "source": [
    "#### **Impute 'daypart' by Mode**"
   ]
  },
  {
   "cell_type": "code",
   "execution_count": 87,
   "id": "32461ab0",
   "metadata": {},
   "outputs": [
    {
     "name": "stdout",
     "output_type": "stream",
     "text": [
      "Missing values before imputation: 13\n",
      "Missing values after imputation: 0\n",
      "\n"
     ]
    }
   ],
   "source": [
    "# Impute daypart column with mode\n",
    "# Calculate mode of daypart for each group of city, year, and visit_daypart\n",
    "mode_by_group = day_part_df.groupby(['city','year','visit_daypart'], dropna=True)['daypart'].transform(\n",
    "    lambda s: s.mode().iloc[0] if not s.mode().empty else np.nan\n",
    ")\n",
    "day_part_df['daypart_imputed'] = day_part_df['daypart'].fillna(mode_by_group)\n",
    "\n",
    "print(f\"Missing values before imputation: {day_part_df['daypart'].isna().sum()}\")\n",
    "print(f\"Missing values after imputation: {day_part_df['daypart_imputed'].isna().sum()}\\n\")"
   ]
  },
  {
   "cell_type": "code",
   "execution_count": 88,
   "id": "c9a26a14",
   "metadata": {},
   "outputs": [],
   "source": [
    "# Overwrite daypart with daypart_imputed\n",
    "day_part_df['daypart'] = day_part_df['daypart_imputed']"
   ]
  },
  {
   "cell_type": "markdown",
   "id": "bd01874c",
   "metadata": {},
   "source": [
    "#### **Check Missingness After Imputation**"
   ]
  },
  {
   "cell_type": "code",
   "execution_count": 89,
   "id": "ee34c84e",
   "metadata": {},
   "outputs": [
    {
     "name": "stdout",
     "output_type": "stream",
     "text": [
      "Summary Table of Missing Values:\n",
      "                       Number of Missing  Percentage of Missing\n",
      "Column                                                         \n",
      "id                                     0                    0.0\n",
      "city                                   0                    0.0\n",
      "daypart                                0                    0.0\n",
      "visit_daypart                          0                    0.0\n",
      "year                                   0                    0.0\n",
      "visit_daypart_imputed                  0                    0.0\n",
      "daypart_imputed                        0                    0.0\n"
     ]
    }
   ],
   "source": [
    "# Missingness summary\n",
    "miss_summary = (\n",
    "    day_part_df.isna()\n",
    "    .sum()\n",
    "    .rename(\"Number of Missing\")\n",
    "    .to_frame()\n",
    ")\n",
    "miss_summary[\"Percentage of Missing\"] = (miss_summary[\"Number of Missing\"] / len(day_part_df) * 100).round(2)\n",
    "miss_summary = miss_summary.rename_axis(\"Column\")\n",
    "print(\"Summary Table of Missing Values:\")\n",
    "print(miss_summary.sort_values(\"Number of Missing\", ascending=False))"
   ]
  },
  {
   "cell_type": "markdown",
   "id": "90a75998",
   "metadata": {},
   "source": [
    "### **Table Formatting**"
   ]
  },
  {
   "cell_type": "code",
   "execution_count": 90,
   "id": "c60d7c0b",
   "metadata": {},
   "outputs": [],
   "source": [
    "# Drop visit_daypart_imputed column\n",
    "day_part_df = day_part_df.drop(columns=['visit_daypart_imputed', 'daypart_imputed'], errors='ignore')"
   ]
  },
  {
   "cell_type": "markdown",
   "id": "96592487",
   "metadata": {},
   "source": [
    "## **Need State Table**\n",
    "\n",
    "**Description:** Table captures consumer need states linked to time of day or day-level behaviors, providing insights into why customers visit coffee shops at specific times.\n",
    "\n",
    "**Key Summary:** No error is found."
   ]
  },
  {
   "cell_type": "code",
   "execution_count": 91,
   "id": "31114a20",
   "metadata": {},
   "outputs": [
    {
     "name": "stdout",
     "output_type": "stream",
     "text": [
      "      id         city  year  \\\n",
      "0  89100  Hồ Chí Minh  2017   \n",
      "1  89100  Hồ Chí Minh  2017   \n",
      "2  89100  Hồ Chí Minh  2017   \n",
      "3  89100  Hồ Chí Minh  2017   \n",
      "4  89100  Hồ Chí Minh  2017   \n",
      "\n",
      "                                          needstates day_daypart  \\\n",
      "0                                       Drinking tea     Overall   \n",
      "1  Enterntainment (watching movies. Playing games...     Overall   \n",
      "2                                    Drinking coffee     Overall   \n",
      "3                               Drinking ice-blended     Overall   \n",
      "4                                         Socialzing     Overall   \n",
      "\n",
      "            needstate_group  \n",
      "0        Drinking beverages  \n",
      "1  Relaxing & entertainment  \n",
      "2        Drinking beverages  \n",
      "3        Drinking beverages  \n",
      "4               Socializing  \n",
      "--------------------------------------------------\n",
      "                  id          year\n",
      "count   75251.000000  75251.000000\n",
      "mean   631898.211293   2018.520246\n",
      "std    257218.326951      0.737058\n",
      "min     89100.000000   2017.000000\n",
      "25%    439073.000000   2018.000000\n",
      "50%    788931.000000   2019.000000\n",
      "75%    816248.000000   2019.000000\n",
      "max    863754.000000   2019.000000\n",
      "--------------------------------------------------\n",
      "<class 'pandas.core.frame.DataFrame'>\n",
      "RangeIndex: 75251 entries, 0 to 75250\n",
      "Data columns (total 6 columns):\n",
      " #   Column           Non-Null Count  Dtype \n",
      "---  ------           --------------  ----- \n",
      " 0   id               75251 non-null  int64 \n",
      " 1   city             75251 non-null  object\n",
      " 2   year             75251 non-null  int64 \n",
      " 3   needstates       75251 non-null  object\n",
      " 4   day_daypart      75251 non-null  object\n",
      " 5   needstate_group  75251 non-null  object\n",
      "dtypes: int64(2), object(4)\n",
      "memory usage: 3.4+ MB\n",
      "None\n"
     ]
    }
   ],
   "source": [
    "#Describe data distribution and data type\n",
    "print(need_state_df.head())\n",
    "print(\"-\" * 50)\n",
    "print(need_state_df.describe())\n",
    "print(\"-\" * 50)\n",
    "print(need_state_df.info())"
   ]
  },
  {
   "cell_type": "code",
   "execution_count": 92,
   "id": "be6f8da0",
   "metadata": {},
   "outputs": [
    {
     "name": "stdout",
     "output_type": "stream",
     "text": [
      "Unique values in column 'id':\n",
      "[ 89100  89101  89102 ... 862137 862458 863754]\n",
      "\n",
      "\n",
      "Unique values in column 'city':\n",
      "['Hồ Chí Minh' 'Cần Thơ' 'Hà Nội' 'Hải Phòng' 'Đà Nẵng' 'Nha Trang']\n",
      "\n",
      "\n",
      "Unique values in column 'year':\n",
      "[2017 2018 2019]\n",
      "\n",
      "\n",
      "Unique values in column 'needstates':\n",
      "['Drinking tea'\n",
      " 'Enterntainment (watching movies. Playing games, browsing web,…)'\n",
      " 'Drinking coffee' 'Drinking ice-blended' 'Socialzing'\n",
      " 'Drinking other beverages (excluding tea, coffee, freeze)'\n",
      " 'Studying / Reading books' 'Relaxing (Alone)' 'Have snack / pastry'\n",
      " 'Have meals (breakfast / lunch / dinner)' 'Working / Business meeting'\n",
      " 'Socializing with family / relatives' 'Socializing with friends'\n",
      " 'Socializing with colleagues' 'Other']\n",
      "\n",
      "\n",
      "Unique values in column 'day_daypart':\n",
      "['Overall' 'Before 9 AM' 'Weekends' '2 PM - before 5 PM' 'Weekdays'\n",
      " '9 PM or later' '5 PM - before 9 PM' '9 AM - before 11 AM'\n",
      " '11 AM - before 2 PM']\n",
      "\n",
      "\n",
      "Unique values in column 'needstate_group':\n",
      "['Drinking beverages' 'Relaxing & entertainment' 'Socializing'\n",
      " 'Studying & Others' 'Meals & Snack' 'Working & business meeting']\n",
      "\n",
      "\n"
     ]
    }
   ],
   "source": [
    "# Check unique values in columns\n",
    "for column_name in need_state_df.columns:\n",
    "    print(f\"Unique values in column '{column_name}':\")\n",
    "    print(need_state_df[column_name].unique())\n",
    "    print(\"\\n\")"
   ]
  },
  {
   "cell_type": "code",
   "execution_count": 93,
   "id": "9470a721",
   "metadata": {},
   "outputs": [
    {
     "name": "stdout",
     "output_type": "stream",
     "text": [
      "Summary Table of Missing Values:\n",
      "                 Number of Missing  Percentage of Missing\n",
      "Column                                                   \n",
      "id                               0                    0.0\n",
      "city                             0                    0.0\n",
      "year                             0                    0.0\n",
      "needstates                       0                    0.0\n",
      "day_daypart                      0                    0.0\n",
      "needstate_group                  0                    0.0\n"
     ]
    }
   ],
   "source": [
    "# Missingness summary\n",
    "miss_summary = (\n",
    "    need_state_df.isna()\n",
    "    .sum()\n",
    "    .rename(\"Number of Missing\")\n",
    "    .to_frame()\n",
    ")\n",
    "miss_summary[\"Percentage of Missing\"] = (miss_summary[\"Number of Missing\"] / len(need_state_df) * 100).round(2)\n",
    "miss_summary = miss_summary.rename_axis(\"Column\")\n",
    "print(\"Summary Table of Missing Values:\")\n",
    "print(miss_summary.sort_values(\"Number of Missing\", ascending=False))"
   ]
  },
  {
   "cell_type": "markdown",
   "id": "9d6a534f",
   "metadata": {},
   "source": [
    "# **Data Modelling**\n",
    "\n",
    "When reviewing brand_health_df tables, I noticed that the data is structured as responses to multiple-choice checkbox questions.\n",
    "\n",
    " - Each respondent (id) could evaluate more than one brand.\n",
    "\n",
    " - As a result, a single respondent appears in multiple rows, with each row capturing their evaluation of a different brand.\n",
    "\n",
    " - For example, in the screenshot, respondent id = 89100 in Hồ Chí Minh (2017) evaluated several brands such as Trung Nguyên, Gong Cha, The Coffee Factory, Independent Café, etc. Instead of one row containing multiple answers, the dataset records one row per brand evaluated.\n",
    "\n",
    "Table brand_image_df also captures the multiple-choice checkbox answers, evaluating attributes associated with the specific brands in brand_health_df.\n",
    "\n",
    "**Data modelling idea:** Based on the structure of the data, I have an idea to connect these tables:\n",
    "1. I regard each row in brand_health_df is a individual answer of a respondent. Therefore, I create a 'answer_index' column in brand_health_df starting at 1 to represent the answer.\n",
    "2. 'answer_index' will be merged to brand_image_df on 'id' and 'brand'.\n"
   ]
  },
  {
   "cell_type": "code",
   "execution_count": 94,
   "id": "345ded54",
   "metadata": {},
   "outputs": [],
   "source": [
    "# Create 'answer_index' in brand_health_df starting from 1\n",
    "brand_health_df['answer_index'] = range(1, len(brand_health_df) + 1)"
   ]
  },
  {
   "cell_type": "code",
   "execution_count": 95,
   "id": "ca64a023",
   "metadata": {},
   "outputs": [],
   "source": [
    "# Merge brand_image_df with brand_health_df to get answer_index\n",
    "merged_df = brand_image_df.merge(\n",
    "    brand_health_df[['id', 'brand', 'answer_index']].rename(columns={'brand': 'brand_health'}),\n",
    "    left_on=['id', 'brand_image'],          # match on brand_image.id & brand_image.brand\n",
    "    right_on=['id', 'brand_health'],  # match against brand_health.id & renamed brand\n",
    "    how='left'\n",
    ")\n"
   ]
  },
  {
   "cell_type": "code",
   "execution_count": 96,
   "id": "d15a74c6",
   "metadata": {},
   "outputs": [
    {
     "name": "stdout",
     "output_type": "stream",
     "text": [
      "\n",
      "\n",
      "city\n",
      "Cần Thơ        0.150742\n",
      "Hà Nội         0.064017\n",
      "Hải Phòng      0.117784\n",
      "Hồ Chí Minh    0.056732\n",
      "Nha Trang      0.127901\n",
      "Đà Nẵng        0.077574\n",
      "Name: answer_index, dtype: float64\n",
      "\n",
      "\n",
      "year\n",
      "2017    0.000000\n",
      "2018    0.000000\n",
      "2019    0.213663\n",
      "Name: answer_index, dtype: float64\n",
      "\n",
      "\n",
      "brand_image\n",
      "Aha Cafe                                         0.0\n",
      "BonPas                                           0.0\n",
      "Cheese Coffee                                    0.0\n",
      "Coffee Bean & Tea Leaf                           0.0\n",
      "Cộng Cà Phê                                      0.0\n",
      "Effoc                                            0.0\n",
      "Gong Cha                                         0.0\n",
      "Highlands Coffee                                 0.0\n",
      "Independent Cafe                                 0.0\n",
      "KOI cafe                                         0.0\n",
      "Laha Coffee                                      0.0\n",
      "Long Cafe                                        0.0\n",
      "Maxx Coffee                                      0.0\n",
      "Milano                                           0.0\n",
      "Mê Trang                                         0.0\n",
      "Mộc Miên                                         0.0\n",
      "Nia cafe                                         0.0\n",
      "Other                                            1.0\n",
      "Other 1                                          0.0\n",
      "Other 2                                          0.0\n",
      "Other 3                                          0.0\n",
      "Other Branded Cafe Chain                         0.0\n",
      "Passio                                           0.0\n",
      "Phúc Long                                        0.0\n",
      "Runam cafe                                       0.0\n",
      "Saigon Café                                      0.0\n",
      "Starbucks                                        0.0\n",
      "Street                                           0.0\n",
      "Street / Half street coffee (including carts)    0.0\n",
      "The Coffee Factory                               0.0\n",
      "The Coffee House                                 0.0\n",
      "The Cups Coffee                                  0.0\n",
      "Thức Coffee                                      0.0\n",
      "Trung Nguyên                                     0.0\n",
      "Urban Station                                    0.0\n",
      "Viva Star                                        0.0\n",
      "Đen Đá                                           0.0\n",
      "Name: answer_index, dtype: float64\n"
     ]
    }
   ],
   "source": [
    "# Check missingness by group\n",
    "groups = ['city', 'year', 'brand_image']\n",
    "for group in groups:\n",
    "    no_rate = merged_df.groupby(group)['answer_index'].apply(lambda x: x.isna().mean())\n",
    "    print(\"\\n\")\n",
    "    print(no_rate)"
   ]
  },
  {
   "cell_type": "code",
   "execution_count": 97,
   "id": "8ef61bc0",
   "metadata": {},
   "outputs": [
    {
     "name": "stdout",
     "output_type": "stream",
     "text": [
      "Number of rows with missing answer_index after imputation: 51788\n"
     ]
    }
   ],
   "source": [
    "# Check missing answer_index after imputation\n",
    "missing_answer_index = merged_df[merged_df['answer_index'].isna()]\n",
    "print(f\"Number of rows with missing answer_index after imputation: {len(missing_answer_index)}\")"
   ]
  },
  {
   "cell_type": "markdown",
   "id": "87a1fde3",
   "metadata": {},
   "source": [
    "## **Handle Label Error in the Year 2019**\n",
    "\n",
    "Because \"Other\" brands are not used in the brand analysis, "
   ]
  },
  {
   "cell_type": "code",
   "execution_count": 98,
   "id": "443701d4",
   "metadata": {},
   "outputs": [
    {
     "name": "stdout",
     "output_type": "stream",
     "text": [
      "Unique values containing 'Other' in brand_image_df:\n",
      "['Other']\n",
      "\n",
      "\n",
      "Unique values containing 'Other' in brand_health_df:\n",
      "['Other 1' 'Other 2' 'Other 3']\n"
     ]
    }
   ],
   "source": [
    "# Check unique values containing \"Other\" of brand in brand_image_df and brand_health_df in 2019\n",
    "print(\"Unique values containing 'Other' in brand_image_df:\")\n",
    "print(brand_image_df[(brand_image_df['year'] == 2019) & (brand_image_df['brand_image'].str.contains('Other', case=False, na=False))]['brand_image'].unique())\n",
    "print(\"\\n\")\n",
    "print(\"Unique values containing 'Other' in brand_health_df:\")\n",
    "print(brand_health_df[(brand_health_df['year'] == 2019) & (brand_health_df['brand'].str.contains('Other', case=False, na=False))]['brand'].unique())"
   ]
  },
  {
   "cell_type": "code",
   "execution_count": 99,
   "id": "6749cfe9",
   "metadata": {},
   "outputs": [
    {
     "name": "stdout",
     "output_type": "stream",
     "text": [
      "Counts of 'Other' brand occurrences by ID:\n",
      "id\n",
      "709124    2\n",
      "709345    1\n",
      "724325    1\n",
      "724898    1\n",
      "724930    3\n",
      "         ..\n",
      "859707    3\n",
      "860708    2\n",
      "860742    2\n",
      "862137    2\n",
      "863754    2\n",
      "Length: 2304, dtype: int64\n"
     ]
    }
   ],
   "source": [
    "# Count how many times an id has Other in brand\n",
    "other_brand_counts = brand_health_df[(brand_health_df['year'] == 2019) & (brand_health_df['brand'].str.contains('Other', case=False, na=False))].groupby('id').size()\n",
    "print(\"Counts of 'Other' brand occurrences by ID:\")\n",
    "print(other_brand_counts)"
   ]
  },
  {
   "cell_type": "markdown",
   "id": "b87122bc",
   "metadata": {},
   "source": [
    "### **Replace Actual Brand Labels for IDs with one \"Other\" brand**"
   ]
  },
  {
   "cell_type": "code",
   "execution_count": 100,
   "id": "66d72a1c",
   "metadata": {},
   "outputs": [],
   "source": [
    "# 1. Create a mapping of id and \"Other\" brand from brand_health_df\n",
    "other_brand_mapping_1 = (\n",
    "    brand_health_df\n",
    "    .loc[\n",
    "        (brand_health_df['year'] == 2019) &\n",
    "        (brand_health_df['brand'].str.contains('Other', case=False, na=False))\n",
    "    , ['id', 'brand']]\n",
    "    .groupby('id')['brand']\n",
    "    .first()                #  Get the first occurrence\n",
    ")\n",
    "\n",
    "# 2. Filter the mapping to include only ids with exactly one \"Other\" brand\n",
    "ids_with_one_other = other_brand_counts[other_brand_counts == 1].index\n",
    "other_brand_mapping_1 = other_brand_mapping_1.loc[ids_with_one_other]\n",
    "\n",
    "# 3. Replace \"Other\" in brand_image_df for these ids\n",
    "brand_image_df.loc[\n",
    "    (brand_image_df['id'].isin(ids_with_one_other)) &\n",
    "    (brand_image_df['brand_image'].str.contains('Other', case=False, na=False)),\n",
    "    'imputed_brand_image'\n",
    "] = brand_image_df['id'].map(other_brand_mapping_1)"
   ]
  },
  {
   "cell_type": "markdown",
   "id": "c7a0da9e",
   "metadata": {},
   "source": [
    "### **Replace Actual Brand Labels for IDs with multiple \"Other\" brand**"
   ]
  },
  {
   "cell_type": "code",
   "execution_count": 101,
   "id": "e858c605",
   "metadata": {},
   "outputs": [],
   "source": [
    "# 1. Filter the mapping \n",
    "other_brand_mapping_multiple = (\n",
    "    brand_health_df\n",
    "    .loc[\n",
    "        (brand_health_df['year'] == 2019) &\n",
    "        (brand_health_df['brand'].str.contains('Other', case=False, na=False))\n",
    "    , ['id', 'brand']]\n",
    ")\n",
    "\n",
    "# 2. Filter ids with more than one \"Other\" brand\n",
    "ids_with_multiple_others = other_brand_counts[other_brand_counts > 1].index\n",
    "other_brand_mapping_multiple = other_brand_mapping_multiple.loc[other_brand_mapping_multiple['id'].isin(ids_with_multiple_others)].sort_values(by=['id', 'brand'])\n",
    "\n",
    "# 3. Rank each unique values in 'brand' in other_brand_mapping_multiple partitioned by 'id'\n",
    "other_brand_mapping_multiple['rank'] = other_brand_mapping_multiple.groupby('id').cumcount() + 1\n",
    "\n",
    "# 4. Rank each unique values in 'attribute' in brand_image_df partitioned by 'id'\n",
    "brand_image_df['rank'] = np.nan  # Initialize rank column with NaN\n",
    "\n",
    "brand_image_df['rank'] = (\n",
    "    brand_image_df\n",
    "    .loc[\n",
    "    (brand_image_df['year'] == 2019) & \n",
    "    (brand_image_df['brand_image'].str.contains(\"Other\", case=False, na=False))\n",
    "    ]\n",
    "    .groupby(['id', 'attribute'])\n",
    "    .cumcount() + 1\n",
    ")"
   ]
  },
  {
   "cell_type": "code",
   "execution_count": 102,
   "id": "6e014ea5",
   "metadata": {},
   "outputs": [],
   "source": [
    "# Create a dictionary to map (id, rank) to brand\n",
    "brand_dict = (\n",
    "    other_brand_mapping_multiple[['id', 'rank', 'brand']]\n",
    "    .set_index(['id', 'rank'])['brand']\n",
    "    .to_dict()\n",
    ")\n",
    "\n",
    "# Function to impute imputed_brand_image based on (id, rank)\n",
    "def impute_brand_image(row):\n",
    "    if pd.isna(row['imputed_brand_image']) and not pd.isna(row['rank']):\n",
    "        return brand_dict.get((row['id'], row['rank']), np.nan)\n",
    "    else:\n",
    "        return row['imputed_brand_image']\n",
    "\n",
    "# Set targeted subset\n",
    "mask_multiple = (\n",
    "    (brand_image_df['year'] == 2019) &\n",
    "    (brand_image_df['brand_image'].str.contains('Other', case=False, na=False)) &\n",
    "    (brand_image_df['id'].isin(ids_with_multiple_others))\n",
    ")\n",
    "\n",
    "# Apply to dataframe\n",
    "brand_image_df.loc[mask_multiple, 'imputed_brand_image'] = brand_image_df[mask_multiple].apply(impute_brand_image, axis=1)"
   ]
  },
  {
   "cell_type": "code",
   "execution_count": 103,
   "id": "97060825",
   "metadata": {},
   "outputs": [],
   "source": [
    "# Overwrite brand_image with imputed_brand_image where not null\n",
    "brand_image_df['brand_image'] = brand_image_df['imputed_brand_image'].fillna(brand_image_df['brand_image'])"
   ]
  },
  {
   "cell_type": "code",
   "execution_count": 104,
   "id": "3fa41ab3",
   "metadata": {},
   "outputs": [],
   "source": [
    "# Drop temporary columns\n",
    "brand_image_df = brand_image_df.drop(columns=['imputed_brand_image', 'rank'], errors='ignore')"
   ]
  },
  {
   "cell_type": "markdown",
   "id": "724b8b37",
   "metadata": {},
   "source": [
    "### **Merge to Get 'answer_index'**"
   ]
  },
  {
   "cell_type": "code",
   "execution_count": 105,
   "id": "5d38ea6e",
   "metadata": {},
   "outputs": [],
   "source": [
    "# Merge brand_image_df with brand_health_df to get answer_index\n",
    "merged_df = brand_image_df.merge(\n",
    "    brand_health_df[['id', 'brand', 'answer_index']].rename(columns={'brand': 'brand_health'}),\n",
    "    left_on=['id', 'brand_image'],          # match on brand_image.id & brand_image.brand\n",
    "    right_on=['id', 'brand_health'],  # match against brand_health.id & renamed brand\n",
    "    how='left'\n",
    ")"
   ]
  },
  {
   "cell_type": "code",
   "execution_count": 106,
   "id": "5b12f408",
   "metadata": {},
   "outputs": [
    {
     "name": "stdout",
     "output_type": "stream",
     "text": [
      "Number of rows with missing answer_index after imputation: 0\n"
     ]
    }
   ],
   "source": [
    "# Check missing answer_index after imputation\n",
    "missing_answer_index = merged_df[merged_df['answer_index'].isna()]\n",
    "print(f\"Number of rows with missing answer_index after imputation: {len(missing_answer_index)}\")"
   ]
  },
  {
   "cell_type": "code",
   "execution_count": 107,
   "id": "5cfe10e6",
   "metadata": {},
   "outputs": [],
   "source": [
    "# Overwrite brand_image_df with merged_df\n",
    "brand_image_df = merged_df.drop(columns=['brand_health'])"
   ]
  },
  {
   "cell_type": "markdown",
   "id": "dda62d21",
   "metadata": {},
   "source": [
    "# **Customer Segmentation**"
   ]
  },
  {
   "cell_type": "code",
   "execution_count": 108,
   "id": "9e6cfe4f",
   "metadata": {},
   "outputs": [],
   "source": [
    "# Create segmentation dataframe from brand_health_df\n",
    "exclude_columns = ['comprehension', 'brand_likability', 'spontaneous', 'nps_p3m', 'nps_p3m_group', 'answer_index', 'brand_key']\n",
    "segmentation_df = brand_health_df[[col for col in brand_health_df.columns if col not in exclude_columns]].drop_duplicates()\n",
    "\n",
    "# Only select rows where brand column is ...\n",
    "brand_names = [\"Highlands Coffee\", \"The Coffee House\", \"Trung Nguyên\", \"Phúc Long\", \"Starbucks\", \"Cộng Cà Phê\"]\n",
    "segmentation_df = segmentation_df[segmentation_df['brand'].isin(brand_names)]\n",
    "\n",
    "# Drop rows where spending is missing\n",
    "segmentation_df = segmentation_df.dropna(subset=['spending'])"
   ]
  },
  {
   "cell_type": "code",
   "execution_count": 109,
   "id": "9f11a5ef",
   "metadata": {},
   "outputs": [
    {
     "data": {
      "application/vnd.microsoft.datawrangler.viewer.v0+json": {
       "columns": [
        {
         "name": "index",
         "rawType": "object",
         "type": "string"
        },
        {
         "name": "No",
         "rawType": "int64",
         "type": "integer"
        },
        {
         "name": "Yes",
         "rawType": "int64",
         "type": "integer"
        }
       ],
       "ref": "6457f895-4b4e-42e2-83dc-04735da8f07d",
       "rows": [
        [
         "trial",
         "2",
         "4584"
        ],
        [
         "p3m",
         "2",
         "4584"
        ],
        [
         "p1m",
         "1",
         "4585"
        ],
        [
         "weekly",
         "2567",
         "2019"
        ],
        [
         "daily",
         "4473",
         "113"
        ]
       ],
       "shape": {
        "columns": 2,
        "rows": 5
       }
      },
      "text/html": [
       "<div>\n",
       "<style scoped>\n",
       "    .dataframe tbody tr th:only-of-type {\n",
       "        vertical-align: middle;\n",
       "    }\n",
       "\n",
       "    .dataframe tbody tr th {\n",
       "        vertical-align: top;\n",
       "    }\n",
       "\n",
       "    .dataframe thead th {\n",
       "        text-align: right;\n",
       "    }\n",
       "</style>\n",
       "<table border=\"1\" class=\"dataframe\">\n",
       "  <thead>\n",
       "    <tr style=\"text-align: right;\">\n",
       "      <th></th>\n",
       "      <th>No</th>\n",
       "      <th>Yes</th>\n",
       "    </tr>\n",
       "  </thead>\n",
       "  <tbody>\n",
       "    <tr>\n",
       "      <th>trial</th>\n",
       "      <td>2</td>\n",
       "      <td>4584</td>\n",
       "    </tr>\n",
       "    <tr>\n",
       "      <th>p3m</th>\n",
       "      <td>2</td>\n",
       "      <td>4584</td>\n",
       "    </tr>\n",
       "    <tr>\n",
       "      <th>p1m</th>\n",
       "      <td>1</td>\n",
       "      <td>4585</td>\n",
       "    </tr>\n",
       "    <tr>\n",
       "      <th>weekly</th>\n",
       "      <td>2567</td>\n",
       "      <td>2019</td>\n",
       "    </tr>\n",
       "    <tr>\n",
       "      <th>daily</th>\n",
       "      <td>4473</td>\n",
       "      <td>113</td>\n",
       "    </tr>\n",
       "  </tbody>\n",
       "</table>\n",
       "</div>"
      ],
      "text/plain": [
       "          No   Yes\n",
       "trial      2  4584\n",
       "p3m        2  4584\n",
       "p1m        1  4585\n",
       "weekly  2567  2019\n",
       "daily   4473   113"
      ]
     },
     "execution_count": 109,
     "metadata": {},
     "output_type": "execute_result"
    }
   ],
   "source": [
    "# Create R, F, M scores\n",
    "# R score is defined by trial, p3m, p1m, weekly, daily columns\n",
    "# R score: Recency score (the more recent the visit, the higher the score)\n",
    "\n",
    "# Count number of \"Yes\" and \"No\" in trial, p3m, p1m, weekly, daily columns\n",
    "r_cols = ['trial', 'p3m', 'p1m', 'weekly', 'daily']\n",
    "segmentation_df[r_cols].apply(lambda x: x.value_counts(), axis=0).transpose()\n"
   ]
  },
  {
   "cell_type": "code",
   "execution_count": 110,
   "id": "2b18a3da",
   "metadata": {},
   "outputs": [],
   "source": [
    "# Because \"No\" count in trial and p3m is very low, drop these columns\n",
    "r_cols = ['p1m', 'weekly', 'daily']\n",
    "segmentation_df = segmentation_df.drop(columns=['trial', 'p3m'], errors='ignore')"
   ]
  },
  {
   "cell_type": "code",
   "execution_count": 111,
   "id": "8f53b431",
   "metadata": {},
   "outputs": [],
   "source": [
    "# Set scoring rules for R\n",
    "def r_score(row):\n",
    "    score = 1                   # If p1m is \"No\", then 1\n",
    "    if row['p1m'] == 'Yes':\n",
    "        score += 1              # If p1m is \"Yes\", then 2\n",
    "    if row['weekly'] == 'Yes':\n",
    "        score += 1              # If weekly is \"Yes\", then 3\n",
    "    if row['daily'] == 'Yes':\n",
    "        score += 1              # If daily is \"Yes\", then 4\n",
    "    return score\n",
    "segmentation_df['R_score'] = segmentation_df.apply(r_score, axis=1)"
   ]
  },
  {
   "cell_type": "code",
   "execution_count": 112,
   "id": "65b5843b",
   "metadata": {},
   "outputs": [
    {
     "data": {
      "text/plain": [
       "Text(0, 0.5, 'Count')"
      ]
     },
     "execution_count": 112,
     "metadata": {},
     "output_type": "execute_result"
    },
    {
     "data": {
      "image/png": "[encoded data removed]",
      "text/plain": [
       "<Figure size 1000x400 with 1 Axes>"
      ]
     },
     "metadata": {},
     "output_type": "display_data"
    }
   ],
   "source": [
    "# Plot histogram of visit columnm shwoing graph only\n",
    "plt.figure(figsize=(10, 4))\n",
    "plt.title(\"Distribution of Visit Frequency\")\n",
    "plt.hist(segmentation_df['visit'].dropna(), bins=20, edgecolor='black')\n",
    "plt.xlabel(\"Visit Frequency\")\n",
    "plt.ylabel(\"Count\")"
   ]
  },
  {
   "cell_type": "code",
   "execution_count": 113,
   "id": "f75f938b",
   "metadata": {},
   "outputs": [],
   "source": [
    "# Set scoring rules for F with quantiles\n",
    "q1 = segmentation_df['visit'].quantile(0.25)\n",
    "q2 = segmentation_df['visit'].quantile(0.5)\n",
    "q3 = segmentation_df['visit'].quantile(0.75)\n",
    "def F_score(visit):\n",
    "    if pd.isna(visit):\n",
    "        return np.nan\n",
    "    elif visit <= q1:\n",
    "        return 1\n",
    "    elif visit <= q2:\n",
    "        return 2\n",
    "    elif visit <= q3:\n",
    "        return 3\n",
    "    else:\n",
    "        return 4\n",
    "segmentation_df['F_score'] = segmentation_df['visit'].apply(F_score)"
   ]
  },
  {
   "cell_type": "code",
   "execution_count": 114,
   "id": "a8d7081e",
   "metadata": {},
   "outputs": [
    {
     "name": "stdout",
     "output_type": "stream",
     "text": [
      "['Seg.03 - Premium (VND 60K - VND 99K)'\n",
      " 'Seg.02 - Mass Asp (VND 25K - VND 59K)' 'Seg.01 - Mass (<VND 25K)'\n",
      " 'Seg.04 - Super Premium (VND 100K+)']\n"
     ]
    }
   ],
   "source": [
    "# Use segmentation column to create M score\n",
    "# Distinct segmentation values\n",
    "print(segmentation_df['segmentation'].dropna().unique())"
   ]
  },
  {
   "cell_type": "code",
   "execution_count": 115,
   "id": "75cbe5f3",
   "metadata": {},
   "outputs": [],
   "source": [
    "# Set rules for M score\n",
    "# Given avg price of a product is 35, we can set the following rules:\n",
    "def M_score(ppa):\n",
    "    if pd.isna(ppa):\n",
    "        return np.nan\n",
    "    elif ppa <= 35:\n",
    "        return 1\n",
    "    elif ppa <= 55:\n",
    "        return 2\n",
    "    elif ppa <= 80:\n",
    "        return 3\n",
    "    else:\n",
    "        return 4\n",
    "segmentation_df['M_score'] = segmentation_df['ppa'].apply(M_score)"
   ]
  },
  {
   "cell_type": "code",
   "execution_count": 116,
   "id": "9e528cd7",
   "metadata": {},
   "outputs": [],
   "source": [
    "# Concat R, F, M scores to create RFM_segment\n",
    "rfm_cols = ['R_score', 'F_score', 'M_score']\n",
    "segmentation_df['RFM_segment'] = segmentation_df[rfm_cols].astype(str).agg(''.join, axis=1)\n"
   ]
  },
  {
   "cell_type": "code",
   "execution_count": 117,
   "id": "77a82a8a",
   "metadata": {},
   "outputs": [
    {
     "name": "stdout",
     "output_type": "stream",
     "text": [
      "Counts of RFM_segment values:\n",
      "RFM_segment\n",
      "112       1\n",
      "211     311\n",
      "212    1146\n",
      "213     390\n",
      "214      77\n",
      "221      90\n",
      "222     373\n",
      "223     163\n",
      "224      16\n",
      "331     168\n",
      "332     632\n",
      "333     230\n",
      "334      38\n",
      "341     122\n",
      "342     478\n",
      "343     207\n",
      "344      31\n",
      "441      36\n",
      "442      54\n",
      "443      20\n",
      "444       3\n",
      "Name: count, dtype: int64\n"
     ]
    }
   ],
   "source": [
    "# Count unique values in RFM_segment\n",
    "print(\"Counts of RFM_segment values:\")\n",
    "print(segmentation_df['RFM_segment'].value_counts().sort_index())"
   ]
  },
  {
   "cell_type": "code",
   "execution_count": 118,
   "id": "050a8481",
   "metadata": {},
   "outputs": [
    {
     "data": {
      "image/png": "[encoded data removed]",
      "text/plain": [
       "<Figure size 1000x500 with 1 Axes>"
      ]
     },
     "metadata": {},
     "output_type": "display_data"
    }
   ],
   "source": [
    "# Conduct k-means clustering on R, F, M scores\n",
    "# Elbow method to find optimal number of clusters, silhouette score to validate the clusters\n",
    "import matplotlib.pyplot as plt\n",
    "from sklearn.metrics import silhouette_score\n",
    "from sklearn.datasets import make_blobs\n",
    "from sklearn.cluster import KMeans\n",
    "from sklearn.metrics import silhouette_samples, silhouette_score\n",
    "from sklearn.cluster import KMeans\n",
    "\n",
    "# Elbow method\n",
    "wcss = []\n",
    "for i in range(1, 11):\n",
    "    kmeans = KMeans(n_clusters=i, random_state=42)\n",
    "    #kmeans.fit(segmentation_df[['R_score', 'F_score', 'M_score']])\n",
    "    kmeans.fit(segmentation_df[['R_score', 'F_score', 'M_score']].dropna())\n",
    "    wcss.append(kmeans.inertia_)\n",
    "\n",
    "plt.figure(figsize=(10, 5))\n",
    "plt.plot(range(1, 11), wcss, marker='o')\n",
    "plt.title(\"Elbow Method For Optimal k\")\n",
    "plt.xlabel(\"Number of clusters\")\n",
    "plt.ylabel(\"WCSS\")\n",
    "plt.show()\n",
    "\n"
   ]
  },
  {
   "cell_type": "code",
   "execution_count": 119,
   "id": "f033992b",
   "metadata": {},
   "outputs": [
    {
     "name": "stdout",
     "output_type": "stream",
     "text": [
      "Silhouette Score for k=2: 0.6141\n",
      "Silhouette Score for k=3: 0.4835\n",
      "Silhouette Score for k=4: 0.4957\n",
      "Silhouette Score for k=5: 0.5113\n",
      "Silhouette Score for k=6: 0.5869\n"
     ]
    }
   ],
   "source": [
    "# Silhouette test for k from 2 to 5\n",
    "for k in range(2, 7):\n",
    "    kmeans = KMeans(n_clusters=k, random_state=42)\n",
    "    kmeans.fit(segmentation_df[['R_score', 'F_score', 'M_score']].dropna())\n",
    "    silhouette_avg = silhouette_score(segmentation_df[['R_score', 'F_score', 'M_score']], kmeans.labels_)\n",
    "    print(f\"Silhouette Score for k={k}: {silhouette_avg:.4f}\")"
   ]
  },
  {
   "cell_type": "code",
   "execution_count": 120,
   "id": "d370feb2",
   "metadata": {},
   "outputs": [],
   "source": [
    "# From elbow method and silhouette analysis, we can choose k=4\n",
    "kmeans = KMeans(n_clusters=4, random_state=42)\n",
    "segmentation_df[['R_score', 'F_score', 'M_score']] = segmentation_df[['R_score', 'F_score', 'M_score']].fillna(0)\n",
    "segmentation_df['KMeans_segment'] = kmeans.fit_predict(segmentation_df[['R_score', 'F_score', 'M_score']])"
   ]
  },
  {
   "cell_type": "code",
   "execution_count": 121,
   "id": "76a82261",
   "metadata": {},
   "outputs": [
    {
     "data": {
      "image/png": "[encoded data removed]",
      "text/plain": [
       "<Figure size 400x400 with 2 Axes>"
      ]
     },
     "metadata": {},
     "output_type": "display_data"
    }
   ],
   "source": [
    "# Heatmap of average R,F,M scores by KMeans_segment\n",
    "cluster_means = segmentation_df.groupby('KMeans_segment')[['R_score','F_score','M_score']].mean().round(2)\n",
    "plt.figure(figsize=(4, 4))\n",
    "sns.heatmap(cluster_means, annot=True, cmap='Blues', fmt='.2f')\n",
    "plt.title('Cluster Average RFM Scores')\n",
    "plt.show()"
   ]
  },
  {
   "cell_type": "code",
   "execution_count": 122,
   "id": "05a0d74e",
   "metadata": {},
   "outputs": [
    {
     "data": {
      "image/png": "[encoded data removed]",
      "text/plain": [
       "<Figure size 1200x500 with 2 Axes>"
      ]
     },
     "metadata": {},
     "output_type": "display_data"
    }
   ],
   "source": [
    "# Boxplot of visit and ppa by KMeans_segment\n",
    "fig, axes = plt.subplots(1, 2, figsize=(12, 5))\n",
    "sns.boxplot(x='KMeans_segment', y='visit', data=segmentation_df, ax=axes[0])\n",
    "axes[0].set_title('Visit Frequency by KMeans Segment')\n",
    "sns.boxplot(x='KMeans_segment', y='ppa', data=segmentation_df, ax=axes[1])\n",
    "axes[1].set_title('PPA by KMeans Segment')\n",
    "plt.tight_layout()\n",
    "plt.show()"
   ]
  },
  {
   "cell_type": "code",
   "execution_count": 123,
   "id": "1a39c8a8",
   "metadata": {},
   "outputs": [
    {
     "data": {
      "image/png": "[encoded data removed]",
      "text/plain": [
       "<Figure size 600x400 with 1 Axes>"
      ]
     },
     "metadata": {},
     "output_type": "display_data"
    },
    {
     "data": {
      "image/png": "[encoded data removed]",
      "text/plain": [
       "<Figure size 600x400 with 1 Axes>"
      ]
     },
     "metadata": {},
     "output_type": "display_data"
    },
    {
     "data": {
      "image/png": "[encoded data removed]",
      "text/plain": [
       "<Figure size 600x400 with 1 Axes>"
      ]
     },
     "metadata": {},
     "output_type": "display_data"
    }
   ],
   "source": [
    "# Scatter plot of visit and ppa colored by KMeans_segment\n",
    "plt.figure(figsize=(6, 4))\n",
    "for segment in segmentation_df['KMeans_segment'].unique():\n",
    "    subset = segmentation_df[segmentation_df['KMeans_segment'] == segment]\n",
    "    plt.scatter(subset['visit'], subset['ppa'], label=f'Segment {segment}', alpha=0.6)\n",
    "plt.title(\"Visit vs PPA by KMeans Segment\")\n",
    "plt.xlabel(\"Visit Frequency\")\n",
    "plt.ylabel(\"PPA\")\n",
    "plt.legend()\n",
    "plt.show()\n",
    "\n",
    "plt.figure(figsize=(6, 4))\n",
    "for segment in segmentation_df['KMeans_segment'].unique():\n",
    "    subset = segmentation_df[segmentation_df['KMeans_segment'] == segment]\n",
    "    plt.scatter(subset['R_score'], subset['visit'], label=f'Segment {segment}', alpha=0.6)\n",
    "plt.title(\"Recency vs Visit Frequency by KMeans Segment\")\n",
    "plt.xlabel(\"Recency\")\n",
    "plt.ylabel(\"Visit Frequency\")\n",
    "plt.legend()\n",
    "plt.show()\n",
    "plt.show()\n",
    "\n",
    "plt.figure(figsize=(6, 4))\n",
    "for segment in segmentation_df['KMeans_segment'].unique():\n",
    "    subset = segmentation_df[segmentation_df['KMeans_segment'] == segment]\n",
    "    plt.scatter(subset['R_score'], subset['ppa'], label=f'Segment {segment}', alpha=0.6)\n",
    "plt.title(\"Recency vs PPA by KMeans Segment\")\n",
    "plt.xlabel(\"Recency\")\n",
    "plt.ylabel(\"PPA\")\n",
    "plt.legend()\n",
    "plt.show()\n",
    "plt.show()\n",
    "\n"
   ]
  },
  {
   "cell_type": "code",
   "execution_count": 124,
   "id": "bd7dae38",
   "metadata": {},
   "outputs": [
    {
     "name": "stdout",
     "output_type": "stream",
     "text": [
      "Silhouette Score for k=2: 0.6141\n",
      "Silhouette Score for k=3: 0.4835\n",
      "Silhouette Score for k=4: 0.4957\n",
      "Silhouette Score for k=5: 0.5113\n",
      "Silhouette Score for k=6: 0.5869\n"
     ]
    }
   ],
   "source": [
    "# Silhouette test for k from 2 to 5\n",
    "for k in range(2, 7):\n",
    "    kmeans = KMeans(n_clusters=k, random_state=42)\n",
    "    kmeans.fit(segmentation_df[['R_score', 'F_score', 'M_score']].dropna())\n",
    "    silhouette_avg = silhouette_score(segmentation_df[['R_score', 'F_score', 'M_score']], kmeans.labels_)\n",
    "    print(f\"Silhouette Score for k={k}: {silhouette_avg:.4f}\")"
   ]
  },
  {
   "cell_type": "code",
   "execution_count": 125,
   "id": "162a5640",
   "metadata": {},
   "outputs": [],
   "source": [
    "# Map segment name\n",
    "segment_name_mapping = {\n",
    "    0: 'Casual Customers',\n",
    "    1: 'Routine Loyalists',\n",
    "    2: 'At-risk Customers',\n",
    "    3: 'Premium Customers'\n",
    "}\n",
    "\n",
    "segmentation_df['segment_name'] = segmentation_df['KMeans_segment'].map(segment_name_mapping)"
   ]
  },
  {
   "cell_type": "markdown",
   "id": "5a34ac83",
   "metadata": {},
   "source": [
    "# **Export File**"
   ]
  },
  {
   "cell_type": "code",
   "execution_count": 126,
   "id": "b95e8edc",
   "metadata": {},
   "outputs": [],
   "source": [
    "# Export cleaned data to CSV files\n",
    "file_path = r'C:\\Users\\TRUONG\\Highlands\\simple-pipeline\\data\\clean'\n",
    "\n",
    "brand_health_df.to_csv(f'{file_path}\\\\cleaned_brand_health.csv', index=False, encoding='utf-8-sig')\n",
    "brand_image_df.to_csv(f'{file_path}\\\\cleaned_brand_image.csv', index=False, encoding='utf-8-sig')\n",
    "companion_df.to_csv(f'{file_path}\\\\cleaned_companion.csv', index=False, encoding='utf-8-sig')\n",
    "competitor_data_for_filter_df.to_csv(f'{file_path}\\\\cleaned_competitor_data_for_filter.csv', index=False, encoding='utf-8-sig')\n",
    "day_of_week_df.to_csv(f'{file_path}\\\\cleaned_day_of_week.csv', index=False, encoding='utf-8-sig')\n",
    "day_part_df.to_csv(f'{file_path}\\\\cleaned_day_part.csv', index=False, encoding='utf-8-sig')\n",
    "need_state_df.to_csv(f'{file_path}\\\\cleaned_need_state.csv', index=False, encoding='utf-8-sig')\n",
    "segmentation_2017_df.to_csv(f'{file_path}\\\\cleaned_segmentation_2017.csv', index=False, encoding='utf-8-sig')\n",
    "survey_respondents_info_df.to_csv(f'{file_path}\\\\cleaned_survey_respondents_info.csv', index=False, encoding='utf-8-sig')\n",
    "segmentation_df.to_csv(f'{file_path}\\\\kmeans_segmentation.csv', index=False, encoding='utf-8-sig')\n"
   ]
  }
 ],
 "metadata": {
  "kernelspec": {
   "display_name": "highlands-py311",
   "language": "python",
   "name": "python3"
  },
  "language_info": {
   "codemirror_mode": {
    "name": "ipython",
    "version": 3
   },
   "file_extension": ".py",
   "mimetype": "text/x-python",
   "name": "python",
   "nbconvert_exporter": "python",
   "pygments_lexer": "ipython3",
   "version": "3.11.13"
  }
 },
 "nbformat": 4,
 "nbformat_minor": 5
}
