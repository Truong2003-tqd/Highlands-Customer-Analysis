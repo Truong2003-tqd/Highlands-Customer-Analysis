{
 "cells": [
  {
   "cell_type": "code",
   "execution_count": 51,
   "id": "757e486a",
   "metadata": {},
   "outputs": [
    {
     "name": "stdout",
     "output_type": "stream",
     "text": [
      "Matched: Data Scientist\n",
      "Matched: Machine Learning Engineer\n",
      "Matched: Data Analyst\n",
      "Matched: Business Intelligence Developer\n",
      "Matched: Data Engineer\n",
      "Matched: AI Specialist\n"
     ]
    }
   ],
   "source": [
    "job_roles = [\n",
    "    {'role': 'Data Scientist', 'skills': ['Python', 'SQL', 'Machine Learning'], 'job_date': '2023-05-12'},\n",
    "    {'role': 'Machine Learning Engineer', 'skills': ['Python', 'TensorFlow', 'Deep Learning'], 'job_date': '2023-05-15'},\n",
    "    {'role': 'Data Analyst', 'skills': ['SQL', 'R', 'Tableau'], 'job_date': '2023-05-10'},\n",
    "    {'role': 'Business Intelligence Developer', 'skills': ['SQL', 'PowerBI', 'Data Warehousing'], 'job_date': '2023-05-08'},\n",
    "    {'role': 'Data Engineer', 'skills': ['Python', 'Spark', 'Hadoop'], 'job_date': '2023-05-18'},\n",
    "    {'role': 'AI Specialist', 'skills': ['Python', 'PyTorch', 'AI Ethics'], 'job_date': '2023-05-20'}\n",
    "]\n",
    "\n",
    "my_skills = ['Python', 'SQL', 'R']\n",
    "\n",
    "\n",
    "for job in job_roles:\n",
    "    # Check if any of your skills are in the job's skills\n",
    "    if any(skill in job['skills'] for skill in my_skills):\n",
    "        print(\"Matched:\", job['role'])  # Job has at least one of your skills\n",
    "    else:\n",
    "        print(\"Not matched:\", job['role'])  # No matching skills\n",
    "\n"
   ]
  },
  {
   "cell_type": "code",
   "execution_count": null,
   "id": "363bc449",
   "metadata": {},
   "outputs": [
    {
     "name": "stdout",
     "output_type": "stream",
     "text": [
      "No match Machine Learning Engineer\n",
      "No match Business Intelligence Developer\n",
      "No match Data Engineer\n",
      "No match AI Specialist\n",
      "\n",
      "Qualified Jobs:\n",
      "Role: Data Scientist, Matched Skills: ['Python', 'SQL']\n",
      "Role: Data Analyst, Matched Skills: ['SQL', 'R']\n"
     ]
    },
    {
     "data": {
      "text/plain": [
       "list"
      ]
     },
     "execution_count": 72,
     "metadata": {},
     "output_type": "execute_result"
    }
   ],
   "source": [
    "# Return job if match at least 2 skills\n",
    "# Output return a list of tuples (role, matched_skills)\n",
    "qualified_jobs = []\n",
    "\n",
    "for job in job_roles:\n",
    "    matched_skills = [skill for skill in my_skills if skill in job['skills']]\n",
    "    if len(matched_skills) >= 2:\n",
    "        qualified_jobs.append((job['role'], matched_skills))\n",
    "    else:\n",
    "        print('No match', job['role'])\n",
    "\n",
    "print(\"\\nQualified Jobs:\")\n",
    "for role, skills in qualified_jobs:\n",
    "    print(f\"Role: {role}, Matched Skills: {skills}\")\n"
   ]
  },
  {
   "cell_type": "code",
   "execution_count": 73,
   "id": "677f7676",
   "metadata": {},
   "outputs": [
    {
     "name": "stdout",
     "output_type": "stream",
     "text": [
      "No match Machine Learning Engineer\n",
      "No match Business Intelligence Developer\n",
      "No match Data Engineer\n",
      "No match AI Specialist\n",
      "\n",
      "Qualified Jobs:\n",
      "Role: Data Scientist, Matched Skills: {'SQL', 'Python'}\n",
      "Role: Data Analyst, Matched Skills: {'SQL', 'R'}\n"
     ]
    }
   ],
   "source": [
    "# Return job if match at least 2 skills\n",
    "# Use set intersection for better performance with large lists\n",
    "# Output return a set of tuples (role, matched_skills)\n",
    "qualified_jobs = []\n",
    "for job in job_roles:\n",
    "    matched_skills = set(my_skills) & set(job['skills'])  # find common skills\n",
    "    \n",
    "    if len(matched_skills) >= 2:\n",
    "        qualified_jobs.append((job['role'], matched_skills))\n",
    "    else:\n",
    "        print('No match', job['role'])\n",
    "\n",
    "print(\"\\nQualified Jobs:\")\n",
    "for role, skills in qualified_jobs:\n",
    "    print(f\"Role: {role}, Matched Skills: {skills}\")\n",
    "\n",
    "\n"
   ]
  },
  {
   "cell_type": "code",
   "execution_count": 76,
   "id": "85c1a160",
   "metadata": {},
   "outputs": [],
   "source": [
    "jobs_data = [\n",
    "    {\n",
    "        \"job_title\": \"Data Scientist\",\n",
    "        \"job_skills\": [\"Python\", \"SQL\", \"Machine Learning\", \"Statistics\"],\n",
    "        \"remote\": True\n",
    "    },\n",
    "    {\n",
    "        \"job_title\": \"Data Analyst\",\n",
    "        \"job_skills\": [\"SQL\", \"Excel\", \"Tableau\", \"Data Visualization\"],\n",
    "        \"remote\": False\n",
    "    },\n",
    "    {\n",
    "        \"job_title\": \"Machine Learning Engineer\",\n",
    "        \"job_skills\": [\"Python\", \"TensorFlow\", \"Deep Learning\", \"MLOps\"],\n",
    "        \"remote\": True\n",
    "    },\n",
    "    {\n",
    "        \"job_title\": \"Business Intelligence Developer\",\n",
    "        \"job_skills\": [\"SQL\", \"PowerBI\", \"Data Warehousing\", \"ETL\"],\n",
    "        \"remote\": False\n",
    "    },\n",
    "    {\n",
    "        \"job_title\": \"Data Engineer\",\n",
    "        \"job_skills\": [\"Python\", \"Spark\", \"Hadoop\", \"AWS\"],\n",
    "        \"remote\": True\n",
    "    },\n",
    "    {\n",
    "        \"job_title\": \"AI Specialist\",\n",
    "        \"job_skills\": [\"Python\", \"PyTorch\", \"Natural Language Processing\", \"AI Ethics\"],\n",
    "        \"remote\": False\n",
    "    },\n",
    "    {\n",
    "        \"job_title\": \"Data Architect\",\n",
    "        \"job_skills\": [\"SQL\", \"Cloud Architecture\", \"Data Modeling\", \"Snowflake\"],\n",
    "        \"remote\": True\n",
    "    },\n",
    "    {\n",
    "        \"job_title\": \"Data Governance Manager\",\n",
    "        \"job_skills\": [\"Data Privacy\", \"Compliance\", \"Data Cataloging\", \"SQL\"],\n",
    "        \"remote\": False\n",
    "    },\n",
    "    {\n",
    "        \"job_title\": \"Big Data Engineer\",\n",
    "        \"job_skills\": [\"Scala\", \"Kafka\", \"Spark\", \"NoSQL\"],\n",
    "        \"remote\": True\n",
    "    },\n",
    "    {\n",
    "        \"job_title\": \"Analytics Manager\",\n",
    "        \"job_skills\": [\"Python\", \"SQL\", \"Storytelling\", \"Project Management\"],\n",
    "        \"remote\": False\n",
    "    }\n",
    "]\n",
    "\n",
    "\n"
   ]
  },
  {
   "cell_type": "code",
   "execution_count": 84,
   "id": "00c493ab",
   "metadata": {},
   "outputs": [
    {
     "data": {
      "text/plain": [
       "[{'job_title': 'Data Scientist',\n",
       "  'job_skills': ['Python', 'SQL', 'Machine Learning', 'Statistics'],\n",
       "  'remote': True},\n",
       " {'job_title': 'Machine Learning Engineer',\n",
       "  'job_skills': ['Python', 'TensorFlow', 'Deep Learning', 'MLOps'],\n",
       "  'remote': True},\n",
       " {'job_title': 'Data Engineer',\n",
       "  'job_skills': ['Python', 'Spark', 'Hadoop', 'AWS'],\n",
       "  'remote': True}]"
      ]
     },
     "execution_count": 84,
     "metadata": {},
     "output_type": "execute_result"
    }
   ],
   "source": [
    "list(filter( lambda job: 'Python' in job['job_skills'] and job['remote'], jobs_data))"
   ]
  },
  {
   "cell_type": "code",
   "execution_count": 111,
   "id": "7c4dbef2",
   "metadata": {},
   "outputs": [],
   "source": [
    "data_science_job = [\n",
    "    {'role': 'Data Scientist', 'skills': \"['Python', 'SQL', 'Machine Learning']\", 'job_date': '2023-05-12'},\n",
    "    {'role': 'Machine Learning Engineer', 'skills': \"['Python', 'TensorFlow', 'Deep Learning']\", 'job_date': '2023-05-15'},\n",
    "    {'role': 'Data Analyst', 'skills': \"['SQL', 'R', 'Tableau']\", 'job_date': '2023-05-10'},\n",
    "    {'role': 'Business Intelligence Developer', 'skills': \"['SQL', 'PowerBI', 'Data Warehousing']\", 'job_date': '2023-05-08'},\n",
    "    {'role': 'Data Engineer', 'skills': \"['Python', 'Spark', 'Hadoop']\", 'job_date': '2023-05-18'},\n",
    "    {'role': 'AI Specialist', 'skills': \"['Python', 'PyTorch', 'AI Ethics']\", 'job_date': '2023-05-20'}\n",
    "]\n"
   ]
  },
  {
   "cell_type": "code",
   "execution_count": 112,
   "id": "e9a9486c",
   "metadata": {},
   "outputs": [
    {
     "name": "stdout",
     "output_type": "stream",
     "text": [
      "{'role': 'Data Scientist', 'skills': \"['Python', 'SQL', 'Machine Learning']\", 'job_date': datetime.date(2023, 5, 12), 'job_skills': ['Python', 'SQL', 'Machine Learning']}\n",
      "{'role': 'Machine Learning Engineer', 'skills': \"['Python', 'TensorFlow', 'Deep Learning']\", 'job_date': datetime.date(2023, 5, 15), 'job_skills': ['Python', 'TensorFlow', 'Deep Learning']}\n",
      "{'role': 'Data Analyst', 'skills': \"['SQL', 'R', 'Tableau']\", 'job_date': datetime.date(2023, 5, 10), 'job_skills': ['SQL', 'R', 'Tableau']}\n",
      "{'role': 'Business Intelligence Developer', 'skills': \"['SQL', 'PowerBI', 'Data Warehousing']\", 'job_date': datetime.date(2023, 5, 8), 'job_skills': ['SQL', 'PowerBI', 'Data Warehousing']}\n",
      "{'role': 'Data Engineer', 'skills': \"['Python', 'Spark', 'Hadoop']\", 'job_date': datetime.date(2023, 5, 18), 'job_skills': ['Python', 'Spark', 'Hadoop']}\n",
      "{'role': 'AI Specialist', 'skills': \"['Python', 'PyTorch', 'AI Ethics']\", 'job_date': datetime.date(2023, 5, 20), 'job_skills': ['Python', 'PyTorch', 'AI Ethics']}\n"
     ]
    }
   ],
   "source": [
    "import ast\n",
    "from datetime import datetime, date\n",
    "\n",
    "for job in data_science_job:\n",
    "    job['job_date'] = datetime.strptime(job['job_date'], '%Y-%m-%d').date()\n",
    "    job['job_skills'] = ast.literal_eval(job['skills'])\n",
    "    print(job)"
   ]
  },
  {
   "cell_type": "code",
   "execution_count": 2,
   "id": "bd520a00",
   "metadata": {},
   "outputs": [],
   "source": [
    "class BaseSalary:\n",
    "    def __init__(self,base_salary):\n",
    "        self.base_salary = base_salary\n",
    "        pass"
   ]
  },
  {
   "cell_type": "code",
   "execution_count": 5,
   "id": "6510ca11",
   "metadata": {},
   "outputs": [
    {
     "data": {
      "text/plain": [
       "120000"
      ]
     },
     "execution_count": 5,
     "metadata": {},
     "output_type": "execute_result"
    }
   ],
   "source": [
    "salary = BaseSalary(120000)\n",
    "salary.base_salary"
   ]
  }
 ],
 "metadata": {
  "kernelspec": {
   "display_name": "highlands-py311",
   "language": "python",
   "name": "python3"
  },
  "language_info": {
   "codemirror_mode": {
    "name": "ipython",
    "version": 3
   },
   "file_extension": ".py",
   "mimetype": "text/x-python",
   "name": "python",
   "nbconvert_exporter": "python",
   "pygments_lexer": "ipython3",
   "version": "3.11.13"
  }
 },
 "nbformat": 4,
 "nbformat_minor": 5
}
